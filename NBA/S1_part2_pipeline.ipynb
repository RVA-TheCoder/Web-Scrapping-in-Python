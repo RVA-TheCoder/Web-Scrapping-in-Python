{
 "cells": [
  {
   "cell_type": "code",
   "execution_count": 1,
   "id": "28a1f7b9",
   "metadata": {},
   "outputs": [],
   "source": [
    "import pandas as pd\n",
    "import numpy as np\n",
    "import matplotlib.pyplot as plt\n",
    "import seaborn as sns"
   ]
  },
  {
   "cell_type": "code",
   "execution_count": null,
   "id": "dbbfe473",
   "metadata": {},
   "outputs": [],
   "source": []
  },
  {
   "cell_type": "markdown",
   "id": "b36908ef",
   "metadata": {},
   "source": [
    "## STEP 1 : Data Collection"
   ]
  },
  {
   "cell_type": "code",
   "execution_count": null,
   "id": "aba15aa8",
   "metadata": {},
   "outputs": [],
   "source": []
  },
  {
   "cell_type": "code",
   "execution_count": 2,
   "id": "3dfd557a",
   "metadata": {},
   "outputs": [],
   "source": [
    "filepath_House_Price = r\"housing.csv\""
   ]
  },
  {
   "cell_type": "code",
   "execution_count": 3,
   "id": "e4092c25",
   "metadata": {},
   "outputs": [],
   "source": [
    "houses = pd.read_csv(filepath_House_Price , header = 0 )"
   ]
  },
  {
   "cell_type": "code",
   "execution_count": 4,
   "id": "e01a2867",
   "metadata": {
    "scrolled": true
   },
   "outputs": [
    {
     "data": {
      "text/html": [
       "<div>\n",
       "<style scoped>\n",
       "    .dataframe tbody tr th:only-of-type {\n",
       "        vertical-align: middle;\n",
       "    }\n",
       "\n",
       "    .dataframe tbody tr th {\n",
       "        vertical-align: top;\n",
       "    }\n",
       "\n",
       "    .dataframe thead th {\n",
       "        text-align: right;\n",
       "    }\n",
       "</style>\n",
       "<table border=\"1\" class=\"dataframe\">\n",
       "  <thead>\n",
       "    <tr style=\"text-align: right;\">\n",
       "      <th></th>\n",
       "      <th>longitude</th>\n",
       "      <th>latitude</th>\n",
       "      <th>housing_median_age</th>\n",
       "      <th>total_rooms</th>\n",
       "      <th>total_bedrooms</th>\n",
       "      <th>population</th>\n",
       "      <th>households</th>\n",
       "      <th>median_income</th>\n",
       "      <th>median_house_value</th>\n",
       "      <th>ocean_proximity</th>\n",
       "    </tr>\n",
       "  </thead>\n",
       "  <tbody>\n",
       "    <tr>\n",
       "      <th>0</th>\n",
       "      <td>-122.23</td>\n",
       "      <td>37.88</td>\n",
       "      <td>41.0</td>\n",
       "      <td>880.0</td>\n",
       "      <td>129.0</td>\n",
       "      <td>322.0</td>\n",
       "      <td>126.0</td>\n",
       "      <td>8.3252</td>\n",
       "      <td>452600.0</td>\n",
       "      <td>NEAR BAY</td>\n",
       "    </tr>\n",
       "    <tr>\n",
       "      <th>1</th>\n",
       "      <td>-122.22</td>\n",
       "      <td>37.86</td>\n",
       "      <td>21.0</td>\n",
       "      <td>7099.0</td>\n",
       "      <td>1106.0</td>\n",
       "      <td>2401.0</td>\n",
       "      <td>1138.0</td>\n",
       "      <td>8.3014</td>\n",
       "      <td>358500.0</td>\n",
       "      <td>NEAR BAY</td>\n",
       "    </tr>\n",
       "    <tr>\n",
       "      <th>2</th>\n",
       "      <td>-122.24</td>\n",
       "      <td>37.85</td>\n",
       "      <td>52.0</td>\n",
       "      <td>1467.0</td>\n",
       "      <td>190.0</td>\n",
       "      <td>496.0</td>\n",
       "      <td>177.0</td>\n",
       "      <td>7.2574</td>\n",
       "      <td>352100.0</td>\n",
       "      <td>NEAR BAY</td>\n",
       "    </tr>\n",
       "    <tr>\n",
       "      <th>3</th>\n",
       "      <td>-122.25</td>\n",
       "      <td>37.85</td>\n",
       "      <td>52.0</td>\n",
       "      <td>1274.0</td>\n",
       "      <td>235.0</td>\n",
       "      <td>558.0</td>\n",
       "      <td>219.0</td>\n",
       "      <td>5.6431</td>\n",
       "      <td>341300.0</td>\n",
       "      <td>NEAR BAY</td>\n",
       "    </tr>\n",
       "    <tr>\n",
       "      <th>4</th>\n",
       "      <td>-122.25</td>\n",
       "      <td>37.85</td>\n",
       "      <td>52.0</td>\n",
       "      <td>1627.0</td>\n",
       "      <td>280.0</td>\n",
       "      <td>565.0</td>\n",
       "      <td>259.0</td>\n",
       "      <td>3.8462</td>\n",
       "      <td>342200.0</td>\n",
       "      <td>NEAR BAY</td>\n",
       "    </tr>\n",
       "  </tbody>\n",
       "</table>\n",
       "</div>"
      ],
      "text/plain": [
       "   longitude  latitude  housing_median_age  total_rooms  total_bedrooms  \\\n",
       "0    -122.23     37.88                41.0        880.0           129.0   \n",
       "1    -122.22     37.86                21.0       7099.0          1106.0   \n",
       "2    -122.24     37.85                52.0       1467.0           190.0   \n",
       "3    -122.25     37.85                52.0       1274.0           235.0   \n",
       "4    -122.25     37.85                52.0       1627.0           280.0   \n",
       "\n",
       "   population  households  median_income  median_house_value ocean_proximity  \n",
       "0       322.0       126.0         8.3252            452600.0        NEAR BAY  \n",
       "1      2401.0      1138.0         8.3014            358500.0        NEAR BAY  \n",
       "2       496.0       177.0         7.2574            352100.0        NEAR BAY  \n",
       "3       558.0       219.0         5.6431            341300.0        NEAR BAY  \n",
       "4       565.0       259.0         3.8462            342200.0        NEAR BAY  "
      ]
     },
     "execution_count": 4,
     "metadata": {},
     "output_type": "execute_result"
    }
   ],
   "source": [
    "houses.head()"
   ]
  },
  {
   "cell_type": "code",
   "execution_count": 5,
   "id": "8402f72f",
   "metadata": {},
   "outputs": [
    {
     "data": {
      "text/plain": [
       "(20640, 10)"
      ]
     },
     "execution_count": 5,
     "metadata": {},
     "output_type": "execute_result"
    }
   ],
   "source": [
    "houses.shape"
   ]
  },
  {
   "cell_type": "code",
   "execution_count": null,
   "id": "f5383816",
   "metadata": {},
   "outputs": [],
   "source": []
  },
  {
   "cell_type": "markdown",
   "id": "479ef3d7",
   "metadata": {},
   "source": [
    "## STEP 2 : Package importing "
   ]
  },
  {
   "cell_type": "code",
   "execution_count": null,
   "id": "982f8a9c",
   "metadata": {},
   "outputs": [],
   "source": []
  },
  {
   "cell_type": "code",
   "execution_count": 6,
   "id": "6770e8f1",
   "metadata": {},
   "outputs": [],
   "source": [
    "from sklearn.impute import SimpleImputer\n",
    "# from sklearn.preprocessing import StandardScaler\n",
    "\n",
    "# from sklearn.preprocessing import OrdinalEncoder\n",
    "from sklearn.preprocessing import OneHotEncoder\n",
    "\n",
    "from sklearn.pipeline import Pipeline                \n",
    "from sklearn.compose import ColumnTransformer\n",
    "\n",
    "from sklearn.model_selection import train_test_split"
   ]
  },
  {
   "cell_type": "code",
   "execution_count": null,
   "id": "7dcb69d8",
   "metadata": {},
   "outputs": [],
   "source": []
  },
  {
   "cell_type": "markdown",
   "id": "3d24d8c0",
   "metadata": {},
   "source": [
    "## STEP 3 : Pipeline"
   ]
  },
  {
   "cell_type": "code",
   "execution_count": 7,
   "id": "5d88b12d",
   "metadata": {},
   "outputs": [],
   "source": [
    "df = houses.copy()"
   ]
  },
  {
   "cell_type": "code",
   "execution_count": null,
   "id": "10cf5a72",
   "metadata": {},
   "outputs": [],
   "source": []
  },
  {
   "cell_type": "code",
   "execution_count": 8,
   "id": "7c3fed9e",
   "metadata": {},
   "outputs": [],
   "source": [
    "def num_cat_col_list(DF) : \n",
    "    \n",
    "    from pandas.api.types import is_string_dtype, is_numeric_dtype\n",
    "\n",
    "    \n",
    "    num_list = []\n",
    "    cat_list = []\n",
    "\n",
    "    for column in DF:\n",
    "\n",
    "        if is_numeric_dtype(DF[column]):\n",
    "            num_list.append(column)\n",
    "\n",
    "        elif is_string_dtype(DF[column]):\n",
    "            cat_list.append(column)\n",
    "\n",
    "    return (num_list , cat_list)"
   ]
  },
  {
   "cell_type": "code",
   "execution_count": 9,
   "id": "659c532d",
   "metadata": {},
   "outputs": [
    {
     "name": "stdout",
     "output_type": "stream",
     "text": [
      "Numerical column :  ['longitude', 'latitude', 'housing_median_age', 'total_rooms', 'total_bedrooms', 'population', 'households', 'median_income', 'median_house_value']\n",
      "\n",
      "Categorical column :  ['ocean_proximity']\n"
     ]
    }
   ],
   "source": [
    "num_list , cat_list = num_cat_col_list(DF = df)\n",
    "\n",
    "print(\"Numerical column : \",num_list)\n",
    "print()\n",
    "print(\"Categorical column : \",cat_list)"
   ]
  },
  {
   "cell_type": "code",
   "execution_count": null,
   "id": "ffcbf67f",
   "metadata": {},
   "outputs": [],
   "source": []
  },
  {
   "cell_type": "markdown",
   "id": "828e2195",
   "metadata": {},
   "source": [
    "### Making changes to num_feat and cat_feat list"
   ]
  },
  {
   "cell_type": "code",
   "execution_count": 10,
   "id": "00fc9d0c",
   "metadata": {},
   "outputs": [],
   "source": [
    "# num_list\n",
    "\n",
    "num_feat = num_list.copy()\n",
    "num_feat.remove('median_house_value')\n",
    "\n",
    "cat_feat = cat_list.copy()"
   ]
  },
  {
   "cell_type": "code",
   "execution_count": null,
   "id": "bda2c941",
   "metadata": {},
   "outputs": [],
   "source": []
  },
  {
   "cell_type": "code",
   "execution_count": 11,
   "id": "63d0c9e9",
   "metadata": {},
   "outputs": [],
   "source": [
    "def pipeline_trans(DF,num_feat ,cat_feat):\n",
    "    \n",
    "    # Separating Independent and dependent variables\n",
    "    X  = DF.drop(labels = ['median_house_value' ], axis = 1)\n",
    "    y  = DF['median_house_value']\n",
    "    \n",
    "    # Train-Test Split\n",
    "    X_train,X_test,y_train,y_test = train_test_split(X,y , random_state= 100 ,test_size = 0.2 )\n",
    "    \n",
    "    # Pipeline\n",
    "    ohe = OneHotEncoder()\n",
    "    \n",
    "    num_pipeline = Pipeline([('Imputer' , SimpleImputer(strategy='median'))                       \n",
    "                            ])\n",
    "    \n",
    "    cat_pipeline = Pipeline([('Nominal Encoding' ,ohe)])\n",
    "    \n",
    "    pipeline = ColumnTransformer([(\"Num pipeline\" , num_pipeline , num_feat),\n",
    "                                (\"Nominal pipeline\" , cat_pipeline , cat_feat)\n",
    "                                ])\n",
    "    \n",
    "    # Fit and Transformation\n",
    "    X_train_tr = pipeline.fit_transform(X_train)\n",
    "    X_test_tr =  pipeline.transform(X_test)\n",
    "    \n",
    "    # Output Columns after tranformation\n",
    "    out_cols = []\n",
    "\n",
    "    i= 0  # counter\n",
    "\n",
    "    for col in pipeline.get_feature_names_out():\n",
    "        out_cols.append(col.split(\"__\")[-1])\n",
    "        #out_cols[i] = out_cols[i].split(\"_\")[-1]\n",
    "\n",
    "        i += 1\n",
    "    # print(out_cols)\n",
    "    \n",
    "    # Conversion to train and test Dataframes\n",
    "    X_train_tr_df = pd.DataFrame(X_train_tr, columns= out_cols)\n",
    "    X_test_tr_df = pd.DataFrame(X_test_tr , columns = out_cols)\n",
    "    \n",
    "    y_train.reset_index(drop = True , inplace = True)\n",
    "    y_test.reset_index(drop = True , inplace = True)\n",
    "    \n",
    "    df_train_trans = pd.concat([X_train_tr_df,y_train] ,axis = 1 )\n",
    "    df_test_trans = pd.concat([X_test_tr_df,y_test] ,axis = 1 )\n",
    "    \n",
    "    return df_train_trans,df_test_trans"
   ]
  },
  {
   "cell_type": "code",
   "execution_count": null,
   "id": "fdad9630",
   "metadata": {},
   "outputs": [],
   "source": []
  },
  {
   "cell_type": "code",
   "execution_count": 12,
   "id": "56740a15",
   "metadata": {},
   "outputs": [],
   "source": [
    "df_train_tr ,df_test_tr = pipeline_trans(DF = df , num_feat = num_feat , cat_feat = cat_feat)"
   ]
  },
  {
   "cell_type": "code",
   "execution_count": null,
   "id": "be9fb31d",
   "metadata": {},
   "outputs": [],
   "source": []
  },
  {
   "cell_type": "code",
   "execution_count": 13,
   "id": "234f9ff7",
   "metadata": {},
   "outputs": [
    {
     "data": {
      "text/html": [
       "<div>\n",
       "<style scoped>\n",
       "    .dataframe tbody tr th:only-of-type {\n",
       "        vertical-align: middle;\n",
       "    }\n",
       "\n",
       "    .dataframe tbody tr th {\n",
       "        vertical-align: top;\n",
       "    }\n",
       "\n",
       "    .dataframe thead th {\n",
       "        text-align: right;\n",
       "    }\n",
       "</style>\n",
       "<table border=\"1\" class=\"dataframe\">\n",
       "  <thead>\n",
       "    <tr style=\"text-align: right;\">\n",
       "      <th></th>\n",
       "      <th>longitude</th>\n",
       "      <th>latitude</th>\n",
       "      <th>housing_median_age</th>\n",
       "      <th>total_rooms</th>\n",
       "      <th>total_bedrooms</th>\n",
       "      <th>population</th>\n",
       "      <th>households</th>\n",
       "      <th>median_income</th>\n",
       "      <th>ocean_proximity_&lt;1H OCEAN</th>\n",
       "      <th>ocean_proximity_INLAND</th>\n",
       "      <th>ocean_proximity_ISLAND</th>\n",
       "      <th>ocean_proximity_NEAR BAY</th>\n",
       "      <th>ocean_proximity_NEAR OCEAN</th>\n",
       "      <th>median_house_value</th>\n",
       "    </tr>\n",
       "  </thead>\n",
       "  <tbody>\n",
       "    <tr>\n",
       "      <th>0</th>\n",
       "      <td>-122.70</td>\n",
       "      <td>39.14</td>\n",
       "      <td>13.0</td>\n",
       "      <td>532.0</td>\n",
       "      <td>111.0</td>\n",
       "      <td>214.0</td>\n",
       "      <td>62.0</td>\n",
       "      <td>3.3929</td>\n",
       "      <td>0.0</td>\n",
       "      <td>1.0</td>\n",
       "      <td>0.0</td>\n",
       "      <td>0.0</td>\n",
       "      <td>0.0</td>\n",
       "      <td>108300.0</td>\n",
       "    </tr>\n",
       "    <tr>\n",
       "      <th>1</th>\n",
       "      <td>-120.83</td>\n",
       "      <td>35.32</td>\n",
       "      <td>11.0</td>\n",
       "      <td>3252.0</td>\n",
       "      <td>701.0</td>\n",
       "      <td>1814.0</td>\n",
       "      <td>660.0</td>\n",
       "      <td>3.2226</td>\n",
       "      <td>0.0</td>\n",
       "      <td>0.0</td>\n",
       "      <td>0.0</td>\n",
       "      <td>0.0</td>\n",
       "      <td>1.0</td>\n",
       "      <td>183200.0</td>\n",
       "    </tr>\n",
       "    <tr>\n",
       "      <th>2</th>\n",
       "      <td>-122.31</td>\n",
       "      <td>40.49</td>\n",
       "      <td>18.0</td>\n",
       "      <td>4026.0</td>\n",
       "      <td>718.0</td>\n",
       "      <td>1731.0</td>\n",
       "      <td>705.0</td>\n",
       "      <td>3.3500</td>\n",
       "      <td>0.0</td>\n",
       "      <td>1.0</td>\n",
       "      <td>0.0</td>\n",
       "      <td>0.0</td>\n",
       "      <td>0.0</td>\n",
       "      <td>118400.0</td>\n",
       "    </tr>\n",
       "  </tbody>\n",
       "</table>\n",
       "</div>"
      ],
      "text/plain": [
       "   longitude  latitude  housing_median_age  total_rooms  total_bedrooms  \\\n",
       "0    -122.70     39.14                13.0        532.0           111.0   \n",
       "1    -120.83     35.32                11.0       3252.0           701.0   \n",
       "2    -122.31     40.49                18.0       4026.0           718.0   \n",
       "\n",
       "   population  households  median_income  ocean_proximity_<1H OCEAN  \\\n",
       "0       214.0        62.0         3.3929                        0.0   \n",
       "1      1814.0       660.0         3.2226                        0.0   \n",
       "2      1731.0       705.0         3.3500                        0.0   \n",
       "\n",
       "   ocean_proximity_INLAND  ocean_proximity_ISLAND  ocean_proximity_NEAR BAY  \\\n",
       "0                     1.0                     0.0                       0.0   \n",
       "1                     0.0                     0.0                       0.0   \n",
       "2                     1.0                     0.0                       0.0   \n",
       "\n",
       "   ocean_proximity_NEAR OCEAN  median_house_value  \n",
       "0                         0.0            108300.0  \n",
       "1                         1.0            183200.0  \n",
       "2                         0.0            118400.0  "
      ]
     },
     "execution_count": 13,
     "metadata": {},
     "output_type": "execute_result"
    }
   ],
   "source": [
    "df_train_tr.head(3)"
   ]
  },
  {
   "cell_type": "code",
   "execution_count": null,
   "id": "8f290f60",
   "metadata": {},
   "outputs": [],
   "source": []
  },
  {
   "cell_type": "code",
   "execution_count": 14,
   "id": "55d6394f",
   "metadata": {},
   "outputs": [
    {
     "data": {
      "text/html": [
       "<div>\n",
       "<style scoped>\n",
       "    .dataframe tbody tr th:only-of-type {\n",
       "        vertical-align: middle;\n",
       "    }\n",
       "\n",
       "    .dataframe tbody tr th {\n",
       "        vertical-align: top;\n",
       "    }\n",
       "\n",
       "    .dataframe thead th {\n",
       "        text-align: right;\n",
       "    }\n",
       "</style>\n",
       "<table border=\"1\" class=\"dataframe\">\n",
       "  <thead>\n",
       "    <tr style=\"text-align: right;\">\n",
       "      <th></th>\n",
       "      <th>longitude</th>\n",
       "      <th>latitude</th>\n",
       "      <th>housing_median_age</th>\n",
       "      <th>total_rooms</th>\n",
       "      <th>total_bedrooms</th>\n",
       "      <th>population</th>\n",
       "      <th>households</th>\n",
       "      <th>median_income</th>\n",
       "      <th>ocean_proximity_&lt;1H OCEAN</th>\n",
       "      <th>ocean_proximity_INLAND</th>\n",
       "      <th>ocean_proximity_ISLAND</th>\n",
       "      <th>ocean_proximity_NEAR BAY</th>\n",
       "      <th>ocean_proximity_NEAR OCEAN</th>\n",
       "      <th>median_house_value</th>\n",
       "    </tr>\n",
       "  </thead>\n",
       "  <tbody>\n",
       "    <tr>\n",
       "      <th>0</th>\n",
       "      <td>-118.10</td>\n",
       "      <td>33.81</td>\n",
       "      <td>36.0</td>\n",
       "      <td>1111.0</td>\n",
       "      <td>184.0</td>\n",
       "      <td>444.0</td>\n",
       "      <td>177.0</td>\n",
       "      <td>3.7031</td>\n",
       "      <td>1.0</td>\n",
       "      <td>0.0</td>\n",
       "      <td>0.0</td>\n",
       "      <td>0.0</td>\n",
       "      <td>0.0</td>\n",
       "      <td>245300.0</td>\n",
       "    </tr>\n",
       "    <tr>\n",
       "      <th>1</th>\n",
       "      <td>-122.27</td>\n",
       "      <td>37.82</td>\n",
       "      <td>52.0</td>\n",
       "      <td>1630.0</td>\n",
       "      <td>456.0</td>\n",
       "      <td>1162.0</td>\n",
       "      <td>400.0</td>\n",
       "      <td>1.2475</td>\n",
       "      <td>0.0</td>\n",
       "      <td>0.0</td>\n",
       "      <td>0.0</td>\n",
       "      <td>1.0</td>\n",
       "      <td>0.0</td>\n",
       "      <td>104200.0</td>\n",
       "    </tr>\n",
       "    <tr>\n",
       "      <th>2</th>\n",
       "      <td>-119.12</td>\n",
       "      <td>35.37</td>\n",
       "      <td>13.0</td>\n",
       "      <td>4527.0</td>\n",
       "      <td>713.0</td>\n",
       "      <td>2170.0</td>\n",
       "      <td>671.0</td>\n",
       "      <td>4.8266</td>\n",
       "      <td>0.0</td>\n",
       "      <td>1.0</td>\n",
       "      <td>0.0</td>\n",
       "      <td>0.0</td>\n",
       "      <td>0.0</td>\n",
       "      <td>146200.0</td>\n",
       "    </tr>\n",
       "  </tbody>\n",
       "</table>\n",
       "</div>"
      ],
      "text/plain": [
       "   longitude  latitude  housing_median_age  total_rooms  total_bedrooms  \\\n",
       "0    -118.10     33.81                36.0       1111.0           184.0   \n",
       "1    -122.27     37.82                52.0       1630.0           456.0   \n",
       "2    -119.12     35.37                13.0       4527.0           713.0   \n",
       "\n",
       "   population  households  median_income  ocean_proximity_<1H OCEAN  \\\n",
       "0       444.0       177.0         3.7031                        1.0   \n",
       "1      1162.0       400.0         1.2475                        0.0   \n",
       "2      2170.0       671.0         4.8266                        0.0   \n",
       "\n",
       "   ocean_proximity_INLAND  ocean_proximity_ISLAND  ocean_proximity_NEAR BAY  \\\n",
       "0                     0.0                     0.0                       0.0   \n",
       "1                     0.0                     0.0                       1.0   \n",
       "2                     1.0                     0.0                       0.0   \n",
       "\n",
       "   ocean_proximity_NEAR OCEAN  median_house_value  \n",
       "0                         0.0            245300.0  \n",
       "1                         0.0            104200.0  \n",
       "2                         0.0            146200.0  "
      ]
     },
     "execution_count": 14,
     "metadata": {},
     "output_type": "execute_result"
    }
   ],
   "source": [
    "df_test_tr.head(3)"
   ]
  },
  {
   "cell_type": "code",
   "execution_count": null,
   "id": "cc7e1362",
   "metadata": {},
   "outputs": [],
   "source": []
  },
  {
   "cell_type": "markdown",
   "id": "d508fa7c",
   "metadata": {},
   "source": [
    "## STEP 4 : Export the DF as a .csv file."
   ]
  },
  {
   "cell_type": "code",
   "execution_count": null,
   "id": "6d8fba44",
   "metadata": {},
   "outputs": [],
   "source": []
  },
  {
   "cell_type": "code",
   "execution_count": 15,
   "id": "444a45ea",
   "metadata": {},
   "outputs": [],
   "source": [
    "D_train = df_train_tr.copy()\n",
    "D_test = df_test_tr.copy()"
   ]
  },
  {
   "cell_type": "code",
   "execution_count": null,
   "id": "66ccf14f",
   "metadata": {},
   "outputs": [],
   "source": []
  },
  {
   "cell_type": "code",
   "execution_count": 16,
   "id": "de8d2d17",
   "metadata": {},
   "outputs": [],
   "source": [
    "D_train.to_csv(r\"S1_Part2_Pipeline_Train_DS.csv\")\n",
    "D_test.to_csv(r\"S1_Part2_Pipeline_Test_DS.csv\")"
   ]
  },
  {
   "cell_type": "code",
   "execution_count": null,
   "id": "696ae28b",
   "metadata": {},
   "outputs": [],
   "source": []
  },
  {
   "cell_type": "code",
   "execution_count": null,
   "id": "5adda768",
   "metadata": {},
   "outputs": [],
   "source": []
  }
 ],
 "metadata": {
  "kernelspec": {
   "display_name": "Python 3 (ipykernel)",
   "language": "python",
   "name": "python3"
  },
  "language_info": {
   "codemirror_mode": {
    "name": "ipython",
    "version": 3
   },
   "file_extension": ".py",
   "mimetype": "text/x-python",
   "name": "python",
   "nbconvert_exporter": "python",
   "pygments_lexer": "ipython3",
   "version": "3.10.9"
  }
 },
 "nbformat": 4,
 "nbformat_minor": 5
}
