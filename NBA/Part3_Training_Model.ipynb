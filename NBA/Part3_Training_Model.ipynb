{
 "cells": [
  {
   "cell_type": "code",
   "execution_count": 1,
   "id": "a0b8f4a1",
   "metadata": {},
   "outputs": [],
   "source": [
    "import pandas as pd"
   ]
  },
  {
   "cell_type": "code",
   "execution_count": null,
   "id": "25d14edd",
   "metadata": {},
   "outputs": [],
   "source": []
  },
  {
   "cell_type": "markdown",
   "id": "504426cf",
   "metadata": {},
   "source": [
    "## 1. Importing Dataset"
   ]
  },
  {
   "cell_type": "code",
   "execution_count": null,
   "id": "9f2c019c",
   "metadata": {},
   "outputs": [],
   "source": []
  },
  {
   "cell_type": "code",
   "execution_count": 2,
   "id": "0eae53ae",
   "metadata": {},
   "outputs": [],
   "source": [
    "stats = pd.read_csv(\"mvps_player_team.csv\" , index_col = 0)"
   ]
  },
  {
   "cell_type": "code",
   "execution_count": 3,
   "id": "aae48efa",
   "metadata": {},
   "outputs": [
    {
     "data": {
      "text/html": [
       "<div>\n",
       "<style scoped>\n",
       "    .dataframe tbody tr th:only-of-type {\n",
       "        vertical-align: middle;\n",
       "    }\n",
       "\n",
       "    .dataframe tbody tr th {\n",
       "        vertical-align: top;\n",
       "    }\n",
       "\n",
       "    .dataframe thead th {\n",
       "        text-align: right;\n",
       "    }\n",
       "</style>\n",
       "<table border=\"1\" class=\"dataframe\">\n",
       "  <thead>\n",
       "    <tr style=\"text-align: right;\">\n",
       "      <th></th>\n",
       "      <th>Player</th>\n",
       "      <th>Pos</th>\n",
       "      <th>Age</th>\n",
       "      <th>Tm</th>\n",
       "      <th>G</th>\n",
       "      <th>GS</th>\n",
       "      <th>MP</th>\n",
       "      <th>FG</th>\n",
       "      <th>FGA</th>\n",
       "      <th>FG%</th>\n",
       "      <th>...</th>\n",
       "      <th>Pts Max</th>\n",
       "      <th>Share</th>\n",
       "      <th>Team</th>\n",
       "      <th>W</th>\n",
       "      <th>L</th>\n",
       "      <th>W/L%</th>\n",
       "      <th>GB</th>\n",
       "      <th>PS/G</th>\n",
       "      <th>PA/G</th>\n",
       "      <th>SRS</th>\n",
       "    </tr>\n",
       "  </thead>\n",
       "  <tbody>\n",
       "    <tr>\n",
       "      <th>0</th>\n",
       "      <td>A.C. Green</td>\n",
       "      <td>PF</td>\n",
       "      <td>27</td>\n",
       "      <td>LAL</td>\n",
       "      <td>82</td>\n",
       "      <td>21</td>\n",
       "      <td>26.4</td>\n",
       "      <td>3.1</td>\n",
       "      <td>6.6</td>\n",
       "      <td>0.476</td>\n",
       "      <td>...</td>\n",
       "      <td>0.0</td>\n",
       "      <td>0.0</td>\n",
       "      <td>Los Angeles Lakers</td>\n",
       "      <td>58.0</td>\n",
       "      <td>24.0</td>\n",
       "      <td>0.707</td>\n",
       "      <td>5.0</td>\n",
       "      <td>106.3</td>\n",
       "      <td>99.6</td>\n",
       "      <td>6.73</td>\n",
       "    </tr>\n",
       "    <tr>\n",
       "      <th>1</th>\n",
       "      <td>Byron Scott</td>\n",
       "      <td>SG</td>\n",
       "      <td>29</td>\n",
       "      <td>LAL</td>\n",
       "      <td>82</td>\n",
       "      <td>82</td>\n",
       "      <td>32.1</td>\n",
       "      <td>6.1</td>\n",
       "      <td>12.8</td>\n",
       "      <td>0.477</td>\n",
       "      <td>...</td>\n",
       "      <td>0.0</td>\n",
       "      <td>0.0</td>\n",
       "      <td>Los Angeles Lakers</td>\n",
       "      <td>58.0</td>\n",
       "      <td>24.0</td>\n",
       "      <td>0.707</td>\n",
       "      <td>5.0</td>\n",
       "      <td>106.3</td>\n",
       "      <td>99.6</td>\n",
       "      <td>6.73</td>\n",
       "    </tr>\n",
       "    <tr>\n",
       "      <th>2</th>\n",
       "      <td>Elden Campbell</td>\n",
       "      <td>PF</td>\n",
       "      <td>22</td>\n",
       "      <td>LAL</td>\n",
       "      <td>52</td>\n",
       "      <td>0</td>\n",
       "      <td>7.3</td>\n",
       "      <td>1.1</td>\n",
       "      <td>2.4</td>\n",
       "      <td>0.455</td>\n",
       "      <td>...</td>\n",
       "      <td>0.0</td>\n",
       "      <td>0.0</td>\n",
       "      <td>Los Angeles Lakers</td>\n",
       "      <td>58.0</td>\n",
       "      <td>24.0</td>\n",
       "      <td>0.707</td>\n",
       "      <td>5.0</td>\n",
       "      <td>106.3</td>\n",
       "      <td>99.6</td>\n",
       "      <td>6.73</td>\n",
       "    </tr>\n",
       "    <tr>\n",
       "      <th>3</th>\n",
       "      <td>Irving Thomas</td>\n",
       "      <td>PF</td>\n",
       "      <td>25</td>\n",
       "      <td>LAL</td>\n",
       "      <td>26</td>\n",
       "      <td>0</td>\n",
       "      <td>4.2</td>\n",
       "      <td>0.7</td>\n",
       "      <td>1.9</td>\n",
       "      <td>0.340</td>\n",
       "      <td>...</td>\n",
       "      <td>0.0</td>\n",
       "      <td>0.0</td>\n",
       "      <td>Los Angeles Lakers</td>\n",
       "      <td>58.0</td>\n",
       "      <td>24.0</td>\n",
       "      <td>0.707</td>\n",
       "      <td>5.0</td>\n",
       "      <td>106.3</td>\n",
       "      <td>99.6</td>\n",
       "      <td>6.73</td>\n",
       "    </tr>\n",
       "    <tr>\n",
       "      <th>4</th>\n",
       "      <td>James Worthy</td>\n",
       "      <td>SF</td>\n",
       "      <td>29</td>\n",
       "      <td>LAL</td>\n",
       "      <td>78</td>\n",
       "      <td>74</td>\n",
       "      <td>38.6</td>\n",
       "      <td>9.2</td>\n",
       "      <td>18.7</td>\n",
       "      <td>0.492</td>\n",
       "      <td>...</td>\n",
       "      <td>0.0</td>\n",
       "      <td>0.0</td>\n",
       "      <td>Los Angeles Lakers</td>\n",
       "      <td>58.0</td>\n",
       "      <td>24.0</td>\n",
       "      <td>0.707</td>\n",
       "      <td>5.0</td>\n",
       "      <td>106.3</td>\n",
       "      <td>99.6</td>\n",
       "      <td>6.73</td>\n",
       "    </tr>\n",
       "  </tbody>\n",
       "</table>\n",
       "<p>5 rows × 41 columns</p>\n",
       "</div>"
      ],
      "text/plain": [
       "           Player Pos  Age   Tm   G  GS    MP   FG   FGA    FG%  ...  Pts Max  \\\n",
       "0      A.C. Green  PF   27  LAL  82  21  26.4  3.1   6.6  0.476  ...      0.0   \n",
       "1     Byron Scott  SG   29  LAL  82  82  32.1  6.1  12.8  0.477  ...      0.0   \n",
       "2  Elden Campbell  PF   22  LAL  52   0   7.3  1.1   2.4  0.455  ...      0.0   \n",
       "3   Irving Thomas  PF   25  LAL  26   0   4.2  0.7   1.9  0.340  ...      0.0   \n",
       "4    James Worthy  SF   29  LAL  78  74  38.6  9.2  18.7  0.492  ...      0.0   \n",
       "\n",
       "   Share                Team     W     L   W/L%   GB   PS/G  PA/G   SRS  \n",
       "0    0.0  Los Angeles Lakers  58.0  24.0  0.707  5.0  106.3  99.6  6.73  \n",
       "1    0.0  Los Angeles Lakers  58.0  24.0  0.707  5.0  106.3  99.6  6.73  \n",
       "2    0.0  Los Angeles Lakers  58.0  24.0  0.707  5.0  106.3  99.6  6.73  \n",
       "3    0.0  Los Angeles Lakers  58.0  24.0  0.707  5.0  106.3  99.6  6.73  \n",
       "4    0.0  Los Angeles Lakers  58.0  24.0  0.707  5.0  106.3  99.6  6.73  \n",
       "\n",
       "[5 rows x 41 columns]"
      ]
     },
     "execution_count": 3,
     "metadata": {},
     "output_type": "execute_result"
    }
   ],
   "source": [
    "stats.head()"
   ]
  },
  {
   "cell_type": "code",
   "execution_count": null,
   "id": "3247a9b1",
   "metadata": {},
   "outputs": [],
   "source": []
  },
  {
   "cell_type": "code",
   "execution_count": 5,
   "id": "974310ca",
   "metadata": {},
   "outputs": [
    {
     "data": {
      "text/plain": [
       "(14697, 41)"
      ]
     },
     "execution_count": 5,
     "metadata": {},
     "output_type": "execute_result"
    }
   ],
   "source": [
    "stats.shape"
   ]
  },
  {
   "cell_type": "code",
   "execution_count": null,
   "id": "835d35cf",
   "metadata": {},
   "outputs": [],
   "source": []
  },
  {
   "cell_type": "markdown",
   "id": "2cbc9b82",
   "metadata": {},
   "source": [
    "### Checking Null values in each column"
   ]
  },
  {
   "cell_type": "code",
   "execution_count": null,
   "id": "0b0b5959",
   "metadata": {},
   "outputs": [],
   "source": []
  },
  {
   "cell_type": "code",
   "execution_count": 4,
   "id": "52c6ebe1",
   "metadata": {},
   "outputs": [
    {
     "data": {
      "text/plain": [
       "Player        0\n",
       "Pos           0\n",
       "Age           0\n",
       "Tm            0\n",
       "G             0\n",
       "GS            0\n",
       "MP            0\n",
       "FG            0\n",
       "FGA           0\n",
       "FG%          59\n",
       "3P            0\n",
       "3PA           0\n",
       "3P%        2086\n",
       "2P            0\n",
       "2PA           0\n",
       "2P%         100\n",
       "eFG%         59\n",
       "FT            0\n",
       "FTA           0\n",
       "FT%         521\n",
       "ORB           0\n",
       "DRB           0\n",
       "TRB           0\n",
       "AST           0\n",
       "STL           0\n",
       "BLK           0\n",
       "TOV           0\n",
       "PF            0\n",
       "PTS           0\n",
       "Year          0\n",
       "Pts Won       0\n",
       "Pts Max       0\n",
       "Share         0\n",
       "Team          0\n",
       "W           401\n",
       "L           401\n",
       "W/L%        401\n",
       "GB          401\n",
       "PS/G        401\n",
       "PA/G        401\n",
       "SRS         401\n",
       "dtype: int64"
      ]
     },
     "execution_count": 4,
     "metadata": {},
     "output_type": "execute_result"
    }
   ],
   "source": [
    "pd.isnull(stats).sum()"
   ]
  },
  {
   "cell_type": "code",
   "execution_count": null,
   "id": "88d0f3ab",
   "metadata": {},
   "outputs": [],
   "source": []
  },
  {
   "cell_type": "code",
   "execution_count": 6,
   "id": "6c219422",
   "metadata": {},
   "outputs": [],
   "source": [
    "stats = stats.fillna(0)"
   ]
  },
  {
   "cell_type": "code",
   "execution_count": 7,
   "id": "cabfbacb",
   "metadata": {},
   "outputs": [
    {
     "data": {
      "text/plain": [
       "Player     0\n",
       "Pos        0\n",
       "Age        0\n",
       "Tm         0\n",
       "G          0\n",
       "GS         0\n",
       "MP         0\n",
       "FG         0\n",
       "FGA        0\n",
       "FG%        0\n",
       "3P         0\n",
       "3PA        0\n",
       "3P%        0\n",
       "2P         0\n",
       "2PA        0\n",
       "2P%        0\n",
       "eFG%       0\n",
       "FT         0\n",
       "FTA        0\n",
       "FT%        0\n",
       "ORB        0\n",
       "DRB        0\n",
       "TRB        0\n",
       "AST        0\n",
       "STL        0\n",
       "BLK        0\n",
       "TOV        0\n",
       "PF         0\n",
       "PTS        0\n",
       "Year       0\n",
       "Pts Won    0\n",
       "Pts Max    0\n",
       "Share      0\n",
       "Team       0\n",
       "W          0\n",
       "L          0\n",
       "W/L%       0\n",
       "GB         0\n",
       "PS/G       0\n",
       "PA/G       0\n",
       "SRS        0\n",
       "dtype: int64"
      ]
     },
     "execution_count": 7,
     "metadata": {},
     "output_type": "execute_result"
    }
   ],
   "source": [
    "pd.isnull(stats).sum()"
   ]
  },
  {
   "cell_type": "code",
   "execution_count": null,
   "id": "f2ffcee1",
   "metadata": {},
   "outputs": [],
   "source": []
  },
  {
   "cell_type": "markdown",
   "id": "433dab7a",
   "metadata": {},
   "source": [
    "## 2. Predictor and Target columns"
   ]
  },
  {
   "cell_type": "code",
   "execution_count": null,
   "id": "77953a6f",
   "metadata": {},
   "outputs": [],
   "source": []
  },
  {
   "cell_type": "code",
   "execution_count": 8,
   "id": "cdcbb84b",
   "metadata": {},
   "outputs": [
    {
     "data": {
      "text/plain": [
       "Index(['Player', 'Pos', 'Age', 'Tm', 'G', 'GS', 'MP', 'FG', 'FGA', 'FG%', '3P',\n",
       "       '3PA', '3P%', '2P', '2PA', '2P%', 'eFG%', 'FT', 'FTA', 'FT%', 'ORB',\n",
       "       'DRB', 'TRB', 'AST', 'STL', 'BLK', 'TOV', 'PF', 'PTS', 'Year',\n",
       "       'Pts Won', 'Pts Max', 'Share', 'Team', 'W', 'L', 'W/L%', 'GB', 'PS/G',\n",
       "       'PA/G', 'SRS'],\n",
       "      dtype='object')"
      ]
     },
     "execution_count": 8,
     "metadata": {},
     "output_type": "execute_result"
    }
   ],
   "source": [
    "stats.columns"
   ]
  },
  {
   "cell_type": "code",
   "execution_count": null,
   "id": "48cf2923",
   "metadata": {},
   "outputs": [],
   "source": []
  },
  {
   "cell_type": "code",
   "execution_count": 32,
   "id": "26ae0943",
   "metadata": {},
   "outputs": [],
   "source": [
    "predictor = ['Age', 'G', 'GS', 'MP', 'FG', 'FGA', 'FG%', '3P',\n",
    "       '3PA', '3P%', '2P', '2PA', '2P%', 'eFG%', 'FT', 'FTA', 'FT%', 'ORB',\n",
    "       'DRB', 'TRB', 'AST', 'STL', 'BLK', 'TOV', 'PF', 'PTS', 'Year',\n",
    "        'W', 'L', 'W/L%', 'GB', 'PS/G','PA/G', 'SRS']\n",
    "       "
   ]
  },
  {
   "cell_type": "code",
   "execution_count": null,
   "id": "beb651f2",
   "metadata": {},
   "outputs": [],
   "source": []
  },
  {
   "cell_type": "code",
   "execution_count": 9,
   "id": "d50b7f53",
   "metadata": {},
   "outputs": [
    {
     "data": {
      "text/plain": [
       "array(['PF', 'SG', 'SF', 'PG', 'C', 'PG-SG', 'PF-SF', 'SG-PG', 'PF-C',\n",
       "       'SG-SF', 'SF-PF', 'SF-SG', 'C-PF', 'SG-PF', 'PG-SF', 'SG-PG-SF',\n",
       "       'SF-C'], dtype=object)"
      ]
     },
     "execution_count": 9,
     "metadata": {},
     "output_type": "execute_result"
    }
   ],
   "source": [
    "# stats['Pos'].unique()"
   ]
  },
  {
   "cell_type": "code",
   "execution_count": null,
   "id": "fdc44a00",
   "metadata": {},
   "outputs": [],
   "source": []
  },
  {
   "cell_type": "code",
   "execution_count": 11,
   "id": "e1c9c6ae",
   "metadata": {},
   "outputs": [
    {
     "data": {
      "text/plain": [
       "array([1991, 1992, 1993, 1994, 1995, 1996, 1997, 1998, 1999, 2000, 2001,\n",
       "       2002, 2003, 2017, 2010, 2011, 2012, 2013, 2014, 2015, 2008, 2009,\n",
       "       2016, 2018, 2019, 2020, 2021, 2022, 2004, 2005, 2006, 2007],\n",
       "      dtype=int64)"
      ]
     },
     "execution_count": 11,
     "metadata": {},
     "output_type": "execute_result"
    }
   ],
   "source": [
    "stats[\"Year\"].unique()"
   ]
  },
  {
   "cell_type": "code",
   "execution_count": null,
   "id": "272adacf",
   "metadata": {},
   "outputs": [],
   "source": []
  },
  {
   "cell_type": "code",
   "execution_count": 13,
   "id": "d5417f29",
   "metadata": {},
   "outputs": [
    {
     "data": {
      "text/plain": [
       "0        1991\n",
       "10197    1991\n",
       "378      1991\n",
       "377      1991\n",
       "376      1991\n",
       "         ... \n",
       "12291    2022\n",
       "12290    2022\n",
       "12289    2022\n",
       "843      2022\n",
       "1897     2022\n",
       "Name: Year, Length: 14697, dtype: int64"
      ]
     },
     "execution_count": 13,
     "metadata": {},
     "output_type": "execute_result"
    }
   ],
   "source": [
    "stats['Year'].sort_values(ascending = True)"
   ]
  },
  {
   "cell_type": "code",
   "execution_count": null,
   "id": "6034609d",
   "metadata": {},
   "outputs": [],
   "source": []
  },
  {
   "cell_type": "code",
   "execution_count": 20,
   "id": "178b7e27",
   "metadata": {},
   "outputs": [],
   "source": [
    "stats = stats.sort_values(by = [\"Year\" ]  , ascending = True)"
   ]
  },
  {
   "cell_type": "code",
   "execution_count": null,
   "id": "bc7ee931",
   "metadata": {},
   "outputs": [],
   "source": []
  },
  {
   "cell_type": "code",
   "execution_count": 21,
   "id": "a1c5580e",
   "metadata": {},
   "outputs": [
    {
     "data": {
      "text/plain": [
       "array([1991, 1992, 1993, 1994, 1995, 1996, 1997, 1998, 1999, 2000, 2001,\n",
       "       2002, 2003, 2004, 2005, 2006, 2007, 2008, 2009, 2010, 2011, 2012,\n",
       "       2013, 2014, 2015, 2016, 2017, 2018, 2019, 2020, 2021, 2022],\n",
       "      dtype=int64)"
      ]
     },
     "execution_count": 21,
     "metadata": {},
     "output_type": "execute_result"
    }
   ],
   "source": [
    "stats[\"Year\"].unique()"
   ]
  },
  {
   "cell_type": "code",
   "execution_count": null,
   "id": "1f52a375",
   "metadata": {},
   "outputs": [],
   "source": []
  },
  {
   "cell_type": "code",
   "execution_count": 24,
   "id": "f8670828",
   "metadata": {},
   "outputs": [],
   "source": [
    "stats = stats.reset_index(drop = True)"
   ]
  },
  {
   "cell_type": "code",
   "execution_count": null,
   "id": "abe82fc9",
   "metadata": {},
   "outputs": [],
   "source": []
  },
  {
   "cell_type": "code",
   "execution_count": 25,
   "id": "74de9284",
   "metadata": {},
   "outputs": [
    {
     "data": {
      "text/html": [
       "<div>\n",
       "<style scoped>\n",
       "    .dataframe tbody tr th:only-of-type {\n",
       "        vertical-align: middle;\n",
       "    }\n",
       "\n",
       "    .dataframe tbody tr th {\n",
       "        vertical-align: top;\n",
       "    }\n",
       "\n",
       "    .dataframe thead th {\n",
       "        text-align: right;\n",
       "    }\n",
       "</style>\n",
       "<table border=\"1\" class=\"dataframe\">\n",
       "  <thead>\n",
       "    <tr style=\"text-align: right;\">\n",
       "      <th></th>\n",
       "      <th>Player</th>\n",
       "      <th>Pos</th>\n",
       "      <th>Age</th>\n",
       "      <th>Tm</th>\n",
       "      <th>G</th>\n",
       "      <th>GS</th>\n",
       "      <th>MP</th>\n",
       "      <th>FG</th>\n",
       "      <th>FGA</th>\n",
       "      <th>FG%</th>\n",
       "      <th>...</th>\n",
       "      <th>Pts Max</th>\n",
       "      <th>Share</th>\n",
       "      <th>Team</th>\n",
       "      <th>W</th>\n",
       "      <th>L</th>\n",
       "      <th>W/L%</th>\n",
       "      <th>GB</th>\n",
       "      <th>PS/G</th>\n",
       "      <th>PA/G</th>\n",
       "      <th>SRS</th>\n",
       "    </tr>\n",
       "  </thead>\n",
       "  <tbody>\n",
       "    <tr>\n",
       "      <th>0</th>\n",
       "      <td>A.C. Green</td>\n",
       "      <td>PF</td>\n",
       "      <td>27</td>\n",
       "      <td>LAL</td>\n",
       "      <td>82</td>\n",
       "      <td>21</td>\n",
       "      <td>26.4</td>\n",
       "      <td>3.1</td>\n",
       "      <td>6.6</td>\n",
       "      <td>0.476</td>\n",
       "      <td>...</td>\n",
       "      <td>0.0</td>\n",
       "      <td>0.000</td>\n",
       "      <td>Los Angeles Lakers</td>\n",
       "      <td>58.0</td>\n",
       "      <td>24.0</td>\n",
       "      <td>0.707</td>\n",
       "      <td>5.0</td>\n",
       "      <td>106.3</td>\n",
       "      <td>99.6</td>\n",
       "      <td>6.73</td>\n",
       "    </tr>\n",
       "    <tr>\n",
       "      <th>1</th>\n",
       "      <td>Avery Johnson</td>\n",
       "      <td>PG</td>\n",
       "      <td>25</td>\n",
       "      <td>SAS</td>\n",
       "      <td>68</td>\n",
       "      <td>14</td>\n",
       "      <td>14.1</td>\n",
       "      <td>1.9</td>\n",
       "      <td>4.1</td>\n",
       "      <td>0.469</td>\n",
       "      <td>...</td>\n",
       "      <td>0.0</td>\n",
       "      <td>0.000</td>\n",
       "      <td>San Antonio Spurs</td>\n",
       "      <td>55.0</td>\n",
       "      <td>27.0</td>\n",
       "      <td>0.671</td>\n",
       "      <td>0.0</td>\n",
       "      <td>107.1</td>\n",
       "      <td>102.6</td>\n",
       "      <td>4.30</td>\n",
       "    </tr>\n",
       "    <tr>\n",
       "      <th>2</th>\n",
       "      <td>Stojko Vranković</td>\n",
       "      <td>C</td>\n",
       "      <td>27</td>\n",
       "      <td>BOS</td>\n",
       "      <td>31</td>\n",
       "      <td>0</td>\n",
       "      <td>5.4</td>\n",
       "      <td>0.8</td>\n",
       "      <td>1.7</td>\n",
       "      <td>0.462</td>\n",
       "      <td>...</td>\n",
       "      <td>0.0</td>\n",
       "      <td>0.000</td>\n",
       "      <td>Boston Celtics</td>\n",
       "      <td>56.0</td>\n",
       "      <td>26.0</td>\n",
       "      <td>0.683</td>\n",
       "      <td>0.0</td>\n",
       "      <td>111.5</td>\n",
       "      <td>105.7</td>\n",
       "      <td>5.22</td>\n",
       "    </tr>\n",
       "    <tr>\n",
       "      <th>3</th>\n",
       "      <td>Robert Parish</td>\n",
       "      <td>C</td>\n",
       "      <td>37</td>\n",
       "      <td>BOS</td>\n",
       "      <td>81</td>\n",
       "      <td>81</td>\n",
       "      <td>30.1</td>\n",
       "      <td>6.0</td>\n",
       "      <td>10.0</td>\n",
       "      <td>0.598</td>\n",
       "      <td>...</td>\n",
       "      <td>960.0</td>\n",
       "      <td>0.010</td>\n",
       "      <td>Boston Celtics</td>\n",
       "      <td>56.0</td>\n",
       "      <td>26.0</td>\n",
       "      <td>0.683</td>\n",
       "      <td>0.0</td>\n",
       "      <td>111.5</td>\n",
       "      <td>105.7</td>\n",
       "      <td>5.22</td>\n",
       "    </tr>\n",
       "    <tr>\n",
       "      <th>4</th>\n",
       "      <td>Reggie Lewis</td>\n",
       "      <td>SG</td>\n",
       "      <td>25</td>\n",
       "      <td>BOS</td>\n",
       "      <td>79</td>\n",
       "      <td>79</td>\n",
       "      <td>36.4</td>\n",
       "      <td>7.6</td>\n",
       "      <td>15.4</td>\n",
       "      <td>0.491</td>\n",
       "      <td>...</td>\n",
       "      <td>0.0</td>\n",
       "      <td>0.000</td>\n",
       "      <td>Boston Celtics</td>\n",
       "      <td>56.0</td>\n",
       "      <td>26.0</td>\n",
       "      <td>0.683</td>\n",
       "      <td>0.0</td>\n",
       "      <td>111.5</td>\n",
       "      <td>105.7</td>\n",
       "      <td>5.22</td>\n",
       "    </tr>\n",
       "    <tr>\n",
       "      <th>5</th>\n",
       "      <td>Michael Smith</td>\n",
       "      <td>PF</td>\n",
       "      <td>25</td>\n",
       "      <td>BOS</td>\n",
       "      <td>47</td>\n",
       "      <td>3</td>\n",
       "      <td>8.3</td>\n",
       "      <td>2.0</td>\n",
       "      <td>4.3</td>\n",
       "      <td>0.475</td>\n",
       "      <td>...</td>\n",
       "      <td>0.0</td>\n",
       "      <td>0.000</td>\n",
       "      <td>Boston Celtics</td>\n",
       "      <td>56.0</td>\n",
       "      <td>26.0</td>\n",
       "      <td>0.683</td>\n",
       "      <td>0.0</td>\n",
       "      <td>111.5</td>\n",
       "      <td>105.7</td>\n",
       "      <td>5.22</td>\n",
       "    </tr>\n",
       "    <tr>\n",
       "      <th>6</th>\n",
       "      <td>Larry Bird</td>\n",
       "      <td>SF</td>\n",
       "      <td>34</td>\n",
       "      <td>BOS</td>\n",
       "      <td>60</td>\n",
       "      <td>60</td>\n",
       "      <td>38.0</td>\n",
       "      <td>7.7</td>\n",
       "      <td>17.0</td>\n",
       "      <td>0.454</td>\n",
       "      <td>...</td>\n",
       "      <td>960.0</td>\n",
       "      <td>0.026</td>\n",
       "      <td>Boston Celtics</td>\n",
       "      <td>56.0</td>\n",
       "      <td>26.0</td>\n",
       "      <td>0.683</td>\n",
       "      <td>0.0</td>\n",
       "      <td>111.5</td>\n",
       "      <td>105.7</td>\n",
       "      <td>5.22</td>\n",
       "    </tr>\n",
       "    <tr>\n",
       "      <th>7</th>\n",
       "      <td>Kevin McHale</td>\n",
       "      <td>PF</td>\n",
       "      <td>33</td>\n",
       "      <td>BOS</td>\n",
       "      <td>68</td>\n",
       "      <td>10</td>\n",
       "      <td>30.4</td>\n",
       "      <td>7.4</td>\n",
       "      <td>13.4</td>\n",
       "      <td>0.553</td>\n",
       "      <td>...</td>\n",
       "      <td>960.0</td>\n",
       "      <td>0.001</td>\n",
       "      <td>Boston Celtics</td>\n",
       "      <td>56.0</td>\n",
       "      <td>26.0</td>\n",
       "      <td>0.683</td>\n",
       "      <td>0.0</td>\n",
       "      <td>111.5</td>\n",
       "      <td>105.7</td>\n",
       "      <td>5.22</td>\n",
       "    </tr>\n",
       "    <tr>\n",
       "      <th>8</th>\n",
       "      <td>Kevin Gamble</td>\n",
       "      <td>SF</td>\n",
       "      <td>25</td>\n",
       "      <td>BOS</td>\n",
       "      <td>82</td>\n",
       "      <td>76</td>\n",
       "      <td>33.0</td>\n",
       "      <td>6.7</td>\n",
       "      <td>11.4</td>\n",
       "      <td>0.587</td>\n",
       "      <td>...</td>\n",
       "      <td>0.0</td>\n",
       "      <td>0.000</td>\n",
       "      <td>Boston Celtics</td>\n",
       "      <td>56.0</td>\n",
       "      <td>26.0</td>\n",
       "      <td>0.683</td>\n",
       "      <td>0.0</td>\n",
       "      <td>111.5</td>\n",
       "      <td>105.7</td>\n",
       "      <td>5.22</td>\n",
       "    </tr>\n",
       "    <tr>\n",
       "      <th>9</th>\n",
       "      <td>Joe Kleine</td>\n",
       "      <td>C</td>\n",
       "      <td>29</td>\n",
       "      <td>BOS</td>\n",
       "      <td>72</td>\n",
       "      <td>1</td>\n",
       "      <td>11.8</td>\n",
       "      <td>1.4</td>\n",
       "      <td>3.0</td>\n",
       "      <td>0.468</td>\n",
       "      <td>...</td>\n",
       "      <td>0.0</td>\n",
       "      <td>0.000</td>\n",
       "      <td>Boston Celtics</td>\n",
       "      <td>56.0</td>\n",
       "      <td>26.0</td>\n",
       "      <td>0.683</td>\n",
       "      <td>0.0</td>\n",
       "      <td>111.5</td>\n",
       "      <td>105.7</td>\n",
       "      <td>5.22</td>\n",
       "    </tr>\n",
       "  </tbody>\n",
       "</table>\n",
       "<p>10 rows × 41 columns</p>\n",
       "</div>"
      ],
      "text/plain": [
       "             Player Pos  Age   Tm   G  GS    MP   FG   FGA    FG%  ...  \\\n",
       "0        A.C. Green  PF   27  LAL  82  21  26.4  3.1   6.6  0.476  ...   \n",
       "1     Avery Johnson  PG   25  SAS  68  14  14.1  1.9   4.1  0.469  ...   \n",
       "2  Stojko Vranković   C   27  BOS  31   0   5.4  0.8   1.7  0.462  ...   \n",
       "3     Robert Parish   C   37  BOS  81  81  30.1  6.0  10.0  0.598  ...   \n",
       "4      Reggie Lewis  SG   25  BOS  79  79  36.4  7.6  15.4  0.491  ...   \n",
       "5     Michael Smith  PF   25  BOS  47   3   8.3  2.0   4.3  0.475  ...   \n",
       "6        Larry Bird  SF   34  BOS  60  60  38.0  7.7  17.0  0.454  ...   \n",
       "7      Kevin McHale  PF   33  BOS  68  10  30.4  7.4  13.4  0.553  ...   \n",
       "8      Kevin Gamble  SF   25  BOS  82  76  33.0  6.7  11.4  0.587  ...   \n",
       "9        Joe Kleine   C   29  BOS  72   1  11.8  1.4   3.0  0.468  ...   \n",
       "\n",
       "   Pts Max  Share                Team     W     L   W/L%   GB   PS/G   PA/G  \\\n",
       "0      0.0  0.000  Los Angeles Lakers  58.0  24.0  0.707  5.0  106.3   99.6   \n",
       "1      0.0  0.000   San Antonio Spurs  55.0  27.0  0.671  0.0  107.1  102.6   \n",
       "2      0.0  0.000      Boston Celtics  56.0  26.0  0.683  0.0  111.5  105.7   \n",
       "3    960.0  0.010      Boston Celtics  56.0  26.0  0.683  0.0  111.5  105.7   \n",
       "4      0.0  0.000      Boston Celtics  56.0  26.0  0.683  0.0  111.5  105.7   \n",
       "5      0.0  0.000      Boston Celtics  56.0  26.0  0.683  0.0  111.5  105.7   \n",
       "6    960.0  0.026      Boston Celtics  56.0  26.0  0.683  0.0  111.5  105.7   \n",
       "7    960.0  0.001      Boston Celtics  56.0  26.0  0.683  0.0  111.5  105.7   \n",
       "8      0.0  0.000      Boston Celtics  56.0  26.0  0.683  0.0  111.5  105.7   \n",
       "9      0.0  0.000      Boston Celtics  56.0  26.0  0.683  0.0  111.5  105.7   \n",
       "\n",
       "    SRS  \n",
       "0  6.73  \n",
       "1  4.30  \n",
       "2  5.22  \n",
       "3  5.22  \n",
       "4  5.22  \n",
       "5  5.22  \n",
       "6  5.22  \n",
       "7  5.22  \n",
       "8  5.22  \n",
       "9  5.22  \n",
       "\n",
       "[10 rows x 41 columns]"
      ]
     },
     "execution_count": 25,
     "metadata": {},
     "output_type": "execute_result"
    }
   ],
   "source": [
    "stats.head(10)"
   ]
  },
  {
   "cell_type": "code",
   "execution_count": null,
   "id": "58082205",
   "metadata": {},
   "outputs": [],
   "source": []
  },
  {
   "cell_type": "markdown",
   "id": "4b1659eb",
   "metadata": {},
   "source": [
    "# Trianing and Test dataset"
   ]
  },
  {
   "cell_type": "code",
   "execution_count": null,
   "id": "c8450bec",
   "metadata": {},
   "outputs": [],
   "source": []
  },
  {
   "cell_type": "code",
   "execution_count": 28,
   "id": "c38f9781",
   "metadata": {},
   "outputs": [],
   "source": [
    "d_train = stats[stats[\"Year\"] <2022]\n",
    "d_test = stats[stats[\"Year\"]  == 2022]"
   ]
  },
  {
   "cell_type": "code",
   "execution_count": null,
   "id": "cd3c0483",
   "metadata": {},
   "outputs": [],
   "source": []
  },
  {
   "cell_type": "code",
   "execution_count": 30,
   "id": "5a93b446",
   "metadata": {},
   "outputs": [],
   "source": [
    "# d_train[\"Year\"].unique()"
   ]
  },
  {
   "cell_type": "code",
   "execution_count": null,
   "id": "796d4701",
   "metadata": {},
   "outputs": [],
   "source": []
  },
  {
   "cell_type": "code",
   "execution_count": 35,
   "id": "87af8c63",
   "metadata": {},
   "outputs": [],
   "source": [
    "X_train = d_train[predictor]\n",
    "y_train = d_train[\"Share\"]\n",
    "X_test =  d_test[predictor]\n",
    "y_test =  d_test[\"Share\"]"
   ]
  },
  {
   "cell_type": "code",
   "execution_count": null,
   "id": "0650c3c5",
   "metadata": {},
   "outputs": [],
   "source": []
  },
  {
   "cell_type": "code",
   "execution_count": 39,
   "id": "dabb060e",
   "metadata": {},
   "outputs": [
    {
     "data": {
      "text/plain": [
       "(14092, 34)"
      ]
     },
     "execution_count": 39,
     "metadata": {},
     "output_type": "execute_result"
    }
   ],
   "source": [
    "X_train.shape"
   ]
  },
  {
   "cell_type": "code",
   "execution_count": 40,
   "id": "3b2dd3d8",
   "metadata": {},
   "outputs": [
    {
     "data": {
      "text/plain": [
       "(14092,)"
      ]
     },
     "execution_count": 40,
     "metadata": {},
     "output_type": "execute_result"
    }
   ],
   "source": [
    "y_train.shape"
   ]
  },
  {
   "cell_type": "code",
   "execution_count": 41,
   "id": "c674d8c2",
   "metadata": {},
   "outputs": [
    {
     "data": {
      "text/plain": [
       "(605, 34)"
      ]
     },
     "execution_count": 41,
     "metadata": {},
     "output_type": "execute_result"
    }
   ],
   "source": [
    "X_test.shape"
   ]
  },
  {
   "cell_type": "code",
   "execution_count": 42,
   "id": "ca9fac42",
   "metadata": {},
   "outputs": [
    {
     "data": {
      "text/plain": [
       "(605,)"
      ]
     },
     "execution_count": 42,
     "metadata": {},
     "output_type": "execute_result"
    }
   ],
   "source": [
    "y_test.shape"
   ]
  },
  {
   "cell_type": "code",
   "execution_count": null,
   "id": "6c8517d2",
   "metadata": {},
   "outputs": [],
   "source": []
  },
  {
   "cell_type": "markdown",
   "id": "e4e70b03",
   "metadata": {},
   "source": [
    "## ML Model"
   ]
  },
  {
   "cell_type": "code",
   "execution_count": null,
   "id": "727b6b3e",
   "metadata": {},
   "outputs": [],
   "source": []
  },
  {
   "cell_type": "code",
   "execution_count": 43,
   "id": "b64e43e0",
   "metadata": {},
   "outputs": [],
   "source": [
    "import sklearn"
   ]
  },
  {
   "cell_type": "code",
   "execution_count": null,
   "id": "dd316aa1",
   "metadata": {},
   "outputs": [],
   "source": []
  },
  {
   "cell_type": "code",
   "execution_count": 45,
   "id": "353d7c79",
   "metadata": {},
   "outputs": [],
   "source": [
    "from sklearn.linear_model import Ridge"
   ]
  },
  {
   "cell_type": "code",
   "execution_count": null,
   "id": "bd597450",
   "metadata": {},
   "outputs": [],
   "source": []
  },
  {
   "cell_type": "code",
   "execution_count": 46,
   "id": "8956c365",
   "metadata": {},
   "outputs": [],
   "source": [
    "reg = Ridge(alpha = 0.1)"
   ]
  },
  {
   "cell_type": "code",
   "execution_count": null,
   "id": "f031e7b2",
   "metadata": {},
   "outputs": [],
   "source": []
  },
  {
   "cell_type": "code",
   "execution_count": 47,
   "id": "95c611b2",
   "metadata": {},
   "outputs": [
    {
     "data": {
      "text/html": [
       "<style>#sk-container-id-1 {color: black;background-color: white;}#sk-container-id-1 pre{padding: 0;}#sk-container-id-1 div.sk-toggleable {background-color: white;}#sk-container-id-1 label.sk-toggleable__label {cursor: pointer;display: block;width: 100%;margin-bottom: 0;padding: 0.3em;box-sizing: border-box;text-align: center;}#sk-container-id-1 label.sk-toggleable__label-arrow:before {content: \"▸\";float: left;margin-right: 0.25em;color: #696969;}#sk-container-id-1 label.sk-toggleable__label-arrow:hover:before {color: black;}#sk-container-id-1 div.sk-estimator:hover label.sk-toggleable__label-arrow:before {color: black;}#sk-container-id-1 div.sk-toggleable__content {max-height: 0;max-width: 0;overflow: hidden;text-align: left;background-color: #f0f8ff;}#sk-container-id-1 div.sk-toggleable__content pre {margin: 0.2em;color: black;border-radius: 0.25em;background-color: #f0f8ff;}#sk-container-id-1 input.sk-toggleable__control:checked~div.sk-toggleable__content {max-height: 200px;max-width: 100%;overflow: auto;}#sk-container-id-1 input.sk-toggleable__control:checked~label.sk-toggleable__label-arrow:before {content: \"▾\";}#sk-container-id-1 div.sk-estimator input.sk-toggleable__control:checked~label.sk-toggleable__label {background-color: #d4ebff;}#sk-container-id-1 div.sk-label input.sk-toggleable__control:checked~label.sk-toggleable__label {background-color: #d4ebff;}#sk-container-id-1 input.sk-hidden--visually {border: 0;clip: rect(1px 1px 1px 1px);clip: rect(1px, 1px, 1px, 1px);height: 1px;margin: -1px;overflow: hidden;padding: 0;position: absolute;width: 1px;}#sk-container-id-1 div.sk-estimator {font-family: monospace;background-color: #f0f8ff;border: 1px dotted black;border-radius: 0.25em;box-sizing: border-box;margin-bottom: 0.5em;}#sk-container-id-1 div.sk-estimator:hover {background-color: #d4ebff;}#sk-container-id-1 div.sk-parallel-item::after {content: \"\";width: 100%;border-bottom: 1px solid gray;flex-grow: 1;}#sk-container-id-1 div.sk-label:hover label.sk-toggleable__label {background-color: #d4ebff;}#sk-container-id-1 div.sk-serial::before {content: \"\";position: absolute;border-left: 1px solid gray;box-sizing: border-box;top: 0;bottom: 0;left: 50%;z-index: 0;}#sk-container-id-1 div.sk-serial {display: flex;flex-direction: column;align-items: center;background-color: white;padding-right: 0.2em;padding-left: 0.2em;position: relative;}#sk-container-id-1 div.sk-item {position: relative;z-index: 1;}#sk-container-id-1 div.sk-parallel {display: flex;align-items: stretch;justify-content: center;background-color: white;position: relative;}#sk-container-id-1 div.sk-item::before, #sk-container-id-1 div.sk-parallel-item::before {content: \"\";position: absolute;border-left: 1px solid gray;box-sizing: border-box;top: 0;bottom: 0;left: 50%;z-index: -1;}#sk-container-id-1 div.sk-parallel-item {display: flex;flex-direction: column;z-index: 1;position: relative;background-color: white;}#sk-container-id-1 div.sk-parallel-item:first-child::after {align-self: flex-end;width: 50%;}#sk-container-id-1 div.sk-parallel-item:last-child::after {align-self: flex-start;width: 50%;}#sk-container-id-1 div.sk-parallel-item:only-child::after {width: 0;}#sk-container-id-1 div.sk-dashed-wrapped {border: 1px dashed gray;margin: 0 0.4em 0.5em 0.4em;box-sizing: border-box;padding-bottom: 0.4em;background-color: white;}#sk-container-id-1 div.sk-label label {font-family: monospace;font-weight: bold;display: inline-block;line-height: 1.2em;}#sk-container-id-1 div.sk-label-container {text-align: center;}#sk-container-id-1 div.sk-container {/* jupyter's `normalize.less` sets `[hidden] { display: none; }` but bootstrap.min.css set `[hidden] { display: none !important; }` so we also need the `!important` here to be able to override the default hidden behavior on the sphinx rendered scikit-learn.org. See: https://github.com/scikit-learn/scikit-learn/issues/21755 */display: inline-block !important;position: relative;}#sk-container-id-1 div.sk-text-repr-fallback {display: none;}</style><div id=\"sk-container-id-1\" class=\"sk-top-container\"><div class=\"sk-text-repr-fallback\"><pre>Ridge(alpha=0.1)</pre><b>In a Jupyter environment, please rerun this cell to show the HTML representation or trust the notebook. <br />On GitHub, the HTML representation is unable to render, please try loading this page with nbviewer.org.</b></div><div class=\"sk-container\" hidden><div class=\"sk-item\"><div class=\"sk-estimator sk-toggleable\"><input class=\"sk-toggleable__control sk-hidden--visually\" id=\"sk-estimator-id-1\" type=\"checkbox\" checked><label for=\"sk-estimator-id-1\" class=\"sk-toggleable__label sk-toggleable__label-arrow\">Ridge</label><div class=\"sk-toggleable__content\"><pre>Ridge(alpha=0.1)</pre></div></div></div></div></div>"
      ],
      "text/plain": [
       "Ridge(alpha=0.1)"
      ]
     },
     "execution_count": 47,
     "metadata": {},
     "output_type": "execute_result"
    }
   ],
   "source": [
    "reg.fit(X_train , y_train)"
   ]
  },
  {
   "cell_type": "code",
   "execution_count": null,
   "id": "593b15ed",
   "metadata": {},
   "outputs": [],
   "source": []
  },
  {
   "cell_type": "code",
   "execution_count": 48,
   "id": "81e882a0",
   "metadata": {},
   "outputs": [],
   "source": [
    "predictions = reg.predict(X_test)"
   ]
  },
  {
   "cell_type": "code",
   "execution_count": 57,
   "id": "c7a4c868",
   "metadata": {},
   "outputs": [
    {
     "data": {
      "text/plain": [
       "array([ 1.12601817e-02, -2.81279374e-02, -9.84929600e-03, -9.73718521e-03,\n",
       "       -2.86412124e-02,  2.50684173e-02, -1.73659054e-02,  9.86517719e-03,\n",
       "        5.82394430e-03,  3.05874935e-02,  2.64989891e-02, -1.09668315e-02,\n",
       "       -2.50146210e-02,  2.25802401e-02, -6.68711065e-03,  1.64819766e-02,\n",
       "        3.55813556e-03,  1.23742160e-02,  6.69594326e-02,  7.74589774e-02,\n",
       "       -2.06998234e-02, -1.35079183e-02,  1.40282775e-02, -1.87259405e-02,\n",
       "       -1.57216635e-02, -1.35160024e-02, -2.51430612e-02,  2.58506394e-02,\n",
       "        1.09544781e-02, -9.33510119e-04,  2.05023934e-02,  2.42371331e-02,\n",
       "        5.93238034e-03, -1.20226477e-02, -5.32352655e-03,  1.70349970e-02,\n",
       "       -4.08968082e-03, -6.32054933e-03, -3.84947934e-03, -6.36872498e-03,\n",
       "       -1.49475223e-02,  1.24513261e-03,  4.55058397e-02, -1.08095847e-02,\n",
       "       -2.07925023e-02, -1.76528103e-02,  1.82182629e-04, -2.19305521e-02,\n",
       "        8.97470376e-04,  9.50695227e-03, -4.45649829e-03,  2.73804376e-02,\n",
       "       -2.58747101e-02, -1.00552363e-02,  2.03868740e-02,  2.16313770e-03,\n",
       "       -8.36431669e-03,  1.50725125e-02,  2.22577125e-02, -9.63671933e-03,\n",
       "        1.08978627e-01, -6.43016993e-02,  7.60713647e-03,  1.81439299e-02,\n",
       "       -1.76978317e-02, -2.55942317e-02,  3.64609417e-03,  1.50049278e-02,\n",
       "        3.03619720e-04,  1.33319918e-02,  1.87872608e-02,  3.04276217e-02,\n",
       "       -1.11940932e-02,  1.56638931e-01,  7.55970340e-03,  1.14541876e-03,\n",
       "        7.83375526e-03,  9.95099011e-03, -3.26786656e-02,  9.70227298e-02,\n",
       "        1.58090808e-02, -3.17646585e-02,  3.58309642e-02,  5.40328248e-03,\n",
       "       -1.83713347e-02, -9.57823950e-03,  6.11298435e-03, -7.95887085e-03,\n",
       "        3.43155897e-02,  6.93716145e-04, -1.57255026e-02, -2.36955198e-03,\n",
       "        2.77134592e-03,  2.13643908e-04, -1.06336239e-02, -1.19324987e-02,\n",
       "       -1.70976927e-02, -1.29907870e-03, -1.12882978e-02, -1.42456293e-02,\n",
       "       -1.15784781e-03, -3.51153850e-02, -1.58842693e-02,  2.66714629e-02,\n",
       "        5.13326047e-02, -1.27079432e-02,  1.35046729e-02, -2.71669208e-02,\n",
       "       -5.66348220e-03,  2.98194980e-02, -7.35671158e-03,  2.18988364e-01,\n",
       "       -2.20585013e-02,  5.26330744e-02, -1.66273235e-02,  1.63854383e-02,\n",
       "        2.34514037e-02, -2.33506097e-02, -8.00777912e-03, -2.16998562e-03,\n",
       "       -1.03206823e-02,  3.29756990e-03,  2.49842333e-02,  3.78872911e-02,\n",
       "        2.50522269e-03,  3.52223066e-03, -3.22675382e-02, -9.57035432e-04,\n",
       "       -3.71164468e-03, -8.17041659e-04,  6.90937779e-02, -6.71834285e-03,\n",
       "       -6.58061554e-03,  1.10677060e-02,  1.32094927e-02,  9.83913447e-04,\n",
       "        1.32397484e-02,  9.02686168e-03, -1.64224659e-02, -4.48570065e-03,\n",
       "        1.03644509e-02,  1.06960715e-02,  2.40857059e-04, -3.04387747e-02,\n",
       "       -8.37536233e-03,  3.11381276e-03, -1.02734413e-02, -6.78656853e-03,\n",
       "        3.18292918e-02,  2.87062453e-02,  6.51833129e-03,  2.57862418e-03,\n",
       "       -2.27201959e-02, -6.56608129e-04,  7.30675419e-04,  8.52581583e-03,\n",
       "       -2.40063583e-03,  9.03203060e-03,  1.09204016e-02,  1.96326699e-02,\n",
       "       -1.58603769e-03,  7.70335709e-03,  7.83630841e-03, -2.71621664e-02,\n",
       "        3.90533195e-02, -3.52537180e-03,  3.06417140e-02, -1.76661305e-02,\n",
       "       -1.95900106e-03,  9.14011345e-02,  6.66615423e-02,  7.84601512e-02,\n",
       "       -7.56967243e-03,  1.78909751e-02,  1.88509209e-02, -5.17114261e-03,\n",
       "        1.13704795e-03,  1.05309961e-02, -4.26600484e-03, -3.79584925e-04,\n",
       "       -6.23957809e-03, -8.60774423e-03, -1.43097652e-02, -3.27942535e-02,\n",
       "       -1.14703730e-02,  1.72322122e-02,  4.40763500e-03, -2.55297611e-02,\n",
       "        1.84815133e-03, -2.56690102e-02,  1.40249231e-04,  6.27856438e-02,\n",
       "        7.36512643e-03, -9.07783470e-03, -2.56415994e-02, -1.98180542e-02,\n",
       "        5.38813643e-02,  4.91501028e-03,  3.24225386e-02, -8.13360395e-03,\n",
       "       -7.14708802e-03, -1.29784122e-02,  1.85087484e-03, -3.22835445e-02,\n",
       "       -5.76676253e-04,  5.40350312e-02, -6.61349399e-03,  1.40508099e-03,\n",
       "        5.83567909e-03,  3.38375440e-02,  4.11585811e-02, -5.44827391e-02,\n",
       "        2.15635685e-03,  5.14113147e-03, -9.23739899e-03, -1.81714756e-02,\n",
       "        8.63912357e-03, -8.88704137e-03, -2.33472834e-02, -4.34100299e-03,\n",
       "        1.62063021e-02,  3.16971930e-02, -2.44763616e-02, -1.37166291e-02,\n",
       "       -2.65071271e-02, -2.32952982e-02,  1.62437725e-02, -7.31013516e-03,\n",
       "       -6.34857040e-02, -2.38190123e-03,  9.20800825e-02, -5.88862019e-03,\n",
       "       -1.87711911e-02,  5.33194939e-02,  6.58801209e-02,  9.70769458e-03,\n",
       "        2.07350285e-02,  3.56460638e-02,  5.46645048e-03,  3.35245430e-03,\n",
       "       -1.40945733e-02, -2.65504776e-02,  2.72253967e-03, -7.01907558e-05,\n",
       "        7.46321619e-02, -9.55574774e-03,  2.51443329e-02,  5.17374327e-03,\n",
       "       -2.56684671e-03,  5.36089782e-03,  6.75110580e-03,  1.70712282e-02,\n",
       "       -3.37891484e-03,  2.04921040e-02,  6.05365786e-03,  1.18387595e-03,\n",
       "        2.90272960e-03, -9.99432488e-03, -1.11379853e-02,  2.51019576e-02,\n",
       "        5.42168404e-02, -5.40335349e-04,  2.52453189e-02, -1.73966768e-02,\n",
       "       -2.66419473e-03, -1.43182892e-02,  4.08576525e-02,  4.76073755e-02,\n",
       "        2.66588363e-02,  9.41247699e-03, -2.04823791e-02,  1.57545462e-01,\n",
       "       -2.10875243e-02, -2.71833507e-02,  1.19979405e-02,  9.86627097e-03,\n",
       "       -7.42689406e-03, -2.32232865e-02,  1.49787544e-02, -3.50340644e-02,\n",
       "       -1.50541930e-02,  1.08185552e-01,  1.39969136e-02,  5.78986748e-03,\n",
       "        2.19564853e-03, -1.34178334e-02, -9.14356306e-03,  7.67104977e-02,\n",
       "        3.94965461e-02, -1.13120747e-02, -1.12423317e-02, -9.37889612e-03,\n",
       "       -1.27136747e-02, -1.96369666e-03,  2.00381950e-02, -1.29842138e-02,\n",
       "       -1.81607847e-02, -6.58123028e-03,  5.05224495e-02, -1.68912148e-02,\n",
       "       -7.99986572e-03,  2.05861826e-02,  2.39418981e-03,  1.78880954e-02,\n",
       "        1.07231383e-02, -8.93224220e-04, -1.26959826e-02, -9.15507862e-03,\n",
       "       -1.35798351e-02,  9.44582373e-02, -1.49529138e-02, -9.18220921e-04,\n",
       "        9.87691815e-03, -1.55641641e-02, -4.23610490e-03, -2.54057020e-02,\n",
       "        3.83926879e-02,  3.75114094e-02,  3.90962144e-04,  1.93936647e-02,\n",
       "        3.75712417e-03, -1.07275472e-02, -6.96820781e-03,  1.70600057e-02,\n",
       "        3.99999909e-03, -1.56169030e-02,  3.03549626e-04, -1.08714045e-02,\n",
       "        4.25302591e-03, -5.74232592e-03, -1.47896876e-02, -1.22158418e-01,\n",
       "        2.32232653e-02, -1.71891923e-02, -2.19861911e-02,  4.53795955e-03,\n",
       "       -5.34771765e-02,  8.90210037e-02, -1.12204050e-03, -1.91781011e-02,\n",
       "       -5.02808081e-03, -3.01571573e-02, -6.34235712e-02,  1.10371881e-02,\n",
       "        9.14161847e-02,  8.90692830e-04, -1.82691472e-02, -1.50443326e-02,\n",
       "        9.19910175e-03, -4.67328309e-03, -1.72647150e-02, -5.54010354e-03,\n",
       "       -6.86947640e-03,  2.34038248e-02,  1.62061312e-03,  1.76237295e-02,\n",
       "       -8.29576661e-04,  2.46567547e-02, -2.27307009e-02, -2.47633672e-02,\n",
       "       -3.45554146e-03,  6.80023443e-02,  9.42359876e-02, -1.72688462e-02,\n",
       "       -4.60004757e-02, -1.53833423e-02, -4.70295853e-03,  1.87158901e-03,\n",
       "        8.77969188e-03,  1.19536472e-02,  6.26826127e-03,  3.29702022e-04,\n",
       "        1.10385420e-02,  1.00207695e-02, -2.65441784e-02,  6.03875064e-03,\n",
       "        2.08446540e-02, -5.08791988e-04,  2.99631721e-02, -2.94498846e-03,\n",
       "       -1.26204880e-02, -2.75560536e-03,  3.92669103e-04, -1.34224467e-02,\n",
       "       -9.46805603e-03, -3.15037845e-03,  4.02260276e-03,  7.24911152e-02,\n",
       "       -8.23165844e-03, -1.16166503e-02, -2.68017269e-02, -7.75315624e-03,\n",
       "       -1.64523819e-02,  5.34002354e-02, -2.47396559e-03,  6.44257633e-03,\n",
       "        1.25760642e-03, -3.23502057e-04,  2.15696227e-02, -1.19402060e-02,\n",
       "       -2.95321933e-03, -1.35053970e-02,  1.00174247e-01, -9.28871472e-03,\n",
       "        1.03915899e-01,  1.90322274e-01, -1.99912103e-02, -1.00891027e-03,\n",
       "        2.85965196e-03,  1.74633097e-02, -3.01190112e-02, -4.30182728e-03,\n",
       "       -1.51573411e-03, -3.49192156e-03,  1.08759385e-02,  1.64933199e-02,\n",
       "       -1.34634236e-02,  3.14619573e-02, -4.80670706e-04,  4.35289496e-04,\n",
       "        4.17998395e-02,  1.20549785e-01,  1.78275591e-02,  2.96630100e-02,\n",
       "        1.85971271e-02,  1.62199970e-02,  1.31777694e-03,  3.53245359e-02,\n",
       "       -1.03784342e-02,  3.65651887e-03, -7.82818000e-03, -1.78252034e-03,\n",
       "       -4.87017126e-03, -1.32753008e-02, -1.51083294e-02, -1.20933778e-02,\n",
       "        9.89605564e-03,  4.16326914e-04, -1.39510121e-03,  2.29808152e-03,\n",
       "        1.76975149e-02, -2.58518760e-02, -7.64825493e-03,  2.34979064e-02,\n",
       "       -1.17868808e-02,  2.31057022e-02, -3.22988503e-02, -2.33381347e-02,\n",
       "       -3.59945221e-04,  1.61812188e-02,  3.11972147e-03,  4.62189317e-02,\n",
       "       -3.19272863e-02,  1.28414660e-02, -1.38505871e-03, -7.01659170e-03,\n",
       "        3.28535137e-03, -2.05909881e-02, -7.60099768e-03,  1.13789688e-02,\n",
       "       -3.70678046e-03,  6.14123051e-03,  1.88931209e-01, -2.20323936e-02,\n",
       "        8.24515780e-02,  2.66919229e-03, -1.67400890e-02,  8.23923828e-03,\n",
       "       -8.05858434e-03, -1.32398049e-02, -7.46702690e-03, -1.70490321e-02,\n",
       "        8.99891687e-02, -1.13880133e-02,  2.57299938e-04,  2.69988762e-02,\n",
       "       -1.52510281e-02, -1.84181662e-02,  2.39971534e-03, -2.41506422e-02,\n",
       "        6.97189504e-03, -2.27411131e-02,  3.25166371e-02, -2.97396713e-03,\n",
       "        2.66550249e-02, -1.40232968e-02,  7.31263344e-03, -1.61573587e-02,\n",
       "        2.23147679e-04, -1.69890134e-02,  3.43187221e-03, -2.05243215e-02,\n",
       "        4.66405743e-02,  3.12802401e-03, -1.50060620e-03,  7.74583637e-03,\n",
       "        2.60929544e-02,  1.58133664e-02, -1.10582441e-03,  6.93994212e-03,\n",
       "        9.49246628e-03,  9.95118427e-04, -1.69261420e-02, -1.36790003e-02,\n",
       "       -2.28486184e-02,  7.36538643e-03,  7.80552921e-02,  3.43790589e-02,\n",
       "        1.08980703e-02,  1.32950698e-02, -1.68145320e-03,  4.01930497e-03,\n",
       "        2.30093934e-02,  2.78559256e-02,  1.35127928e-02, -1.19951682e-03,\n",
       "        4.59312986e-03,  4.64905055e-03, -7.98714759e-03, -1.30123513e-02,\n",
       "       -1.35776546e-02, -2.97656944e-03,  9.06708106e-03,  3.77820377e-02,\n",
       "        2.75287601e-02,  1.78616134e-02,  2.84707289e-02,  9.07119228e-04,\n",
       "       -8.87080262e-03,  2.61511527e-02,  8.21514239e-03, -1.89937585e-02,\n",
       "       -1.19268703e-02, -2.75081561e-02, -4.24573641e-02,  8.28196753e-03,\n",
       "        5.03410438e-03, -1.67760534e-02, -3.73364366e-03, -2.38307672e-02,\n",
       "        1.19305187e-02,  2.53016797e-02,  6.93313192e-02,  1.40686573e-01,\n",
       "       -3.13640850e-02, -3.83749971e-02, -1.85724873e-02,  6.75687702e-02,\n",
       "        2.08651336e-02, -8.78653511e-03,  2.94900611e-02, -1.54815889e-02,\n",
       "       -5.07435132e-04, -1.47932330e-02,  4.56208985e-02, -8.00772904e-03,\n",
       "        1.28631176e-02,  1.94517879e-02,  2.11521434e-04,  1.03493886e-02,\n",
       "       -1.57861269e-02, -3.42717997e-02, -8.17953383e-03,  3.34322731e-03,\n",
       "       -7.68001592e-03, -9.98114625e-03,  1.07339238e-02,  5.54169261e-02,\n",
       "        8.41593940e-03,  3.16529817e-02, -2.14731234e-02, -5.74701306e-04,\n",
       "       -1.25895869e-02, -7.31235133e-03, -2.16215715e-02,  5.60230124e-02,\n",
       "        5.31256359e-02, -1.75589452e-03, -1.02659661e-03,  1.64589409e-02,\n",
       "       -3.78555180e-03, -4.37129586e-03,  1.76215837e-03, -2.64189671e-04,\n",
       "       -5.50662380e-03, -9.74985789e-03, -2.94189753e-03,  8.59775812e-04,\n",
       "       -1.01983245e-02,  7.61547629e-02, -1.27244315e-02,  8.57683816e-03,\n",
       "        4.13150272e-03, -3.33862419e-02,  1.01881728e-03,  1.46585533e-02,\n",
       "       -1.03228799e-03, -2.66002943e-03,  8.84233811e-03,  3.07363162e-02,\n",
       "        1.19168612e-02, -8.21755560e-03, -6.00465574e-04,  2.79988041e-02,\n",
       "       -4.15238625e-02])"
      ]
     },
     "execution_count": 57,
     "metadata": {},
     "output_type": "execute_result"
    }
   ],
   "source": [
    "predictions"
   ]
  },
  {
   "cell_type": "code",
   "execution_count": null,
   "id": "fde77150",
   "metadata": {},
   "outputs": [],
   "source": []
  },
  {
   "cell_type": "code",
   "execution_count": 54,
   "id": "c27d3903",
   "metadata": {},
   "outputs": [
    {
     "data": {
      "text/plain": [
       "Int64Index([14092, 14093, 14094, 14095, 14096, 14097, 14098, 14099, 14100,\n",
       "            14101,\n",
       "            ...\n",
       "            14687, 14688, 14689, 14690, 14691, 14692, 14693, 14694, 14695,\n",
       "            14696],\n",
       "           dtype='int64', length=605)"
      ]
     },
     "execution_count": 54,
     "metadata": {},
     "output_type": "execute_result"
    }
   ],
   "source": [
    "X_test.index"
   ]
  },
  {
   "cell_type": "code",
   "execution_count": 61,
   "id": "da2ce441",
   "metadata": {},
   "outputs": [],
   "source": [
    "pred_DF = pd.DataFrame(data = predictions , columns = [\"prediction\"] , index = X_test.index )"
   ]
  },
  {
   "cell_type": "code",
   "execution_count": null,
   "id": "5bdf6753",
   "metadata": {},
   "outputs": [],
   "source": []
  },
  {
   "cell_type": "code",
   "execution_count": 62,
   "id": "f72822e0",
   "metadata": {},
   "outputs": [
    {
     "data": {
      "text/html": [
       "<div>\n",
       "<style scoped>\n",
       "    .dataframe tbody tr th:only-of-type {\n",
       "        vertical-align: middle;\n",
       "    }\n",
       "\n",
       "    .dataframe tbody tr th {\n",
       "        vertical-align: top;\n",
       "    }\n",
       "\n",
       "    .dataframe thead th {\n",
       "        text-align: right;\n",
       "    }\n",
       "</style>\n",
       "<table border=\"1\" class=\"dataframe\">\n",
       "  <thead>\n",
       "    <tr style=\"text-align: right;\">\n",
       "      <th></th>\n",
       "      <th>prediction</th>\n",
       "    </tr>\n",
       "  </thead>\n",
       "  <tbody>\n",
       "    <tr>\n",
       "      <th>14092</th>\n",
       "      <td>0.011260</td>\n",
       "    </tr>\n",
       "    <tr>\n",
       "      <th>14093</th>\n",
       "      <td>-0.028128</td>\n",
       "    </tr>\n",
       "    <tr>\n",
       "      <th>14094</th>\n",
       "      <td>-0.009849</td>\n",
       "    </tr>\n",
       "    <tr>\n",
       "      <th>14095</th>\n",
       "      <td>-0.009737</td>\n",
       "    </tr>\n",
       "    <tr>\n",
       "      <th>14096</th>\n",
       "      <td>-0.028641</td>\n",
       "    </tr>\n",
       "    <tr>\n",
       "      <th>...</th>\n",
       "      <td>...</td>\n",
       "    </tr>\n",
       "    <tr>\n",
       "      <th>14692</th>\n",
       "      <td>0.011917</td>\n",
       "    </tr>\n",
       "    <tr>\n",
       "      <th>14693</th>\n",
       "      <td>-0.008218</td>\n",
       "    </tr>\n",
       "    <tr>\n",
       "      <th>14694</th>\n",
       "      <td>-0.000600</td>\n",
       "    </tr>\n",
       "    <tr>\n",
       "      <th>14695</th>\n",
       "      <td>0.027999</td>\n",
       "    </tr>\n",
       "    <tr>\n",
       "      <th>14696</th>\n",
       "      <td>-0.041524</td>\n",
       "    </tr>\n",
       "  </tbody>\n",
       "</table>\n",
       "<p>605 rows × 1 columns</p>\n",
       "</div>"
      ],
      "text/plain": [
       "       prediction\n",
       "14092    0.011260\n",
       "14093   -0.028128\n",
       "14094   -0.009849\n",
       "14095   -0.009737\n",
       "14096   -0.028641\n",
       "...           ...\n",
       "14692    0.011917\n",
       "14693   -0.008218\n",
       "14694   -0.000600\n",
       "14695    0.027999\n",
       "14696   -0.041524\n",
       "\n",
       "[605 rows x 1 columns]"
      ]
     },
     "execution_count": 62,
     "metadata": {},
     "output_type": "execute_result"
    }
   ],
   "source": [
    "pred_DF"
   ]
  },
  {
   "cell_type": "code",
   "execution_count": null,
   "id": "63f2ce4c",
   "metadata": {},
   "outputs": [],
   "source": []
  },
  {
   "cell_type": "markdown",
   "id": "8dd0885e",
   "metadata": {},
   "source": [
    "### Concatenating"
   ]
  },
  {
   "cell_type": "code",
   "execution_count": 64,
   "id": "bb8f3f4d",
   "metadata": {},
   "outputs": [
    {
     "data": {
      "text/plain": [
       "Index(['Age', 'G', 'GS', 'MP', 'FG', 'FGA', 'FG%', '3P', '3PA', '3P%', '2P',\n",
       "       '2PA', '2P%', 'eFG%', 'FT', 'FTA', 'FT%', 'ORB', 'DRB', 'TRB', 'AST',\n",
       "       'STL', 'BLK', 'TOV', 'PF', 'PTS', 'Year', 'W', 'L', 'W/L%', 'GB',\n",
       "       'PS/G', 'PA/G', 'SRS'],\n",
       "      dtype='object')"
      ]
     },
     "execution_count": 64,
     "metadata": {},
     "output_type": "execute_result"
    }
   ],
   "source": [
    "X_test.columns"
   ]
  },
  {
   "cell_type": "code",
   "execution_count": null,
   "id": "2ba1d0ca",
   "metadata": {},
   "outputs": [],
   "source": []
  },
  {
   "cell_type": "code",
   "execution_count": 70,
   "id": "f9abe4bf",
   "metadata": {},
   "outputs": [],
   "source": [
    "combination  = pd.concat([d_test[[\"Player\" , \"Share\"]] ,pred_DF ], axis = 1)"
   ]
  },
  {
   "cell_type": "code",
   "execution_count": 71,
   "id": "8c905589",
   "metadata": {},
   "outputs": [
    {
     "data": {
      "text/html": [
       "<div>\n",
       "<style scoped>\n",
       "    .dataframe tbody tr th:only-of-type {\n",
       "        vertical-align: middle;\n",
       "    }\n",
       "\n",
       "    .dataframe tbody tr th {\n",
       "        vertical-align: top;\n",
       "    }\n",
       "\n",
       "    .dataframe thead th {\n",
       "        text-align: right;\n",
       "    }\n",
       "</style>\n",
       "<table border=\"1\" class=\"dataframe\">\n",
       "  <thead>\n",
       "    <tr style=\"text-align: right;\">\n",
       "      <th></th>\n",
       "      <th>Player</th>\n",
       "      <th>Share</th>\n",
       "      <th>prediction</th>\n",
       "    </tr>\n",
       "  </thead>\n",
       "  <tbody>\n",
       "    <tr>\n",
       "      <th>14092</th>\n",
       "      <td>Mo Bamba</td>\n",
       "      <td>0.0</td>\n",
       "      <td>0.011260</td>\n",
       "    </tr>\n",
       "    <tr>\n",
       "      <th>14093</th>\n",
       "      <td>Gary Harris</td>\n",
       "      <td>0.0</td>\n",
       "      <td>-0.028128</td>\n",
       "    </tr>\n",
       "    <tr>\n",
       "      <th>14094</th>\n",
       "      <td>Ignas Brazdeikis</td>\n",
       "      <td>0.0</td>\n",
       "      <td>-0.009849</td>\n",
       "    </tr>\n",
       "    <tr>\n",
       "      <th>14095</th>\n",
       "      <td>Jalen Suggs</td>\n",
       "      <td>0.0</td>\n",
       "      <td>-0.009737</td>\n",
       "    </tr>\n",
       "    <tr>\n",
       "      <th>14096</th>\n",
       "      <td>Jeff Dowtin</td>\n",
       "      <td>0.0</td>\n",
       "      <td>-0.028641</td>\n",
       "    </tr>\n",
       "  </tbody>\n",
       "</table>\n",
       "</div>"
      ],
      "text/plain": [
       "                 Player  Share  prediction\n",
       "14092          Mo Bamba    0.0    0.011260\n",
       "14093       Gary Harris    0.0   -0.028128\n",
       "14094  Ignas Brazdeikis    0.0   -0.009849\n",
       "14095       Jalen Suggs    0.0   -0.009737\n",
       "14096       Jeff Dowtin    0.0   -0.028641"
      ]
     },
     "execution_count": 71,
     "metadata": {},
     "output_type": "execute_result"
    }
   ],
   "source": [
    "combination.head()"
   ]
  },
  {
   "cell_type": "code",
   "execution_count": null,
   "id": "5a611acf",
   "metadata": {},
   "outputs": [],
   "source": []
  },
  {
   "cell_type": "code",
   "execution_count": 72,
   "id": "8c183cb7",
   "metadata": {},
   "outputs": [
    {
     "data": {
      "text/html": [
       "<div>\n",
       "<style scoped>\n",
       "    .dataframe tbody tr th:only-of-type {\n",
       "        vertical-align: middle;\n",
       "    }\n",
       "\n",
       "    .dataframe tbody tr th {\n",
       "        vertical-align: top;\n",
       "    }\n",
       "\n",
       "    .dataframe thead th {\n",
       "        text-align: right;\n",
       "    }\n",
       "</style>\n",
       "<table border=\"1\" class=\"dataframe\">\n",
       "  <thead>\n",
       "    <tr style=\"text-align: right;\">\n",
       "      <th></th>\n",
       "      <th>Player</th>\n",
       "      <th>Share</th>\n",
       "      <th>prediction</th>\n",
       "    </tr>\n",
       "  </thead>\n",
       "  <tbody>\n",
       "    <tr>\n",
       "      <th>14554</th>\n",
       "      <td>Nikola Jokić</td>\n",
       "      <td>0.875</td>\n",
       "      <td>0.188931</td>\n",
       "    </tr>\n",
       "    <tr>\n",
       "      <th>14497</th>\n",
       "      <td>Joel Embiid</td>\n",
       "      <td>0.706</td>\n",
       "      <td>0.190322</td>\n",
       "    </tr>\n",
       "    <tr>\n",
       "      <th>14203</th>\n",
       "      <td>Giannis Antetokounmpo</td>\n",
       "      <td>0.595</td>\n",
       "      <td>0.218988</td>\n",
       "    </tr>\n",
       "    <tr>\n",
       "      <th>14261</th>\n",
       "      <td>Devin Booker</td>\n",
       "      <td>0.216</td>\n",
       "      <td>0.091401</td>\n",
       "    </tr>\n",
       "    <tr>\n",
       "      <th>14165</th>\n",
       "      <td>Luka Dončić</td>\n",
       "      <td>0.146</td>\n",
       "      <td>0.156639</td>\n",
       "    </tr>\n",
       "    <tr>\n",
       "      <th>...</th>\n",
       "      <td>...</td>\n",
       "      <td>...</td>\n",
       "      <td>...</td>\n",
       "    </tr>\n",
       "    <tr>\n",
       "      <th>14296</th>\n",
       "      <td>Nassir Little</td>\n",
       "      <td>0.000</td>\n",
       "      <td>-0.000577</td>\n",
       "    </tr>\n",
       "    <tr>\n",
       "      <th>14297</th>\n",
       "      <td>D.J. Wilson</td>\n",
       "      <td>0.000</td>\n",
       "      <td>0.054035</td>\n",
       "    </tr>\n",
       "    <tr>\n",
       "      <th>14298</th>\n",
       "      <td>Dalano Banton</td>\n",
       "      <td>0.000</td>\n",
       "      <td>-0.006613</td>\n",
       "    </tr>\n",
       "    <tr>\n",
       "      <th>14299</th>\n",
       "      <td>Daniel Oturu</td>\n",
       "      <td>0.000</td>\n",
       "      <td>0.001405</td>\n",
       "    </tr>\n",
       "    <tr>\n",
       "      <th>14696</th>\n",
       "      <td>Devin Cannady</td>\n",
       "      <td>0.000</td>\n",
       "      <td>-0.041524</td>\n",
       "    </tr>\n",
       "  </tbody>\n",
       "</table>\n",
       "<p>605 rows × 3 columns</p>\n",
       "</div>"
      ],
      "text/plain": [
       "                      Player  Share  prediction\n",
       "14554           Nikola Jokić  0.875    0.188931\n",
       "14497            Joel Embiid  0.706    0.190322\n",
       "14203  Giannis Antetokounmpo  0.595    0.218988\n",
       "14261           Devin Booker  0.216    0.091401\n",
       "14165            Luka Dončić  0.146    0.156639\n",
       "...                      ...    ...         ...\n",
       "14296          Nassir Little  0.000   -0.000577\n",
       "14297            D.J. Wilson  0.000    0.054035\n",
       "14298          Dalano Banton  0.000   -0.006613\n",
       "14299           Daniel Oturu  0.000    0.001405\n",
       "14696          Devin Cannady  0.000   -0.041524\n",
       "\n",
       "[605 rows x 3 columns]"
      ]
     },
     "execution_count": 72,
     "metadata": {},
     "output_type": "execute_result"
    }
   ],
   "source": [
    "combination.sort_values(by = [\"Share\"] , ascending = False)"
   ]
  },
  {
   "cell_type": "code",
   "execution_count": 79,
   "id": "c887cdc6",
   "metadata": {},
   "outputs": [
    {
     "data": {
      "text/plain": [
       "605"
      ]
     },
     "execution_count": 79,
     "metadata": {},
     "output_type": "execute_result"
    }
   ],
   "source": []
  },
  {
   "cell_type": "code",
   "execution_count": 73,
   "id": "b4e818f6",
   "metadata": {},
   "outputs": [],
   "source": [
    "from sklearn.metrics import r2_score"
   ]
  },
  {
   "cell_type": "code",
   "execution_count": null,
   "id": "68141a2d",
   "metadata": {},
   "outputs": [],
   "source": []
  },
  {
   "cell_type": "code",
   "execution_count": 75,
   "id": "986d44ff",
   "metadata": {},
   "outputs": [
    {
     "data": {
      "text/plain": [
       "0.19180073520363206"
      ]
     },
     "execution_count": 75,
     "metadata": {},
     "output_type": "execute_result"
    }
   ],
   "source": [
    "r2_score(combination[\"Share\"] , combination[\"prediction\"])"
   ]
  },
  {
   "cell_type": "code",
   "execution_count": null,
   "id": "7c692bcc",
   "metadata": {},
   "outputs": [],
   "source": []
  },
  {
   "cell_type": "markdown",
   "id": "c959ea9b",
   "metadata": {},
   "source": [
    "### Creating rank columns"
   ]
  },
  {
   "cell_type": "code",
   "execution_count": null,
   "id": "45c3b014",
   "metadata": {},
   "outputs": [],
   "source": []
  },
  {
   "cell_type": "code",
   "execution_count": 83,
   "id": "10ba50cc",
   "metadata": {},
   "outputs": [],
   "source": [
    "combination = combination.sort_values(by = [\"Share\"] , ascending = False )"
   ]
  },
  {
   "cell_type": "code",
   "execution_count": 84,
   "id": "47b48aa2",
   "metadata": {},
   "outputs": [
    {
     "data": {
      "text/plain": [
       "(605, 3)"
      ]
     },
     "execution_count": 84,
     "metadata": {},
     "output_type": "execute_result"
    }
   ],
   "source": [
    "combination.shape"
   ]
  },
  {
   "cell_type": "code",
   "execution_count": 82,
   "id": "c842c8c0",
   "metadata": {},
   "outputs": [
    {
     "data": {
      "text/plain": [
       "605"
      ]
     },
     "execution_count": 82,
     "metadata": {},
     "output_type": "execute_result"
    }
   ],
   "source": [
    "len(combination)"
   ]
  },
  {
   "cell_type": "code",
   "execution_count": null,
   "id": "f8590220",
   "metadata": {},
   "outputs": [],
   "source": []
  },
  {
   "cell_type": "code",
   "execution_count": 95,
   "id": "e7f16378",
   "metadata": {},
   "outputs": [],
   "source": [
    "combination[\"RK_actual\"] = list(range(1,len(combination) + 1))"
   ]
  },
  {
   "cell_type": "code",
   "execution_count": null,
   "id": "143c0397",
   "metadata": {},
   "outputs": [],
   "source": []
  },
  {
   "cell_type": "code",
   "execution_count": 96,
   "id": "8f586cd7",
   "metadata": {},
   "outputs": [
    {
     "data": {
      "text/html": [
       "<div>\n",
       "<style scoped>\n",
       "    .dataframe tbody tr th:only-of-type {\n",
       "        vertical-align: middle;\n",
       "    }\n",
       "\n",
       "    .dataframe tbody tr th {\n",
       "        vertical-align: top;\n",
       "    }\n",
       "\n",
       "    .dataframe thead th {\n",
       "        text-align: right;\n",
       "    }\n",
       "</style>\n",
       "<table border=\"1\" class=\"dataframe\">\n",
       "  <thead>\n",
       "    <tr style=\"text-align: right;\">\n",
       "      <th></th>\n",
       "      <th>Player</th>\n",
       "      <th>Share</th>\n",
       "      <th>prediction</th>\n",
       "      <th>RK_actual</th>\n",
       "    </tr>\n",
       "  </thead>\n",
       "  <tbody>\n",
       "    <tr>\n",
       "      <th>14554</th>\n",
       "      <td>Nikola Jokić</td>\n",
       "      <td>0.875</td>\n",
       "      <td>0.188931</td>\n",
       "      <td>1</td>\n",
       "    </tr>\n",
       "    <tr>\n",
       "      <th>14497</th>\n",
       "      <td>Joel Embiid</td>\n",
       "      <td>0.706</td>\n",
       "      <td>0.190322</td>\n",
       "      <td>2</td>\n",
       "    </tr>\n",
       "    <tr>\n",
       "      <th>14203</th>\n",
       "      <td>Giannis Antetokounmpo</td>\n",
       "      <td>0.595</td>\n",
       "      <td>0.218988</td>\n",
       "      <td>3</td>\n",
       "    </tr>\n",
       "    <tr>\n",
       "      <th>14261</th>\n",
       "      <td>Devin Booker</td>\n",
       "      <td>0.216</td>\n",
       "      <td>0.091401</td>\n",
       "      <td>4</td>\n",
       "    </tr>\n",
       "    <tr>\n",
       "      <th>14165</th>\n",
       "      <td>Luka Dončić</td>\n",
       "      <td>0.146</td>\n",
       "      <td>0.156639</td>\n",
       "      <td>5</td>\n",
       "    </tr>\n",
       "  </tbody>\n",
       "</table>\n",
       "</div>"
      ],
      "text/plain": [
       "                      Player  Share  prediction  RK_actual\n",
       "14554           Nikola Jokić  0.875    0.188931          1\n",
       "14497            Joel Embiid  0.706    0.190322          2\n",
       "14203  Giannis Antetokounmpo  0.595    0.218988          3\n",
       "14261           Devin Booker  0.216    0.091401          4\n",
       "14165            Luka Dončić  0.146    0.156639          5"
      ]
     },
     "execution_count": 96,
     "metadata": {},
     "output_type": "execute_result"
    }
   ],
   "source": [
    "combination.head()"
   ]
  },
  {
   "cell_type": "code",
   "execution_count": 97,
   "id": "27e1dd95",
   "metadata": {},
   "outputs": [
    {
     "data": {
      "text/html": [
       "<div>\n",
       "<style scoped>\n",
       "    .dataframe tbody tr th:only-of-type {\n",
       "        vertical-align: middle;\n",
       "    }\n",
       "\n",
       "    .dataframe tbody tr th {\n",
       "        vertical-align: top;\n",
       "    }\n",
       "\n",
       "    .dataframe thead th {\n",
       "        text-align: right;\n",
       "    }\n",
       "</style>\n",
       "<table border=\"1\" class=\"dataframe\">\n",
       "  <thead>\n",
       "    <tr style=\"text-align: right;\">\n",
       "      <th></th>\n",
       "      <th>Player</th>\n",
       "      <th>Share</th>\n",
       "      <th>prediction</th>\n",
       "      <th>RK_actual</th>\n",
       "    </tr>\n",
       "  </thead>\n",
       "  <tbody>\n",
       "    <tr>\n",
       "      <th>14676</th>\n",
       "      <td>Garrison Mathews</td>\n",
       "      <td>0.0</td>\n",
       "      <td>-0.005507</td>\n",
       "      <td>601</td>\n",
       "    </tr>\n",
       "    <tr>\n",
       "      <th>14692</th>\n",
       "      <td>Lauri Markkanen</td>\n",
       "      <td>0.0</td>\n",
       "      <td>0.011917</td>\n",
       "      <td>602</td>\n",
       "    </tr>\n",
       "    <tr>\n",
       "      <th>14693</th>\n",
       "      <td>Lamar Stevens</td>\n",
       "      <td>0.0</td>\n",
       "      <td>-0.008218</td>\n",
       "      <td>603</td>\n",
       "    </tr>\n",
       "    <tr>\n",
       "      <th>14694</th>\n",
       "      <td>Kevin Pangos</td>\n",
       "      <td>0.0</td>\n",
       "      <td>-0.000600</td>\n",
       "      <td>604</td>\n",
       "    </tr>\n",
       "    <tr>\n",
       "      <th>14190</th>\n",
       "      <td>Udoka Azubuike</td>\n",
       "      <td>0.0</td>\n",
       "      <td>-0.011288</td>\n",
       "      <td>605</td>\n",
       "    </tr>\n",
       "  </tbody>\n",
       "</table>\n",
       "</div>"
      ],
      "text/plain": [
       "                 Player  Share  prediction  RK_actual\n",
       "14676  Garrison Mathews    0.0   -0.005507        601\n",
       "14692   Lauri Markkanen    0.0    0.011917        602\n",
       "14693     Lamar Stevens    0.0   -0.008218        603\n",
       "14694      Kevin Pangos    0.0   -0.000600        604\n",
       "14190    Udoka Azubuike    0.0   -0.011288        605"
      ]
     },
     "execution_count": 97,
     "metadata": {},
     "output_type": "execute_result"
    }
   ],
   "source": [
    "combination.tail()"
   ]
  },
  {
   "cell_type": "code",
   "execution_count": null,
   "id": "92e38e2d",
   "metadata": {},
   "outputs": [],
   "source": []
  },
  {
   "cell_type": "markdown",
   "id": "5509a926",
   "metadata": {},
   "source": [
    "### Rank for prediction"
   ]
  },
  {
   "cell_type": "code",
   "execution_count": null,
   "id": "4e317b29",
   "metadata": {},
   "outputs": [],
   "source": []
  },
  {
   "cell_type": "code",
   "execution_count": 99,
   "id": "b84e9f5c",
   "metadata": {},
   "outputs": [],
   "source": [
    "combination = combination.sort_values(by = [\"prediction\"] , ascending = False)"
   ]
  },
  {
   "cell_type": "code",
   "execution_count": 100,
   "id": "3b7c2f74",
   "metadata": {},
   "outputs": [],
   "source": [
    "combination[\"RK_predict\"] = list(range(1,len(combination)+1))"
   ]
  },
  {
   "cell_type": "code",
   "execution_count": null,
   "id": "fd3aaf65",
   "metadata": {},
   "outputs": [],
   "source": []
  },
  {
   "cell_type": "code",
   "execution_count": 101,
   "id": "bb08976d",
   "metadata": {},
   "outputs": [
    {
     "data": {
      "text/html": [
       "<div>\n",
       "<style scoped>\n",
       "    .dataframe tbody tr th:only-of-type {\n",
       "        vertical-align: middle;\n",
       "    }\n",
       "\n",
       "    .dataframe tbody tr th {\n",
       "        vertical-align: top;\n",
       "    }\n",
       "\n",
       "    .dataframe thead th {\n",
       "        text-align: right;\n",
       "    }\n",
       "</style>\n",
       "<table border=\"1\" class=\"dataframe\">\n",
       "  <thead>\n",
       "    <tr style=\"text-align: right;\">\n",
       "      <th></th>\n",
       "      <th>Player</th>\n",
       "      <th>Share</th>\n",
       "      <th>prediction</th>\n",
       "      <th>RK_actual</th>\n",
       "      <th>RK_predict</th>\n",
       "    </tr>\n",
       "  </thead>\n",
       "  <tbody>\n",
       "    <tr>\n",
       "      <th>14203</th>\n",
       "      <td>Giannis Antetokounmpo</td>\n",
       "      <td>0.595</td>\n",
       "      <td>0.218988</td>\n",
       "      <td>3</td>\n",
       "      <td>1</td>\n",
       "    </tr>\n",
       "    <tr>\n",
       "      <th>14497</th>\n",
       "      <td>Joel Embiid</td>\n",
       "      <td>0.706</td>\n",
       "      <td>0.190322</td>\n",
       "      <td>2</td>\n",
       "      <td>2</td>\n",
       "    </tr>\n",
       "    <tr>\n",
       "      <th>14554</th>\n",
       "      <td>Nikola Jokić</td>\n",
       "      <td>0.875</td>\n",
       "      <td>0.188931</td>\n",
       "      <td>1</td>\n",
       "      <td>3</td>\n",
       "    </tr>\n",
       "    <tr>\n",
       "      <th>14363</th>\n",
       "      <td>LeBron James</td>\n",
       "      <td>0.001</td>\n",
       "      <td>0.157545</td>\n",
       "      <td>12</td>\n",
       "      <td>4</td>\n",
       "    </tr>\n",
       "    <tr>\n",
       "      <th>14165</th>\n",
       "      <td>Luka Dončić</td>\n",
       "      <td>0.146</td>\n",
       "      <td>0.156639</td>\n",
       "      <td>5</td>\n",
       "      <td>5</td>\n",
       "    </tr>\n",
       "    <tr>\n",
       "      <th>14635</th>\n",
       "      <td>Kevin Durant</td>\n",
       "      <td>0.001</td>\n",
       "      <td>0.140687</td>\n",
       "      <td>10</td>\n",
       "      <td>6</td>\n",
       "    </tr>\n",
       "    <tr>\n",
       "      <th>14513</th>\n",
       "      <td>Ja Morant</td>\n",
       "      <td>0.010</td>\n",
       "      <td>0.120550</td>\n",
       "      <td>7</td>\n",
       "      <td>7</td>\n",
       "    </tr>\n",
       "    <tr>\n",
       "      <th>14152</th>\n",
       "      <td>Trae Young</td>\n",
       "      <td>0.000</td>\n",
       "      <td>0.108979</td>\n",
       "      <td>49</td>\n",
       "      <td>8</td>\n",
       "    </tr>\n",
       "    <tr>\n",
       "      <th>14373</th>\n",
       "      <td>Anthony Davis</td>\n",
       "      <td>0.000</td>\n",
       "      <td>0.108186</td>\n",
       "      <td>281</td>\n",
       "      <td>9</td>\n",
       "    </tr>\n",
       "    <tr>\n",
       "      <th>14496</th>\n",
       "      <td>James Harden</td>\n",
       "      <td>0.000</td>\n",
       "      <td>0.103916</td>\n",
       "      <td>417</td>\n",
       "      <td>10</td>\n",
       "    </tr>\n",
       "  </tbody>\n",
       "</table>\n",
       "</div>"
      ],
      "text/plain": [
       "                      Player  Share  prediction  RK_actual  RK_predict\n",
       "14203  Giannis Antetokounmpo  0.595    0.218988          3           1\n",
       "14497            Joel Embiid  0.706    0.190322          2           2\n",
       "14554           Nikola Jokić  0.875    0.188931          1           3\n",
       "14363           LeBron James  0.001    0.157545         12           4\n",
       "14165            Luka Dončić  0.146    0.156639          5           5\n",
       "14635           Kevin Durant  0.001    0.140687         10           6\n",
       "14513              Ja Morant  0.010    0.120550          7           7\n",
       "14152             Trae Young  0.000    0.108979         49           8\n",
       "14373          Anthony Davis  0.000    0.108186        281           9\n",
       "14496           James Harden  0.000    0.103916        417          10"
      ]
     },
     "execution_count": 101,
     "metadata": {},
     "output_type": "execute_result"
    }
   ],
   "source": [
    "combination.head(10)"
   ]
  },
  {
   "cell_type": "code",
   "execution_count": null,
   "id": "d4eb8ec7",
   "metadata": {},
   "outputs": [],
   "source": []
  },
  {
   "cell_type": "code",
   "execution_count": 102,
   "id": "3fe5e477",
   "metadata": {},
   "outputs": [],
   "source": [
    "combination = combination.sort_values(by = [\"Share\"] , ascending = False)"
   ]
  },
  {
   "cell_type": "code",
   "execution_count": 103,
   "id": "a75a0a9d",
   "metadata": {},
   "outputs": [
    {
     "data": {
      "text/html": [
       "<div>\n",
       "<style scoped>\n",
       "    .dataframe tbody tr th:only-of-type {\n",
       "        vertical-align: middle;\n",
       "    }\n",
       "\n",
       "    .dataframe tbody tr th {\n",
       "        vertical-align: top;\n",
       "    }\n",
       "\n",
       "    .dataframe thead th {\n",
       "        text-align: right;\n",
       "    }\n",
       "</style>\n",
       "<table border=\"1\" class=\"dataframe\">\n",
       "  <thead>\n",
       "    <tr style=\"text-align: right;\">\n",
       "      <th></th>\n",
       "      <th>Player</th>\n",
       "      <th>Share</th>\n",
       "      <th>prediction</th>\n",
       "      <th>RK_actual</th>\n",
       "      <th>RK_predict</th>\n",
       "    </tr>\n",
       "  </thead>\n",
       "  <tbody>\n",
       "    <tr>\n",
       "      <th>14554</th>\n",
       "      <td>Nikola Jokić</td>\n",
       "      <td>0.875</td>\n",
       "      <td>0.188931</td>\n",
       "      <td>1</td>\n",
       "      <td>3</td>\n",
       "    </tr>\n",
       "    <tr>\n",
       "      <th>14497</th>\n",
       "      <td>Joel Embiid</td>\n",
       "      <td>0.706</td>\n",
       "      <td>0.190322</td>\n",
       "      <td>2</td>\n",
       "      <td>2</td>\n",
       "    </tr>\n",
       "    <tr>\n",
       "      <th>14203</th>\n",
       "      <td>Giannis Antetokounmpo</td>\n",
       "      <td>0.595</td>\n",
       "      <td>0.218988</td>\n",
       "      <td>3</td>\n",
       "      <td>1</td>\n",
       "    </tr>\n",
       "    <tr>\n",
       "      <th>14261</th>\n",
       "      <td>Devin Booker</td>\n",
       "      <td>0.216</td>\n",
       "      <td>0.091401</td>\n",
       "      <td>4</td>\n",
       "      <td>17</td>\n",
       "    </tr>\n",
       "    <tr>\n",
       "      <th>14165</th>\n",
       "      <td>Luka Dončić</td>\n",
       "      <td>0.146</td>\n",
       "      <td>0.156639</td>\n",
       "      <td>5</td>\n",
       "      <td>5</td>\n",
       "    </tr>\n",
       "    <tr>\n",
       "      <th>14454</th>\n",
       "      <td>Jayson Tatum</td>\n",
       "      <td>0.043</td>\n",
       "      <td>0.094236</td>\n",
       "      <td>6</td>\n",
       "      <td>14</td>\n",
       "    </tr>\n",
       "    <tr>\n",
       "      <th>14513</th>\n",
       "      <td>Ja Morant</td>\n",
       "      <td>0.010</td>\n",
       "      <td>0.120550</td>\n",
       "      <td>7</td>\n",
       "      <td>7</td>\n",
       "    </tr>\n",
       "    <tr>\n",
       "      <th>14322</th>\n",
       "      <td>Stephen Curry</td>\n",
       "      <td>0.004</td>\n",
       "      <td>0.092080</td>\n",
       "      <td>8</td>\n",
       "      <td>15</td>\n",
       "    </tr>\n",
       "    <tr>\n",
       "      <th>14263</th>\n",
       "      <td>Chris Paul</td>\n",
       "      <td>0.002</td>\n",
       "      <td>0.078460</td>\n",
       "      <td>9</td>\n",
       "      <td>21</td>\n",
       "    </tr>\n",
       "    <tr>\n",
       "      <th>14494</th>\n",
       "      <td>DeMar DeRozan</td>\n",
       "      <td>0.001</td>\n",
       "      <td>0.100174</td>\n",
       "      <td>11</td>\n",
       "      <td>11</td>\n",
       "    </tr>\n",
       "  </tbody>\n",
       "</table>\n",
       "</div>"
      ],
      "text/plain": [
       "                      Player  Share  prediction  RK_actual  RK_predict\n",
       "14554           Nikola Jokić  0.875    0.188931          1           3\n",
       "14497            Joel Embiid  0.706    0.190322          2           2\n",
       "14203  Giannis Antetokounmpo  0.595    0.218988          3           1\n",
       "14261           Devin Booker  0.216    0.091401          4          17\n",
       "14165            Luka Dončić  0.146    0.156639          5           5\n",
       "14454           Jayson Tatum  0.043    0.094236          6          14\n",
       "14513              Ja Morant  0.010    0.120550          7           7\n",
       "14322          Stephen Curry  0.004    0.092080          8          15\n",
       "14263             Chris Paul  0.002    0.078460          9          21\n",
       "14494          DeMar DeRozan  0.001    0.100174         11          11"
      ]
     },
     "execution_count": 103,
     "metadata": {},
     "output_type": "execute_result"
    }
   ],
   "source": [
    "combination.head(10)"
   ]
  },
  {
   "cell_type": "code",
   "execution_count": null,
   "id": "fea821bc",
   "metadata": {},
   "outputs": [],
   "source": []
  },
  {
   "cell_type": "code",
   "execution_count": null,
   "id": "820bae68",
   "metadata": {},
   "outputs": [],
   "source": []
  },
  {
   "cell_type": "code",
   "execution_count": null,
   "id": "87e30311",
   "metadata": {},
   "outputs": [],
   "source": []
  },
  {
   "cell_type": "code",
   "execution_count": null,
   "id": "da4767e4",
   "metadata": {},
   "outputs": [],
   "source": []
  },
  {
   "cell_type": "code",
   "execution_count": null,
   "id": "e91e0b84",
   "metadata": {},
   "outputs": [],
   "source": []
  },
  {
   "cell_type": "code",
   "execution_count": null,
   "id": "8962a094",
   "metadata": {},
   "outputs": [],
   "source": []
  },
  {
   "cell_type": "code",
   "execution_count": null,
   "id": "7318308c",
   "metadata": {},
   "outputs": [],
   "source": []
  },
  {
   "cell_type": "code",
   "execution_count": null,
   "id": "25b45b31",
   "metadata": {},
   "outputs": [],
   "source": []
  },
  {
   "cell_type": "code",
   "execution_count": null,
   "id": "b79cf2e3",
   "metadata": {},
   "outputs": [],
   "source": []
  },
  {
   "cell_type": "code",
   "execution_count": null,
   "id": "71b48251",
   "metadata": {},
   "outputs": [],
   "source": []
  },
  {
   "cell_type": "code",
   "execution_count": null,
   "id": "b7ce0761",
   "metadata": {},
   "outputs": [],
   "source": []
  },
  {
   "cell_type": "code",
   "execution_count": null,
   "id": "5e2c8f47",
   "metadata": {},
   "outputs": [],
   "source": []
  }
 ],
 "metadata": {
  "kernelspec": {
   "display_name": "Python 3 (ipykernel)",
   "language": "python",
   "name": "python3"
  },
  "language_info": {
   "codemirror_mode": {
    "name": "ipython",
    "version": 3
   },
   "file_extension": ".py",
   "mimetype": "text/x-python",
   "name": "python",
   "nbconvert_exporter": "python",
   "pygments_lexer": "ipython3",
   "version": "3.10.9"
  }
 },
 "nbformat": 4,
 "nbformat_minor": 5
}
