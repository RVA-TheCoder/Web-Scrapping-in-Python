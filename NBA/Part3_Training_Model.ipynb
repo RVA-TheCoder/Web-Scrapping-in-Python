{
 "cells": [
  {
   "cell_type": "code",
   "execution_count": 1,
   "id": "13306050",
   "metadata": {},
   "outputs": [],
   "source": [
    "import pandas as pd\n",
    "import numpy as np"
   ]
  },
  {
   "cell_type": "code",
   "execution_count": null,
   "id": "ef45c73a",
   "metadata": {},
   "outputs": [],
   "source": []
  },
  {
   "cell_type": "markdown",
   "id": "79ed6941",
   "metadata": {},
   "source": [
    "## 1. Get the Data"
   ]
  },
  {
   "cell_type": "code",
   "execution_count": null,
   "id": "0f7f0a15",
   "metadata": {},
   "outputs": [],
   "source": []
  },
  {
   "cell_type": "code",
   "execution_count": 2,
   "id": "5dc4f072",
   "metadata": {},
   "outputs": [],
   "source": [
    "stats = pd.read_csv(\"mvps_player_team.csv\" , index_col = 0)"
   ]
  },
  {
   "cell_type": "code",
   "execution_count": 3,
   "id": "5c2b52ab",
   "metadata": {},
   "outputs": [
    {
     "data": {
      "text/html": [
       "<div>\n",
       "<style scoped>\n",
       "    .dataframe tbody tr th:only-of-type {\n",
       "        vertical-align: middle;\n",
       "    }\n",
       "\n",
       "    .dataframe tbody tr th {\n",
       "        vertical-align: top;\n",
       "    }\n",
       "\n",
       "    .dataframe thead th {\n",
       "        text-align: right;\n",
       "    }\n",
       "</style>\n",
       "<table border=\"1\" class=\"dataframe\">\n",
       "  <thead>\n",
       "    <tr style=\"text-align: right;\">\n",
       "      <th></th>\n",
       "      <th>Player</th>\n",
       "      <th>Pos</th>\n",
       "      <th>Age</th>\n",
       "      <th>Tm</th>\n",
       "      <th>G</th>\n",
       "      <th>GS</th>\n",
       "      <th>MP</th>\n",
       "      <th>FG</th>\n",
       "      <th>FGA</th>\n",
       "      <th>FG%</th>\n",
       "      <th>...</th>\n",
       "      <th>Pts Max</th>\n",
       "      <th>Share</th>\n",
       "      <th>Team</th>\n",
       "      <th>W</th>\n",
       "      <th>L</th>\n",
       "      <th>W/L%</th>\n",
       "      <th>GB</th>\n",
       "      <th>PS/G</th>\n",
       "      <th>PA/G</th>\n",
       "      <th>SRS</th>\n",
       "    </tr>\n",
       "  </thead>\n",
       "  <tbody>\n",
       "    <tr>\n",
       "      <th>0</th>\n",
       "      <td>A.C. Green</td>\n",
       "      <td>PF</td>\n",
       "      <td>27</td>\n",
       "      <td>LAL</td>\n",
       "      <td>82</td>\n",
       "      <td>21</td>\n",
       "      <td>26.4</td>\n",
       "      <td>3.1</td>\n",
       "      <td>6.6</td>\n",
       "      <td>0.476</td>\n",
       "      <td>...</td>\n",
       "      <td>0.0</td>\n",
       "      <td>0.0</td>\n",
       "      <td>Los Angeles Lakers</td>\n",
       "      <td>58.0</td>\n",
       "      <td>24.0</td>\n",
       "      <td>0.707</td>\n",
       "      <td>5.0</td>\n",
       "      <td>106.3</td>\n",
       "      <td>99.6</td>\n",
       "      <td>6.73</td>\n",
       "    </tr>\n",
       "    <tr>\n",
       "      <th>1</th>\n",
       "      <td>Byron Scott</td>\n",
       "      <td>SG</td>\n",
       "      <td>29</td>\n",
       "      <td>LAL</td>\n",
       "      <td>82</td>\n",
       "      <td>82</td>\n",
       "      <td>32.1</td>\n",
       "      <td>6.1</td>\n",
       "      <td>12.8</td>\n",
       "      <td>0.477</td>\n",
       "      <td>...</td>\n",
       "      <td>0.0</td>\n",
       "      <td>0.0</td>\n",
       "      <td>Los Angeles Lakers</td>\n",
       "      <td>58.0</td>\n",
       "      <td>24.0</td>\n",
       "      <td>0.707</td>\n",
       "      <td>5.0</td>\n",
       "      <td>106.3</td>\n",
       "      <td>99.6</td>\n",
       "      <td>6.73</td>\n",
       "    </tr>\n",
       "    <tr>\n",
       "      <th>2</th>\n",
       "      <td>Elden Campbell</td>\n",
       "      <td>PF</td>\n",
       "      <td>22</td>\n",
       "      <td>LAL</td>\n",
       "      <td>52</td>\n",
       "      <td>0</td>\n",
       "      <td>7.3</td>\n",
       "      <td>1.1</td>\n",
       "      <td>2.4</td>\n",
       "      <td>0.455</td>\n",
       "      <td>...</td>\n",
       "      <td>0.0</td>\n",
       "      <td>0.0</td>\n",
       "      <td>Los Angeles Lakers</td>\n",
       "      <td>58.0</td>\n",
       "      <td>24.0</td>\n",
       "      <td>0.707</td>\n",
       "      <td>5.0</td>\n",
       "      <td>106.3</td>\n",
       "      <td>99.6</td>\n",
       "      <td>6.73</td>\n",
       "    </tr>\n",
       "    <tr>\n",
       "      <th>3</th>\n",
       "      <td>Irving Thomas</td>\n",
       "      <td>PF</td>\n",
       "      <td>25</td>\n",
       "      <td>LAL</td>\n",
       "      <td>26</td>\n",
       "      <td>0</td>\n",
       "      <td>4.2</td>\n",
       "      <td>0.7</td>\n",
       "      <td>1.9</td>\n",
       "      <td>0.340</td>\n",
       "      <td>...</td>\n",
       "      <td>0.0</td>\n",
       "      <td>0.0</td>\n",
       "      <td>Los Angeles Lakers</td>\n",
       "      <td>58.0</td>\n",
       "      <td>24.0</td>\n",
       "      <td>0.707</td>\n",
       "      <td>5.0</td>\n",
       "      <td>106.3</td>\n",
       "      <td>99.6</td>\n",
       "      <td>6.73</td>\n",
       "    </tr>\n",
       "    <tr>\n",
       "      <th>4</th>\n",
       "      <td>James Worthy</td>\n",
       "      <td>SF</td>\n",
       "      <td>29</td>\n",
       "      <td>LAL</td>\n",
       "      <td>78</td>\n",
       "      <td>74</td>\n",
       "      <td>38.6</td>\n",
       "      <td>9.2</td>\n",
       "      <td>18.7</td>\n",
       "      <td>0.492</td>\n",
       "      <td>...</td>\n",
       "      <td>0.0</td>\n",
       "      <td>0.0</td>\n",
       "      <td>Los Angeles Lakers</td>\n",
       "      <td>58.0</td>\n",
       "      <td>24.0</td>\n",
       "      <td>0.707</td>\n",
       "      <td>5.0</td>\n",
       "      <td>106.3</td>\n",
       "      <td>99.6</td>\n",
       "      <td>6.73</td>\n",
       "    </tr>\n",
       "  </tbody>\n",
       "</table>\n",
       "<p>5 rows × 41 columns</p>\n",
       "</div>"
      ],
      "text/plain": [
       "           Player Pos  Age   Tm   G  GS    MP   FG   FGA    FG%  ...  Pts Max  \\\n",
       "0      A.C. Green  PF   27  LAL  82  21  26.4  3.1   6.6  0.476  ...      0.0   \n",
       "1     Byron Scott  SG   29  LAL  82  82  32.1  6.1  12.8  0.477  ...      0.0   \n",
       "2  Elden Campbell  PF   22  LAL  52   0   7.3  1.1   2.4  0.455  ...      0.0   \n",
       "3   Irving Thomas  PF   25  LAL  26   0   4.2  0.7   1.9  0.340  ...      0.0   \n",
       "4    James Worthy  SF   29  LAL  78  74  38.6  9.2  18.7  0.492  ...      0.0   \n",
       "\n",
       "   Share                Team     W     L   W/L%   GB   PS/G  PA/G   SRS  \n",
       "0    0.0  Los Angeles Lakers  58.0  24.0  0.707  5.0  106.3  99.6  6.73  \n",
       "1    0.0  Los Angeles Lakers  58.0  24.0  0.707  5.0  106.3  99.6  6.73  \n",
       "2    0.0  Los Angeles Lakers  58.0  24.0  0.707  5.0  106.3  99.6  6.73  \n",
       "3    0.0  Los Angeles Lakers  58.0  24.0  0.707  5.0  106.3  99.6  6.73  \n",
       "4    0.0  Los Angeles Lakers  58.0  24.0  0.707  5.0  106.3  99.6  6.73  \n",
       "\n",
       "[5 rows x 41 columns]"
      ]
     },
     "execution_count": 3,
     "metadata": {},
     "output_type": "execute_result"
    }
   ],
   "source": [
    "stats.head()"
   ]
  },
  {
   "cell_type": "code",
   "execution_count": null,
   "id": "00d4bf71",
   "metadata": {},
   "outputs": [],
   "source": []
  },
  {
   "cell_type": "code",
   "execution_count": 4,
   "id": "3bd5bb51",
   "metadata": {},
   "outputs": [
    {
     "data": {
      "text/plain": [
       "(14697, 41)"
      ]
     },
     "execution_count": 4,
     "metadata": {},
     "output_type": "execute_result"
    }
   ],
   "source": [
    "stats.shape"
   ]
  },
  {
   "cell_type": "code",
   "execution_count": null,
   "id": "a6cece7a",
   "metadata": {},
   "outputs": [],
   "source": []
  },
  {
   "cell_type": "markdown",
   "id": "f62a9ca8",
   "metadata": {},
   "source": [
    "## 2. Checking Null values in each column"
   ]
  },
  {
   "cell_type": "code",
   "execution_count": null,
   "id": "736e24a1",
   "metadata": {},
   "outputs": [],
   "source": []
  },
  {
   "cell_type": "code",
   "execution_count": 5,
   "id": "77c0b9e5",
   "metadata": {},
   "outputs": [
    {
     "data": {
      "text/plain": [
       "Player        0\n",
       "Pos           0\n",
       "Age           0\n",
       "Tm            0\n",
       "G             0\n",
       "GS            0\n",
       "MP            0\n",
       "FG            0\n",
       "FGA           0\n",
       "FG%          59\n",
       "3P            0\n",
       "3PA           0\n",
       "3P%        2086\n",
       "2P            0\n",
       "2PA           0\n",
       "2P%         100\n",
       "eFG%         59\n",
       "FT            0\n",
       "FTA           0\n",
       "FT%         521\n",
       "ORB           0\n",
       "DRB           0\n",
       "TRB           0\n",
       "AST           0\n",
       "STL           0\n",
       "BLK           0\n",
       "TOV           0\n",
       "PF            0\n",
       "PTS           0\n",
       "Year          0\n",
       "Pts Won       0\n",
       "Pts Max       0\n",
       "Share         0\n",
       "Team          0\n",
       "W           401\n",
       "L           401\n",
       "W/L%        401\n",
       "GB          401\n",
       "PS/G        401\n",
       "PA/G        401\n",
       "SRS         401\n",
       "dtype: int64"
      ]
     },
     "execution_count": 5,
     "metadata": {},
     "output_type": "execute_result"
    }
   ],
   "source": [
    "pd.isnull(stats).sum()"
   ]
  },
  {
   "cell_type": "code",
   "execution_count": null,
   "id": "5640ca94",
   "metadata": {},
   "outputs": [],
   "source": []
  },
  {
   "cell_type": "code",
   "execution_count": 6,
   "id": "541d238c",
   "metadata": {},
   "outputs": [],
   "source": [
    "stats = stats.fillna(0)"
   ]
  },
  {
   "cell_type": "code",
   "execution_count": 7,
   "id": "3be04821",
   "metadata": {},
   "outputs": [
    {
     "data": {
      "text/plain": [
       "Player     0\n",
       "Pos        0\n",
       "Age        0\n",
       "Tm         0\n",
       "G          0\n",
       "GS         0\n",
       "MP         0\n",
       "FG         0\n",
       "FGA        0\n",
       "FG%        0\n",
       "3P         0\n",
       "3PA        0\n",
       "3P%        0\n",
       "2P         0\n",
       "2PA        0\n",
       "2P%        0\n",
       "eFG%       0\n",
       "FT         0\n",
       "FTA        0\n",
       "FT%        0\n",
       "ORB        0\n",
       "DRB        0\n",
       "TRB        0\n",
       "AST        0\n",
       "STL        0\n",
       "BLK        0\n",
       "TOV        0\n",
       "PF         0\n",
       "PTS        0\n",
       "Year       0\n",
       "Pts Won    0\n",
       "Pts Max    0\n",
       "Share      0\n",
       "Team       0\n",
       "W          0\n",
       "L          0\n",
       "W/L%       0\n",
       "GB         0\n",
       "PS/G       0\n",
       "PA/G       0\n",
       "SRS        0\n",
       "dtype: int64"
      ]
     },
     "execution_count": 7,
     "metadata": {},
     "output_type": "execute_result"
    }
   ],
   "source": [
    "pd.isnull(stats).sum()"
   ]
  },
  {
   "cell_type": "code",
   "execution_count": null,
   "id": "c4e61d1f",
   "metadata": {},
   "outputs": [],
   "source": []
  },
  {
   "cell_type": "markdown",
   "id": "5ca26362",
   "metadata": {},
   "source": [
    "## 3. Predictor and Target columns"
   ]
  },
  {
   "cell_type": "code",
   "execution_count": null,
   "id": "55b0e7e4",
   "metadata": {},
   "outputs": [],
   "source": []
  },
  {
   "cell_type": "code",
   "execution_count": 8,
   "id": "d0f9dfc5",
   "metadata": {},
   "outputs": [
    {
     "data": {
      "text/plain": [
       "Index(['Player', 'Pos', 'Age', 'Tm', 'G', 'GS', 'MP', 'FG', 'FGA', 'FG%', '3P',\n",
       "       '3PA', '3P%', '2P', '2PA', '2P%', 'eFG%', 'FT', 'FTA', 'FT%', 'ORB',\n",
       "       'DRB', 'TRB', 'AST', 'STL', 'BLK', 'TOV', 'PF', 'PTS', 'Year',\n",
       "       'Pts Won', 'Pts Max', 'Share', 'Team', 'W', 'L', 'W/L%', 'GB', 'PS/G',\n",
       "       'PA/G', 'SRS'],\n",
       "      dtype='object')"
      ]
     },
     "execution_count": 8,
     "metadata": {},
     "output_type": "execute_result"
    }
   ],
   "source": [
    "stats.columns"
   ]
  },
  {
   "cell_type": "code",
   "execution_count": null,
   "id": "5b74e64d",
   "metadata": {},
   "outputs": [],
   "source": []
  },
  {
   "cell_type": "code",
   "execution_count": 9,
   "id": "81bbd24e",
   "metadata": {},
   "outputs": [],
   "source": [
    "predictors = ['Age', 'G', 'GS', 'MP', 'FG', 'FGA', 'FG%', '3P',\n",
    "             '3PA', '3P%', '2P', '2PA', '2P%', 'eFG%', 'FT', 'FTA', 'FT%', 'ORB',\n",
    "             'DRB', 'TRB', 'AST', 'STL', 'BLK', 'TOV', 'PF', 'PTS', 'Year',\n",
    "             'W', 'L', 'W/L%', 'GB', 'PS/G','PA/G', 'SRS']\n",
    "       "
   ]
  },
  {
   "cell_type": "code",
   "execution_count": null,
   "id": "0f3383da",
   "metadata": {},
   "outputs": [],
   "source": []
  },
  {
   "cell_type": "markdown",
   "id": "778ded96",
   "metadata": {},
   "source": [
    "## 4. Making changes in the Year column"
   ]
  },
  {
   "cell_type": "code",
   "execution_count": null,
   "id": "c4bbec81",
   "metadata": {},
   "outputs": [],
   "source": []
  },
  {
   "cell_type": "code",
   "execution_count": 10,
   "id": "7f5f394e",
   "metadata": {},
   "outputs": [
    {
     "data": {
      "text/plain": [
       "array([1991, 1992, 1993, 1994, 1995, 1996, 1997, 1998, 1999, 2000, 2001,\n",
       "       2002, 2003, 2017, 2010, 2011, 2012, 2013, 2014, 2015, 2008, 2009,\n",
       "       2016, 2018, 2019, 2020, 2021, 2022, 2004, 2005, 2006, 2007],\n",
       "      dtype=int64)"
      ]
     },
     "execution_count": 10,
     "metadata": {},
     "output_type": "execute_result"
    }
   ],
   "source": [
    "stats[\"Year\"].unique()"
   ]
  },
  {
   "cell_type": "code",
   "execution_count": null,
   "id": "092988f4",
   "metadata": {},
   "outputs": [],
   "source": []
  },
  {
   "cell_type": "code",
   "execution_count": 11,
   "id": "00ff8e7f",
   "metadata": {},
   "outputs": [],
   "source": [
    "stats = stats.sort_values(by = [\"Year\" ]  , ascending = True)"
   ]
  },
  {
   "cell_type": "code",
   "execution_count": null,
   "id": "42e5eacb",
   "metadata": {},
   "outputs": [],
   "source": []
  },
  {
   "cell_type": "markdown",
   "id": "3da5ee67",
   "metadata": {},
   "source": [
    "#### Resetting the indices"
   ]
  },
  {
   "cell_type": "code",
   "execution_count": null,
   "id": "2890400b",
   "metadata": {},
   "outputs": [],
   "source": []
  },
  {
   "cell_type": "code",
   "execution_count": 12,
   "id": "4c88fd61",
   "metadata": {},
   "outputs": [],
   "source": [
    "stats = stats.reset_index(drop = True)"
   ]
  },
  {
   "cell_type": "code",
   "execution_count": 13,
   "id": "f9c4412d",
   "metadata": {},
   "outputs": [
    {
     "data": {
      "text/plain": [
       "array([    0,     1,     2, ..., 14694, 14695, 14696], dtype=int64)"
      ]
     },
     "execution_count": 13,
     "metadata": {},
     "output_type": "execute_result"
    }
   ],
   "source": [
    "stats.index.values"
   ]
  },
  {
   "cell_type": "code",
   "execution_count": null,
   "id": "40225ffb",
   "metadata": {},
   "outputs": [],
   "source": []
  },
  {
   "cell_type": "code",
   "execution_count": 14,
   "id": "f82624e5",
   "metadata": {},
   "outputs": [
    {
     "data": {
      "text/html": [
       "<div>\n",
       "<style scoped>\n",
       "    .dataframe tbody tr th:only-of-type {\n",
       "        vertical-align: middle;\n",
       "    }\n",
       "\n",
       "    .dataframe tbody tr th {\n",
       "        vertical-align: top;\n",
       "    }\n",
       "\n",
       "    .dataframe thead th {\n",
       "        text-align: right;\n",
       "    }\n",
       "</style>\n",
       "<table border=\"1\" class=\"dataframe\">\n",
       "  <thead>\n",
       "    <tr style=\"text-align: right;\">\n",
       "      <th></th>\n",
       "      <th>Player</th>\n",
       "      <th>Team</th>\n",
       "      <th>Share</th>\n",
       "      <th>Year</th>\n",
       "    </tr>\n",
       "  </thead>\n",
       "  <tbody>\n",
       "    <tr>\n",
       "      <th>0</th>\n",
       "      <td>A.C. Green</td>\n",
       "      <td>Los Angeles Lakers</td>\n",
       "      <td>0.000</td>\n",
       "      <td>1991</td>\n",
       "    </tr>\n",
       "    <tr>\n",
       "      <th>1</th>\n",
       "      <td>Avery Johnson</td>\n",
       "      <td>San Antonio Spurs</td>\n",
       "      <td>0.000</td>\n",
       "      <td>1991</td>\n",
       "    </tr>\n",
       "    <tr>\n",
       "      <th>2</th>\n",
       "      <td>Stojko Vranković</td>\n",
       "      <td>Boston Celtics</td>\n",
       "      <td>0.000</td>\n",
       "      <td>1991</td>\n",
       "    </tr>\n",
       "    <tr>\n",
       "      <th>3</th>\n",
       "      <td>Robert Parish</td>\n",
       "      <td>Boston Celtics</td>\n",
       "      <td>0.010</td>\n",
       "      <td>1991</td>\n",
       "    </tr>\n",
       "    <tr>\n",
       "      <th>4</th>\n",
       "      <td>Reggie Lewis</td>\n",
       "      <td>Boston Celtics</td>\n",
       "      <td>0.000</td>\n",
       "      <td>1991</td>\n",
       "    </tr>\n",
       "    <tr>\n",
       "      <th>5</th>\n",
       "      <td>Michael Smith</td>\n",
       "      <td>Boston Celtics</td>\n",
       "      <td>0.000</td>\n",
       "      <td>1991</td>\n",
       "    </tr>\n",
       "    <tr>\n",
       "      <th>6</th>\n",
       "      <td>Larry Bird</td>\n",
       "      <td>Boston Celtics</td>\n",
       "      <td>0.026</td>\n",
       "      <td>1991</td>\n",
       "    </tr>\n",
       "    <tr>\n",
       "      <th>7</th>\n",
       "      <td>Kevin McHale</td>\n",
       "      <td>Boston Celtics</td>\n",
       "      <td>0.001</td>\n",
       "      <td>1991</td>\n",
       "    </tr>\n",
       "    <tr>\n",
       "      <th>8</th>\n",
       "      <td>Kevin Gamble</td>\n",
       "      <td>Boston Celtics</td>\n",
       "      <td>0.000</td>\n",
       "      <td>1991</td>\n",
       "    </tr>\n",
       "    <tr>\n",
       "      <th>9</th>\n",
       "      <td>Joe Kleine</td>\n",
       "      <td>Boston Celtics</td>\n",
       "      <td>0.000</td>\n",
       "      <td>1991</td>\n",
       "    </tr>\n",
       "  </tbody>\n",
       "</table>\n",
       "</div>"
      ],
      "text/plain": [
       "             Player                Team  Share  Year\n",
       "0        A.C. Green  Los Angeles Lakers  0.000  1991\n",
       "1     Avery Johnson   San Antonio Spurs  0.000  1991\n",
       "2  Stojko Vranković      Boston Celtics  0.000  1991\n",
       "3     Robert Parish      Boston Celtics  0.010  1991\n",
       "4      Reggie Lewis      Boston Celtics  0.000  1991\n",
       "5     Michael Smith      Boston Celtics  0.000  1991\n",
       "6        Larry Bird      Boston Celtics  0.026  1991\n",
       "7      Kevin McHale      Boston Celtics  0.001  1991\n",
       "8      Kevin Gamble      Boston Celtics  0.000  1991\n",
       "9        Joe Kleine      Boston Celtics  0.000  1991"
      ]
     },
     "execution_count": 14,
     "metadata": {},
     "output_type": "execute_result"
    }
   ],
   "source": [
    "stats[['Player','Team','Share','Year']].head(10)"
   ]
  },
  {
   "cell_type": "code",
   "execution_count": null,
   "id": "98110f76",
   "metadata": {},
   "outputs": [],
   "source": []
  },
  {
   "cell_type": "markdown",
   "id": "61e9b33c",
   "metadata": {},
   "source": [
    "## 5. Training and Test dataset"
   ]
  },
  {
   "cell_type": "code",
   "execution_count": null,
   "id": "32b07902",
   "metadata": {},
   "outputs": [],
   "source": []
  },
  {
   "cell_type": "code",
   "execution_count": 15,
   "id": "eac82f47",
   "metadata": {},
   "outputs": [],
   "source": [
    "d_train = stats[stats[\"Year\"] <2022]\n",
    "d_test = stats[stats[\"Year\"]  == 2022]"
   ]
  },
  {
   "cell_type": "code",
   "execution_count": null,
   "id": "40d18b50",
   "metadata": {},
   "outputs": [],
   "source": []
  },
  {
   "cell_type": "code",
   "execution_count": 16,
   "id": "b0dc6783",
   "metadata": {},
   "outputs": [],
   "source": [
    "# X_train = d_train[predictor]\n",
    "# y_train = d_train[\"Share\"]\n",
    "# X_test =  d_test[predictor]\n",
    "# y_test =  d_test[\"Share\"]"
   ]
  },
  {
   "cell_type": "code",
   "execution_count": null,
   "id": "1d8efa1f",
   "metadata": {},
   "outputs": [],
   "source": []
  },
  {
   "cell_type": "code",
   "execution_count": 17,
   "id": "271719d7",
   "metadata": {},
   "outputs": [],
   "source": [
    "#X_train.shape"
   ]
  },
  {
   "cell_type": "code",
   "execution_count": 18,
   "id": "793ebad8",
   "metadata": {},
   "outputs": [],
   "source": [
    "#y_train.shape"
   ]
  },
  {
   "cell_type": "code",
   "execution_count": 19,
   "id": "f6830f29",
   "metadata": {},
   "outputs": [],
   "source": [
    "#X_test.shape"
   ]
  },
  {
   "cell_type": "code",
   "execution_count": 20,
   "id": "398475fb",
   "metadata": {},
   "outputs": [],
   "source": [
    "#y_test.shape"
   ]
  },
  {
   "cell_type": "code",
   "execution_count": null,
   "id": "3fb2b65a",
   "metadata": {},
   "outputs": [],
   "source": []
  },
  {
   "cell_type": "markdown",
   "id": "31f44808",
   "metadata": {},
   "source": [
    "## 6. Model Training and Prediction"
   ]
  },
  {
   "cell_type": "code",
   "execution_count": null,
   "id": "24e402eb",
   "metadata": {},
   "outputs": [],
   "source": []
  },
  {
   "cell_type": "code",
   "execution_count": 21,
   "id": "5cc6c4b5",
   "metadata": {},
   "outputs": [],
   "source": [
    "import sklearn"
   ]
  },
  {
   "cell_type": "code",
   "execution_count": null,
   "id": "18d797ff",
   "metadata": {},
   "outputs": [],
   "source": []
  },
  {
   "cell_type": "code",
   "execution_count": 22,
   "id": "aef2672c",
   "metadata": {},
   "outputs": [],
   "source": [
    "from sklearn.linear_model import LinearRegression\n",
    "from sklearn.linear_model import Ridge\n",
    "from sklearn.neighbors import KNeighborsRegressor\n",
    "from sklearn.svm import SVR\n",
    "from sklearn.tree import DecisionTreeRegressor\n",
    "from sklearn.ensemble import RandomForestRegressor"
   ]
  },
  {
   "cell_type": "code",
   "execution_count": null,
   "id": "78d12ff7",
   "metadata": {},
   "outputs": [],
   "source": []
  },
  {
   "cell_type": "code",
   "execution_count": 23,
   "id": "4c6ab431",
   "metadata": {},
   "outputs": [],
   "source": [
    "models = [LinearRegression(),Ridge(alpha = 0.1), KNeighborsRegressor() ,SVR(),\n",
    "          DecisionTreeRegressor(), RandomForestRegressor()]"
   ]
  },
  {
   "cell_type": "code",
   "execution_count": null,
   "id": "0232fcc8",
   "metadata": {},
   "outputs": [],
   "source": []
  },
  {
   "cell_type": "code",
   "execution_count": 24,
   "id": "d63d1a99",
   "metadata": {},
   "outputs": [],
   "source": [
    "import warnings\n",
    "warnings.filterwarnings('ignore')"
   ]
  },
  {
   "cell_type": "code",
   "execution_count": null,
   "id": "056a6b70",
   "metadata": {},
   "outputs": [],
   "source": []
  },
  {
   "cell_type": "code",
   "execution_count": 25,
   "id": "e089f845",
   "metadata": {},
   "outputs": [],
   "source": [
    "def acc_metric(DF):\n",
    "    \n",
    "    actual = DF.sort_values(by = [\"Share\"] , ascending = False).head(5)\n",
    "    #print(actual)\n",
    "    predicted = DF.sort_values(by = [\"Prediction\"] , ascending = False).head(5)\n",
    "    #print(predicted)\n",
    "    \n",
    "    act_play_list = actual[\"Player\"].values\n",
    "\n",
    "    pred_play_list = predicted[\"Player\"].values\n",
    "    #print(\"Actual: \", act_play_list)\n",
    "    #print(\"Predicted: \", pred_play_list)\n",
    "    \n",
    "    score_list2 = []\n",
    "    for player_name in act_play_list:\n",
    "        \n",
    "        if player_name in pred_play_list:\n",
    "            score_list2.append(1)\n",
    "            #print(score_list)\n",
    "        \n",
    "        else:\n",
    "            \n",
    "            rank_predicted = DF[DF[\"Player\"] == player_name][\"RK_predict\"].iloc[0]\n",
    "            penalty = np.round(5/rank_predicted,3)\n",
    "            score_list2.append(penalty)\n",
    "            #print(score_list)\n",
    "            \n",
    "    # print(f\"Accuracy Score for the NBA Season : {year}\")        \n",
    "    accuracy_res = np.round(sum(score_list2)/len(score_list2),2)\n",
    "    \n",
    "    return score_list2, accuracy_res"
   ]
  },
  {
   "cell_type": "code",
   "execution_count": null,
   "id": "41086a92",
   "metadata": {},
   "outputs": [],
   "source": []
  },
  {
   "cell_type": "code",
   "execution_count": 26,
   "id": "f81f35e6",
   "metadata": {},
   "outputs": [],
   "source": [
    "def ModelTraining(ML_models , DF_train , DF_test , predictor_col ):\n",
    "    \n",
    "    X_train = DF_train[predictor_col]\n",
    "    y_train = DF_train[\"Share\"]\n",
    "    X_test =  DF_test[predictor_col]\n",
    "    y_test =  DF_test[\"Share\"]\n",
    "    \n",
    "    score_list = [] \n",
    "    accuracy_list = []\n",
    "    model_list = []\n",
    "    \n",
    "    for model in ML_models :\n",
    "        \n",
    "        model.fit(X_train.values, y_train)\n",
    "        # y_hat_train = model.predict(X_train.values)\n",
    "        y_hat_test = model.predict(X_test.values)\n",
    "        \n",
    "        pred_DF = pd.DataFrame(data = y_hat_test , columns = [\"Prediction\"] , index = X_test.index )\n",
    "    \n",
    "        combination  = pd.concat([DF_test[[\"Player\" , \"Share\"]] ,pred_DF ], axis = 1)\n",
    "        \n",
    "        # print(combination)\n",
    "        rank_df = combination.copy()\n",
    "    \n",
    "        rank_df = rank_df[rank_df[\"Share\"] > 0]\n",
    "        \n",
    "        # Sorting for Actual ranking\n",
    "        rank_df = rank_df.sort_values(by = [\"Share\"] , ascending = False )\n",
    "        # Assigning Actual Rank\n",
    "        rank_df[\"RK_actual\"] = list(range(1,len(rank_df)+1))\n",
    "    \n",
    "        #print(rank_df)\n",
    "    \n",
    "        # Sorting for Predicted Rank\n",
    "        rank_df = rank_df.sort_values(by = [\"Prediction\"] , ascending = False)\n",
    "        # Assigning Predicted Rank\n",
    "        rank_df[\"RK_predict\"] = list(range(1,len(rank_df)+1))\n",
    "        \n",
    "        score_arr , accuracy = acc_metric(DF = rank_df)\n",
    "        \n",
    "        score_list.append(score_arr)\n",
    "        accuracy_list.append(accuracy)\n",
    "        # year = 2022\n",
    "        \n",
    "        mod = str(model).split('(')[0]\n",
    "        model_list.append(mod)\n",
    "        \n",
    "        \n",
    "        #print(f\"Accuracy Score list for the NBA Season {year} : {score_arr}\")\n",
    "        #print(f\"Accuracy Score for the NBA Season {year} : {accuracy}\\n\\n\")\n",
    "        \n",
    "        # print()\n",
    "    \n",
    "    score_col = {\"Score\": score_list}\n",
    "    \n",
    "    # df = pd.DataFrame(data, columns=['Score'])\n",
    "    Score_DF = pd.DataFrame(data = score_col , columns = [\"Score\"] , \n",
    "                            index = model_list\n",
    "                           )\n",
    "    \n",
    "    Accuracy_DF = pd.DataFrame(data = accuracy_list , columns = [\"Accuracy\"] , \n",
    "                               index = model_list\n",
    "                              )\n",
    "    \n",
    "    Testing_DF  = pd.concat([Score_DF,Accuracy_DF], axis = 1)\n",
    "    \n",
    "    return Testing_DF"
   ]
  },
  {
   "cell_type": "code",
   "execution_count": null,
   "id": "113998b8",
   "metadata": {},
   "outputs": [],
   "source": []
  },
  {
   "cell_type": "code",
   "execution_count": 27,
   "id": "b686d63f",
   "metadata": {
    "scrolled": false
   },
   "outputs": [],
   "source": [
    "Model_perf_DF = ModelTraining(ML_models = models , DF_train = d_train , \n",
    "                              DF_test = d_test, predictor_col = predictors )"
   ]
  },
  {
   "cell_type": "code",
   "execution_count": 28,
   "id": "eb9ddc7f",
   "metadata": {},
   "outputs": [
    {
     "data": {
      "text/html": [
       "<div>\n",
       "<style scoped>\n",
       "    .dataframe tbody tr th:only-of-type {\n",
       "        vertical-align: middle;\n",
       "    }\n",
       "\n",
       "    .dataframe tbody tr th {\n",
       "        vertical-align: top;\n",
       "    }\n",
       "\n",
       "    .dataframe thead th {\n",
       "        text-align: right;\n",
       "    }\n",
       "</style>\n",
       "<table border=\"1\" class=\"dataframe\">\n",
       "  <thead>\n",
       "    <tr style=\"text-align: right;\">\n",
       "      <th></th>\n",
       "      <th>Score</th>\n",
       "      <th>Accuracy</th>\n",
       "    </tr>\n",
       "  </thead>\n",
       "  <tbody>\n",
       "    <tr>\n",
       "      <th>LinearRegression</th>\n",
       "      <td>[1, 1, 1, 0.455, 1]</td>\n",
       "      <td>0.89</td>\n",
       "    </tr>\n",
       "    <tr>\n",
       "      <th>Ridge</th>\n",
       "      <td>[1, 1, 1, 0.455, 1]</td>\n",
       "      <td>0.89</td>\n",
       "    </tr>\n",
       "    <tr>\n",
       "      <th>KNeighborsRegressor</th>\n",
       "      <td>[1, 1, 1, 1, 0.625]</td>\n",
       "      <td>0.92</td>\n",
       "    </tr>\n",
       "    <tr>\n",
       "      <th>SVR</th>\n",
       "      <td>[1, 1, 1, 1, 1]</td>\n",
       "      <td>1.00</td>\n",
       "    </tr>\n",
       "    <tr>\n",
       "      <th>DecisionTreeRegressor</th>\n",
       "      <td>[0.833, 1, 1, 1, 0.714]</td>\n",
       "      <td>0.91</td>\n",
       "    </tr>\n",
       "    <tr>\n",
       "      <th>RandomForestRegressor</th>\n",
       "      <td>[1, 1, 1, 1, 0.833]</td>\n",
       "      <td>0.97</td>\n",
       "    </tr>\n",
       "  </tbody>\n",
       "</table>\n",
       "</div>"
      ],
      "text/plain": [
       "                                         Score  Accuracy\n",
       "LinearRegression           [1, 1, 1, 0.455, 1]      0.89\n",
       "Ridge                      [1, 1, 1, 0.455, 1]      0.89\n",
       "KNeighborsRegressor        [1, 1, 1, 1, 0.625]      0.92\n",
       "SVR                            [1, 1, 1, 1, 1]      1.00\n",
       "DecisionTreeRegressor  [0.833, 1, 1, 1, 0.714]      0.91\n",
       "RandomForestRegressor      [1, 1, 1, 1, 0.833]      0.97"
      ]
     },
     "execution_count": 28,
     "metadata": {},
     "output_type": "execute_result"
    }
   ],
   "source": [
    "Model_perf_DF"
   ]
  },
  {
   "cell_type": "code",
   "execution_count": null,
   "id": "4990317e",
   "metadata": {},
   "outputs": [],
   "source": []
  },
  {
   "cell_type": "code",
   "execution_count": 29,
   "id": "4f088a48",
   "metadata": {},
   "outputs": [
    {
     "name": "stdout",
     "output_type": "stream",
     "text": [
      "                                         Score  Accuracy\n",
      "LinearRegression           [1, 1, 1, 0.455, 1]      0.89\n",
      "Ridge                      [1, 1, 1, 0.455, 1]      0.89\n",
      "KNeighborsRegressor        [1, 1, 1, 1, 0.625]      0.92\n",
      "SVR                            [1, 1, 1, 1, 1]      1.00\n",
      "DecisionTreeRegressor  [0.833, 1, 1, 1, 0.714]      0.91\n",
      "RandomForestRegressor      [1, 1, 1, 1, 0.833]      0.97\n"
     ]
    }
   ],
   "source": [
    "print(Model_perf_DF)"
   ]
  },
  {
   "cell_type": "code",
   "execution_count": null,
   "id": "ea267992",
   "metadata": {},
   "outputs": [],
   "source": []
  },
  {
   "cell_type": "markdown",
   "id": "f3bedf61",
   "metadata": {},
   "source": [
    "## 7. Back Testing"
   ]
  },
  {
   "cell_type": "code",
   "execution_count": null,
   "id": "8eb9464b",
   "metadata": {},
   "outputs": [],
   "source": []
  },
  {
   "cell_type": "code",
   "execution_count": 30,
   "id": "43092371",
   "metadata": {},
   "outputs": [],
   "source": [
    "from colored import fg"
   ]
  },
  {
   "cell_type": "code",
   "execution_count": 31,
   "id": "62db67a0",
   "metadata": {},
   "outputs": [],
   "source": [
    "color = fg('blue')"
   ]
  },
  {
   "cell_type": "code",
   "execution_count": 32,
   "id": "cf67baf0",
   "metadata": {},
   "outputs": [],
   "source": [
    "color2 = fg('black')"
   ]
  },
  {
   "cell_type": "code",
   "execution_count": null,
   "id": "e05a7b4c",
   "metadata": {},
   "outputs": [],
   "source": []
  },
  {
   "cell_type": "code",
   "execution_count": 33,
   "id": "2184d033",
   "metadata": {},
   "outputs": [],
   "source": [
    "def back_testing(DF,ML_Models_list ,Predictors_list, years_list):\n",
    "    \n",
    "    model_perf_year_DF = []\n",
    "    \n",
    "    for year in years_list:\n",
    "        \n",
    "        d_train = DF[DF[\"Year\"] < year]\n",
    "        d_test  = DF[DF[\"Year\"]  == year]\n",
    "       \n",
    "        Model_perf_DF = ModelTraining(ML_models = ML_Models_list , DF_train = d_train , \n",
    "                                      DF_test= d_test, predictor_col = Predictors_list)\n",
    "                                     \n",
    "        \n",
    "        model_perf_year_DF.append(Model_perf_DF)\n",
    "        \n",
    "    \n",
    "    count = 0\n",
    "    \n",
    "    for model_perf_year in model_perf_year_DF:\n",
    "        \n",
    "        print(color+f\"******************\\33[1m NBA SEASON : {years_list[count]} \\33[0m\"+color+\"*****************\\n\\n\")\n",
    "        \n",
    "        print(color2+\" \")\n",
    "        print(model_perf_year)\n",
    "        print(\"\\n\\n\")\n",
    "        count += 1"
   ]
  },
  {
   "cell_type": "code",
   "execution_count": null,
   "id": "aaf1a824",
   "metadata": {},
   "outputs": [],
   "source": []
  },
  {
   "cell_type": "code",
   "execution_count": 34,
   "id": "07c5b527",
   "metadata": {},
   "outputs": [],
   "source": [
    "years = [2019,2020,2021,2022]"
   ]
  },
  {
   "cell_type": "code",
   "execution_count": null,
   "id": "4eacf0cd",
   "metadata": {},
   "outputs": [],
   "source": []
  },
  {
   "cell_type": "code",
   "execution_count": 35,
   "id": "4cde539c",
   "metadata": {
    "scrolled": false
   },
   "outputs": [
    {
     "name": "stdout",
     "output_type": "stream",
     "text": [
      "\u001b[38;5;4m******************\u001b[1m NBA SEASON : 2019 \u001b[0m\u001b[38;5;4m*****************\n",
      "\n",
      "\n",
      "\u001b[38;5;0m \n",
      "                                             Score  Accuracy\n",
      "LinearRegression         [1, 1, 0.625, 0.556, 0.5]      0.74\n",
      "Ridge                    [1, 1, 0.625, 0.556, 0.5]      0.74\n",
      "KNeighborsRegressor        [1, 1, 1, 0.714, 0.833]      0.91\n",
      "SVR                      [1, 1, 0.833, 0.5, 0.556]      0.78\n",
      "DecisionTreeRegressor  [0.833, 1, 0.714, 0.556, 1]      0.82\n",
      "RandomForestRegressor      [1, 1, 0.714, 0.455, 1]      0.83\n",
      "\n",
      "\n",
      "\n",
      "\u001b[38;5;4m******************\u001b[1m NBA SEASON : 2020 \u001b[0m\u001b[38;5;4m*****************\n",
      "\n",
      "\n",
      "\u001b[38;5;0m \n",
      "                                         Score  Accuracy\n",
      "LinearRegression           [1, 1, 1, 1, 0.833]      0.97\n",
      "Ridge                      [1, 1, 1, 1, 0.833]      0.97\n",
      "KNeighborsRegressor    [1, 1, 1, 0.625, 0.714]      0.87\n",
      "SVR                        [1, 1, 1, 1, 0.833]      0.97\n",
      "DecisionTreeRegressor        [1, 0.5, 1, 1, 1]      0.90\n",
      "RandomForestRegressor          [1, 1, 1, 1, 1]      1.00\n",
      "\n",
      "\n",
      "\n",
      "\u001b[38;5;4m******************\u001b[1m NBA SEASON : 2021 \u001b[0m\u001b[38;5;4m*****************\n",
      "\n",
      "\n",
      "\u001b[38;5;0m \n",
      "                                         Score  Accuracy\n",
      "LinearRegression       [1, 1, 0.714, 1, 0.385]      0.82\n",
      "Ridge                  [1, 1, 0.714, 1, 0.385]      0.82\n",
      "KNeighborsRegressor          [1, 1, 1, 1, 0.5]      0.90\n",
      "SVR                        [1, 1, 1, 1, 0.385]      0.88\n",
      "DecisionTreeRegressor  [0.385, 1, 1, 1, 0.556]      0.79\n",
      "RandomForestRegressor      [1, 1, 1, 1, 0.455]      0.89\n",
      "\n",
      "\n",
      "\n",
      "\u001b[38;5;4m******************\u001b[1m NBA SEASON : 2022 \u001b[0m\u001b[38;5;4m*****************\n",
      "\n",
      "\n",
      "\u001b[38;5;0m \n",
      "                                     Score  Accuracy\n",
      "LinearRegression       [1, 1, 1, 0.455, 1]      0.89\n",
      "Ridge                  [1, 1, 1, 0.455, 1]      0.89\n",
      "KNeighborsRegressor    [1, 1, 1, 1, 0.625]      0.92\n",
      "SVR                        [1, 1, 1, 1, 1]      1.00\n",
      "DecisionTreeRegressor  [1, 1, 1, 1, 0.833]      0.97\n",
      "RandomForestRegressor  [1, 1, 0.833, 1, 1]      0.97\n",
      "\n",
      "\n",
      "\n"
     ]
    }
   ],
   "source": [
    "back_testing(DF = stats,ML_Models_list = models ,\n",
    "             Predictors_list = predictors, years_list = years)"
   ]
  },
  {
   "cell_type": "code",
   "execution_count": null,
   "id": "1b0bc8a9",
   "metadata": {},
   "outputs": [],
   "source": []
  },
  {
   "cell_type": "code",
   "execution_count": null,
   "id": "54987778",
   "metadata": {},
   "outputs": [],
   "source": []
  }
 ],
 "metadata": {
  "kernelspec": {
   "display_name": "Python 3 (ipykernel)",
   "language": "python",
   "name": "python3"
  },
  "language_info": {
   "codemirror_mode": {
    "name": "ipython",
    "version": 3
   },
   "file_extension": ".py",
   "mimetype": "text/x-python",
   "name": "python",
   "nbconvert_exporter": "python",
   "pygments_lexer": "ipython3",
   "version": "3.10.9"
  }
 },
 "nbformat": 4,
 "nbformat_minor": 5
}
