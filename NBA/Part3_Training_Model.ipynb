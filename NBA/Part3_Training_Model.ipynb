{
 "cells": [
  {
   "cell_type": "code",
   "execution_count": 1,
   "id": "13306050",
   "metadata": {},
   "outputs": [],
   "source": [
    "import pandas as pd\n",
    "import numpy as np"
   ]
  },
  {
   "cell_type": "code",
   "execution_count": null,
   "id": "ef45c73a",
   "metadata": {},
   "outputs": [],
   "source": []
  },
  {
   "cell_type": "markdown",
   "id": "79ed6941",
   "metadata": {},
   "source": [
    "## 1. Importing Dataset"
   ]
  },
  {
   "cell_type": "code",
   "execution_count": null,
   "id": "0f7f0a15",
   "metadata": {},
   "outputs": [],
   "source": []
  },
  {
   "cell_type": "code",
   "execution_count": 2,
   "id": "5dc4f072",
   "metadata": {},
   "outputs": [],
   "source": [
    "stats = pd.read_csv(\"mvps_player_team.csv\" , index_col = 0)"
   ]
  },
  {
   "cell_type": "code",
   "execution_count": 3,
   "id": "5c2b52ab",
   "metadata": {},
   "outputs": [
    {
     "data": {
      "text/html": [
       "<div>\n",
       "<style scoped>\n",
       "    .dataframe tbody tr th:only-of-type {\n",
       "        vertical-align: middle;\n",
       "    }\n",
       "\n",
       "    .dataframe tbody tr th {\n",
       "        vertical-align: top;\n",
       "    }\n",
       "\n",
       "    .dataframe thead th {\n",
       "        text-align: right;\n",
       "    }\n",
       "</style>\n",
       "<table border=\"1\" class=\"dataframe\">\n",
       "  <thead>\n",
       "    <tr style=\"text-align: right;\">\n",
       "      <th></th>\n",
       "      <th>Player</th>\n",
       "      <th>Pos</th>\n",
       "      <th>Age</th>\n",
       "      <th>Tm</th>\n",
       "      <th>G</th>\n",
       "      <th>GS</th>\n",
       "      <th>MP</th>\n",
       "      <th>FG</th>\n",
       "      <th>FGA</th>\n",
       "      <th>FG%</th>\n",
       "      <th>...</th>\n",
       "      <th>Pts Max</th>\n",
       "      <th>Share</th>\n",
       "      <th>Team</th>\n",
       "      <th>W</th>\n",
       "      <th>L</th>\n",
       "      <th>W/L%</th>\n",
       "      <th>GB</th>\n",
       "      <th>PS/G</th>\n",
       "      <th>PA/G</th>\n",
       "      <th>SRS</th>\n",
       "    </tr>\n",
       "  </thead>\n",
       "  <tbody>\n",
       "    <tr>\n",
       "      <th>0</th>\n",
       "      <td>A.C. Green</td>\n",
       "      <td>PF</td>\n",
       "      <td>27</td>\n",
       "      <td>LAL</td>\n",
       "      <td>82</td>\n",
       "      <td>21</td>\n",
       "      <td>26.4</td>\n",
       "      <td>3.1</td>\n",
       "      <td>6.6</td>\n",
       "      <td>0.476</td>\n",
       "      <td>...</td>\n",
       "      <td>0.0</td>\n",
       "      <td>0.0</td>\n",
       "      <td>Los Angeles Lakers</td>\n",
       "      <td>58.0</td>\n",
       "      <td>24.0</td>\n",
       "      <td>0.707</td>\n",
       "      <td>5.0</td>\n",
       "      <td>106.3</td>\n",
       "      <td>99.6</td>\n",
       "      <td>6.73</td>\n",
       "    </tr>\n",
       "    <tr>\n",
       "      <th>1</th>\n",
       "      <td>Byron Scott</td>\n",
       "      <td>SG</td>\n",
       "      <td>29</td>\n",
       "      <td>LAL</td>\n",
       "      <td>82</td>\n",
       "      <td>82</td>\n",
       "      <td>32.1</td>\n",
       "      <td>6.1</td>\n",
       "      <td>12.8</td>\n",
       "      <td>0.477</td>\n",
       "      <td>...</td>\n",
       "      <td>0.0</td>\n",
       "      <td>0.0</td>\n",
       "      <td>Los Angeles Lakers</td>\n",
       "      <td>58.0</td>\n",
       "      <td>24.0</td>\n",
       "      <td>0.707</td>\n",
       "      <td>5.0</td>\n",
       "      <td>106.3</td>\n",
       "      <td>99.6</td>\n",
       "      <td>6.73</td>\n",
       "    </tr>\n",
       "    <tr>\n",
       "      <th>2</th>\n",
       "      <td>Elden Campbell</td>\n",
       "      <td>PF</td>\n",
       "      <td>22</td>\n",
       "      <td>LAL</td>\n",
       "      <td>52</td>\n",
       "      <td>0</td>\n",
       "      <td>7.3</td>\n",
       "      <td>1.1</td>\n",
       "      <td>2.4</td>\n",
       "      <td>0.455</td>\n",
       "      <td>...</td>\n",
       "      <td>0.0</td>\n",
       "      <td>0.0</td>\n",
       "      <td>Los Angeles Lakers</td>\n",
       "      <td>58.0</td>\n",
       "      <td>24.0</td>\n",
       "      <td>0.707</td>\n",
       "      <td>5.0</td>\n",
       "      <td>106.3</td>\n",
       "      <td>99.6</td>\n",
       "      <td>6.73</td>\n",
       "    </tr>\n",
       "    <tr>\n",
       "      <th>3</th>\n",
       "      <td>Irving Thomas</td>\n",
       "      <td>PF</td>\n",
       "      <td>25</td>\n",
       "      <td>LAL</td>\n",
       "      <td>26</td>\n",
       "      <td>0</td>\n",
       "      <td>4.2</td>\n",
       "      <td>0.7</td>\n",
       "      <td>1.9</td>\n",
       "      <td>0.340</td>\n",
       "      <td>...</td>\n",
       "      <td>0.0</td>\n",
       "      <td>0.0</td>\n",
       "      <td>Los Angeles Lakers</td>\n",
       "      <td>58.0</td>\n",
       "      <td>24.0</td>\n",
       "      <td>0.707</td>\n",
       "      <td>5.0</td>\n",
       "      <td>106.3</td>\n",
       "      <td>99.6</td>\n",
       "      <td>6.73</td>\n",
       "    </tr>\n",
       "    <tr>\n",
       "      <th>4</th>\n",
       "      <td>James Worthy</td>\n",
       "      <td>SF</td>\n",
       "      <td>29</td>\n",
       "      <td>LAL</td>\n",
       "      <td>78</td>\n",
       "      <td>74</td>\n",
       "      <td>38.6</td>\n",
       "      <td>9.2</td>\n",
       "      <td>18.7</td>\n",
       "      <td>0.492</td>\n",
       "      <td>...</td>\n",
       "      <td>0.0</td>\n",
       "      <td>0.0</td>\n",
       "      <td>Los Angeles Lakers</td>\n",
       "      <td>58.0</td>\n",
       "      <td>24.0</td>\n",
       "      <td>0.707</td>\n",
       "      <td>5.0</td>\n",
       "      <td>106.3</td>\n",
       "      <td>99.6</td>\n",
       "      <td>6.73</td>\n",
       "    </tr>\n",
       "  </tbody>\n",
       "</table>\n",
       "<p>5 rows × 41 columns</p>\n",
       "</div>"
      ],
      "text/plain": [
       "           Player Pos  Age   Tm   G  GS    MP   FG   FGA    FG%  ...  Pts Max  \\\n",
       "0      A.C. Green  PF   27  LAL  82  21  26.4  3.1   6.6  0.476  ...      0.0   \n",
       "1     Byron Scott  SG   29  LAL  82  82  32.1  6.1  12.8  0.477  ...      0.0   \n",
       "2  Elden Campbell  PF   22  LAL  52   0   7.3  1.1   2.4  0.455  ...      0.0   \n",
       "3   Irving Thomas  PF   25  LAL  26   0   4.2  0.7   1.9  0.340  ...      0.0   \n",
       "4    James Worthy  SF   29  LAL  78  74  38.6  9.2  18.7  0.492  ...      0.0   \n",
       "\n",
       "   Share                Team     W     L   W/L%   GB   PS/G  PA/G   SRS  \n",
       "0    0.0  Los Angeles Lakers  58.0  24.0  0.707  5.0  106.3  99.6  6.73  \n",
       "1    0.0  Los Angeles Lakers  58.0  24.0  0.707  5.0  106.3  99.6  6.73  \n",
       "2    0.0  Los Angeles Lakers  58.0  24.0  0.707  5.0  106.3  99.6  6.73  \n",
       "3    0.0  Los Angeles Lakers  58.0  24.0  0.707  5.0  106.3  99.6  6.73  \n",
       "4    0.0  Los Angeles Lakers  58.0  24.0  0.707  5.0  106.3  99.6  6.73  \n",
       "\n",
       "[5 rows x 41 columns]"
      ]
     },
     "execution_count": 3,
     "metadata": {},
     "output_type": "execute_result"
    }
   ],
   "source": [
    "stats.head()"
   ]
  },
  {
   "cell_type": "code",
   "execution_count": null,
   "id": "00d4bf71",
   "metadata": {},
   "outputs": [],
   "source": []
  },
  {
   "cell_type": "code",
   "execution_count": 4,
   "id": "3bd5bb51",
   "metadata": {},
   "outputs": [
    {
     "data": {
      "text/plain": [
       "(14697, 41)"
      ]
     },
     "execution_count": 4,
     "metadata": {},
     "output_type": "execute_result"
    }
   ],
   "source": [
    "stats.shape"
   ]
  },
  {
   "cell_type": "code",
   "execution_count": null,
   "id": "a6cece7a",
   "metadata": {},
   "outputs": [],
   "source": []
  },
  {
   "cell_type": "markdown",
   "id": "f62a9ca8",
   "metadata": {},
   "source": [
    "### Checking Null values in each column"
   ]
  },
  {
   "cell_type": "code",
   "execution_count": null,
   "id": "736e24a1",
   "metadata": {},
   "outputs": [],
   "source": []
  },
  {
   "cell_type": "code",
   "execution_count": 5,
   "id": "77c0b9e5",
   "metadata": {},
   "outputs": [
    {
     "data": {
      "text/plain": [
       "Player        0\n",
       "Pos           0\n",
       "Age           0\n",
       "Tm            0\n",
       "G             0\n",
       "GS            0\n",
       "MP            0\n",
       "FG            0\n",
       "FGA           0\n",
       "FG%          59\n",
       "3P            0\n",
       "3PA           0\n",
       "3P%        2086\n",
       "2P            0\n",
       "2PA           0\n",
       "2P%         100\n",
       "eFG%         59\n",
       "FT            0\n",
       "FTA           0\n",
       "FT%         521\n",
       "ORB           0\n",
       "DRB           0\n",
       "TRB           0\n",
       "AST           0\n",
       "STL           0\n",
       "BLK           0\n",
       "TOV           0\n",
       "PF            0\n",
       "PTS           0\n",
       "Year          0\n",
       "Pts Won       0\n",
       "Pts Max       0\n",
       "Share         0\n",
       "Team          0\n",
       "W           401\n",
       "L           401\n",
       "W/L%        401\n",
       "GB          401\n",
       "PS/G        401\n",
       "PA/G        401\n",
       "SRS         401\n",
       "dtype: int64"
      ]
     },
     "execution_count": 5,
     "metadata": {},
     "output_type": "execute_result"
    }
   ],
   "source": [
    "pd.isnull(stats).sum()"
   ]
  },
  {
   "cell_type": "code",
   "execution_count": null,
   "id": "5640ca94",
   "metadata": {},
   "outputs": [],
   "source": []
  },
  {
   "cell_type": "code",
   "execution_count": 6,
   "id": "541d238c",
   "metadata": {},
   "outputs": [],
   "source": [
    "stats = stats.fillna(0)"
   ]
  },
  {
   "cell_type": "code",
   "execution_count": 7,
   "id": "3be04821",
   "metadata": {},
   "outputs": [
    {
     "data": {
      "text/plain": [
       "Player     0\n",
       "Pos        0\n",
       "Age        0\n",
       "Tm         0\n",
       "G          0\n",
       "GS         0\n",
       "MP         0\n",
       "FG         0\n",
       "FGA        0\n",
       "FG%        0\n",
       "3P         0\n",
       "3PA        0\n",
       "3P%        0\n",
       "2P         0\n",
       "2PA        0\n",
       "2P%        0\n",
       "eFG%       0\n",
       "FT         0\n",
       "FTA        0\n",
       "FT%        0\n",
       "ORB        0\n",
       "DRB        0\n",
       "TRB        0\n",
       "AST        0\n",
       "STL        0\n",
       "BLK        0\n",
       "TOV        0\n",
       "PF         0\n",
       "PTS        0\n",
       "Year       0\n",
       "Pts Won    0\n",
       "Pts Max    0\n",
       "Share      0\n",
       "Team       0\n",
       "W          0\n",
       "L          0\n",
       "W/L%       0\n",
       "GB         0\n",
       "PS/G       0\n",
       "PA/G       0\n",
       "SRS        0\n",
       "dtype: int64"
      ]
     },
     "execution_count": 7,
     "metadata": {},
     "output_type": "execute_result"
    }
   ],
   "source": [
    "pd.isnull(stats).sum()"
   ]
  },
  {
   "cell_type": "code",
   "execution_count": null,
   "id": "c4e61d1f",
   "metadata": {},
   "outputs": [],
   "source": []
  },
  {
   "cell_type": "markdown",
   "id": "5ca26362",
   "metadata": {},
   "source": [
    "## 2. Predictor and Target columns"
   ]
  },
  {
   "cell_type": "code",
   "execution_count": null,
   "id": "55b0e7e4",
   "metadata": {},
   "outputs": [],
   "source": []
  },
  {
   "cell_type": "code",
   "execution_count": 8,
   "id": "d0f9dfc5",
   "metadata": {},
   "outputs": [
    {
     "data": {
      "text/plain": [
       "Index(['Player', 'Pos', 'Age', 'Tm', 'G', 'GS', 'MP', 'FG', 'FGA', 'FG%', '3P',\n",
       "       '3PA', '3P%', '2P', '2PA', '2P%', 'eFG%', 'FT', 'FTA', 'FT%', 'ORB',\n",
       "       'DRB', 'TRB', 'AST', 'STL', 'BLK', 'TOV', 'PF', 'PTS', 'Year',\n",
       "       'Pts Won', 'Pts Max', 'Share', 'Team', 'W', 'L', 'W/L%', 'GB', 'PS/G',\n",
       "       'PA/G', 'SRS'],\n",
       "      dtype='object')"
      ]
     },
     "execution_count": 8,
     "metadata": {},
     "output_type": "execute_result"
    }
   ],
   "source": [
    "stats.columns"
   ]
  },
  {
   "cell_type": "code",
   "execution_count": null,
   "id": "5b74e64d",
   "metadata": {},
   "outputs": [],
   "source": []
  },
  {
   "cell_type": "code",
   "execution_count": 9,
   "id": "81bbd24e",
   "metadata": {},
   "outputs": [],
   "source": [
    "predictor = ['Age', 'G', 'GS', 'MP', 'FG', 'FGA', 'FG%', '3P',\n",
    "       '3PA', '3P%', '2P', '2PA', '2P%', 'eFG%', 'FT', 'FTA', 'FT%', 'ORB',\n",
    "       'DRB', 'TRB', 'AST', 'STL', 'BLK', 'TOV', 'PF', 'PTS', 'Year',\n",
    "        'W', 'L', 'W/L%', 'GB', 'PS/G','PA/G', 'SRS']\n",
    "       "
   ]
  },
  {
   "cell_type": "code",
   "execution_count": null,
   "id": "67154286",
   "metadata": {},
   "outputs": [],
   "source": []
  },
  {
   "cell_type": "code",
   "execution_count": 10,
   "id": "f285d50c",
   "metadata": {},
   "outputs": [],
   "source": [
    "# stats['Pos'].unique()"
   ]
  },
  {
   "cell_type": "code",
   "execution_count": null,
   "id": "4f22279c",
   "metadata": {},
   "outputs": [],
   "source": []
  },
  {
   "cell_type": "code",
   "execution_count": 11,
   "id": "899b56c6",
   "metadata": {},
   "outputs": [
    {
     "data": {
      "text/plain": [
       "array([1991, 1992, 1993, 1994, 1995, 1996, 1997, 1998, 1999, 2000, 2001,\n",
       "       2002, 2003, 2017, 2010, 2011, 2012, 2013, 2014, 2015, 2008, 2009,\n",
       "       2016, 2018, 2019, 2020, 2021, 2022, 2004, 2005, 2006, 2007],\n",
       "      dtype=int64)"
      ]
     },
     "execution_count": 11,
     "metadata": {},
     "output_type": "execute_result"
    }
   ],
   "source": [
    "stats[\"Year\"].unique()"
   ]
  },
  {
   "cell_type": "code",
   "execution_count": null,
   "id": "1a26c175",
   "metadata": {},
   "outputs": [],
   "source": []
  },
  {
   "cell_type": "code",
   "execution_count": 12,
   "id": "b8254996",
   "metadata": {},
   "outputs": [
    {
     "data": {
      "text/plain": [
       "0        1991\n",
       "10197    1991\n",
       "378      1991\n",
       "377      1991\n",
       "376      1991\n",
       "         ... \n",
       "12291    2022\n",
       "12290    2022\n",
       "12289    2022\n",
       "843      2022\n",
       "1897     2022\n",
       "Name: Year, Length: 14697, dtype: int64"
      ]
     },
     "execution_count": 12,
     "metadata": {},
     "output_type": "execute_result"
    }
   ],
   "source": [
    "stats['Year'].sort_values(ascending = True)"
   ]
  },
  {
   "cell_type": "code",
   "execution_count": null,
   "id": "13564662",
   "metadata": {},
   "outputs": [],
   "source": []
  },
  {
   "cell_type": "code",
   "execution_count": 13,
   "id": "c804ba6d",
   "metadata": {},
   "outputs": [],
   "source": [
    "stats = stats.sort_values(by = [\"Year\" ]  , ascending = True)"
   ]
  },
  {
   "cell_type": "code",
   "execution_count": null,
   "id": "32e37620",
   "metadata": {},
   "outputs": [],
   "source": []
  },
  {
   "cell_type": "code",
   "execution_count": 14,
   "id": "beda4f2d",
   "metadata": {},
   "outputs": [
    {
     "data": {
      "text/plain": [
       "array([1991, 1992, 1993, 1994, 1995, 1996, 1997, 1998, 1999, 2000, 2001,\n",
       "       2002, 2003, 2004, 2005, 2006, 2007, 2008, 2009, 2010, 2011, 2012,\n",
       "       2013, 2014, 2015, 2016, 2017, 2018, 2019, 2020, 2021, 2022],\n",
       "      dtype=int64)"
      ]
     },
     "execution_count": 14,
     "metadata": {},
     "output_type": "execute_result"
    }
   ],
   "source": [
    "stats[\"Year\"].unique()"
   ]
  },
  {
   "cell_type": "code",
   "execution_count": null,
   "id": "916a9ebc",
   "metadata": {},
   "outputs": [],
   "source": []
  },
  {
   "cell_type": "code",
   "execution_count": 15,
   "id": "e20d845e",
   "metadata": {},
   "outputs": [],
   "source": [
    "stats = stats.reset_index(drop = True)"
   ]
  },
  {
   "cell_type": "code",
   "execution_count": null,
   "id": "578c576b",
   "metadata": {},
   "outputs": [],
   "source": []
  },
  {
   "cell_type": "code",
   "execution_count": 16,
   "id": "7f92b417",
   "metadata": {},
   "outputs": [
    {
     "data": {
      "text/html": [
       "<div>\n",
       "<style scoped>\n",
       "    .dataframe tbody tr th:only-of-type {\n",
       "        vertical-align: middle;\n",
       "    }\n",
       "\n",
       "    .dataframe tbody tr th {\n",
       "        vertical-align: top;\n",
       "    }\n",
       "\n",
       "    .dataframe thead th {\n",
       "        text-align: right;\n",
       "    }\n",
       "</style>\n",
       "<table border=\"1\" class=\"dataframe\">\n",
       "  <thead>\n",
       "    <tr style=\"text-align: right;\">\n",
       "      <th></th>\n",
       "      <th>Player</th>\n",
       "      <th>Pos</th>\n",
       "      <th>Age</th>\n",
       "      <th>Tm</th>\n",
       "      <th>G</th>\n",
       "      <th>GS</th>\n",
       "      <th>MP</th>\n",
       "      <th>FG</th>\n",
       "      <th>FGA</th>\n",
       "      <th>FG%</th>\n",
       "      <th>...</th>\n",
       "      <th>Pts Max</th>\n",
       "      <th>Share</th>\n",
       "      <th>Team</th>\n",
       "      <th>W</th>\n",
       "      <th>L</th>\n",
       "      <th>W/L%</th>\n",
       "      <th>GB</th>\n",
       "      <th>PS/G</th>\n",
       "      <th>PA/G</th>\n",
       "      <th>SRS</th>\n",
       "    </tr>\n",
       "  </thead>\n",
       "  <tbody>\n",
       "    <tr>\n",
       "      <th>0</th>\n",
       "      <td>A.C. Green</td>\n",
       "      <td>PF</td>\n",
       "      <td>27</td>\n",
       "      <td>LAL</td>\n",
       "      <td>82</td>\n",
       "      <td>21</td>\n",
       "      <td>26.4</td>\n",
       "      <td>3.1</td>\n",
       "      <td>6.6</td>\n",
       "      <td>0.476</td>\n",
       "      <td>...</td>\n",
       "      <td>0.0</td>\n",
       "      <td>0.000</td>\n",
       "      <td>Los Angeles Lakers</td>\n",
       "      <td>58.0</td>\n",
       "      <td>24.0</td>\n",
       "      <td>0.707</td>\n",
       "      <td>5.0</td>\n",
       "      <td>106.3</td>\n",
       "      <td>99.6</td>\n",
       "      <td>6.73</td>\n",
       "    </tr>\n",
       "    <tr>\n",
       "      <th>1</th>\n",
       "      <td>Avery Johnson</td>\n",
       "      <td>PG</td>\n",
       "      <td>25</td>\n",
       "      <td>SAS</td>\n",
       "      <td>68</td>\n",
       "      <td>14</td>\n",
       "      <td>14.1</td>\n",
       "      <td>1.9</td>\n",
       "      <td>4.1</td>\n",
       "      <td>0.469</td>\n",
       "      <td>...</td>\n",
       "      <td>0.0</td>\n",
       "      <td>0.000</td>\n",
       "      <td>San Antonio Spurs</td>\n",
       "      <td>55.0</td>\n",
       "      <td>27.0</td>\n",
       "      <td>0.671</td>\n",
       "      <td>0.0</td>\n",
       "      <td>107.1</td>\n",
       "      <td>102.6</td>\n",
       "      <td>4.30</td>\n",
       "    </tr>\n",
       "    <tr>\n",
       "      <th>2</th>\n",
       "      <td>Stojko Vranković</td>\n",
       "      <td>C</td>\n",
       "      <td>27</td>\n",
       "      <td>BOS</td>\n",
       "      <td>31</td>\n",
       "      <td>0</td>\n",
       "      <td>5.4</td>\n",
       "      <td>0.8</td>\n",
       "      <td>1.7</td>\n",
       "      <td>0.462</td>\n",
       "      <td>...</td>\n",
       "      <td>0.0</td>\n",
       "      <td>0.000</td>\n",
       "      <td>Boston Celtics</td>\n",
       "      <td>56.0</td>\n",
       "      <td>26.0</td>\n",
       "      <td>0.683</td>\n",
       "      <td>0.0</td>\n",
       "      <td>111.5</td>\n",
       "      <td>105.7</td>\n",
       "      <td>5.22</td>\n",
       "    </tr>\n",
       "    <tr>\n",
       "      <th>3</th>\n",
       "      <td>Robert Parish</td>\n",
       "      <td>C</td>\n",
       "      <td>37</td>\n",
       "      <td>BOS</td>\n",
       "      <td>81</td>\n",
       "      <td>81</td>\n",
       "      <td>30.1</td>\n",
       "      <td>6.0</td>\n",
       "      <td>10.0</td>\n",
       "      <td>0.598</td>\n",
       "      <td>...</td>\n",
       "      <td>960.0</td>\n",
       "      <td>0.010</td>\n",
       "      <td>Boston Celtics</td>\n",
       "      <td>56.0</td>\n",
       "      <td>26.0</td>\n",
       "      <td>0.683</td>\n",
       "      <td>0.0</td>\n",
       "      <td>111.5</td>\n",
       "      <td>105.7</td>\n",
       "      <td>5.22</td>\n",
       "    </tr>\n",
       "    <tr>\n",
       "      <th>4</th>\n",
       "      <td>Reggie Lewis</td>\n",
       "      <td>SG</td>\n",
       "      <td>25</td>\n",
       "      <td>BOS</td>\n",
       "      <td>79</td>\n",
       "      <td>79</td>\n",
       "      <td>36.4</td>\n",
       "      <td>7.6</td>\n",
       "      <td>15.4</td>\n",
       "      <td>0.491</td>\n",
       "      <td>...</td>\n",
       "      <td>0.0</td>\n",
       "      <td>0.000</td>\n",
       "      <td>Boston Celtics</td>\n",
       "      <td>56.0</td>\n",
       "      <td>26.0</td>\n",
       "      <td>0.683</td>\n",
       "      <td>0.0</td>\n",
       "      <td>111.5</td>\n",
       "      <td>105.7</td>\n",
       "      <td>5.22</td>\n",
       "    </tr>\n",
       "    <tr>\n",
       "      <th>5</th>\n",
       "      <td>Michael Smith</td>\n",
       "      <td>PF</td>\n",
       "      <td>25</td>\n",
       "      <td>BOS</td>\n",
       "      <td>47</td>\n",
       "      <td>3</td>\n",
       "      <td>8.3</td>\n",
       "      <td>2.0</td>\n",
       "      <td>4.3</td>\n",
       "      <td>0.475</td>\n",
       "      <td>...</td>\n",
       "      <td>0.0</td>\n",
       "      <td>0.000</td>\n",
       "      <td>Boston Celtics</td>\n",
       "      <td>56.0</td>\n",
       "      <td>26.0</td>\n",
       "      <td>0.683</td>\n",
       "      <td>0.0</td>\n",
       "      <td>111.5</td>\n",
       "      <td>105.7</td>\n",
       "      <td>5.22</td>\n",
       "    </tr>\n",
       "    <tr>\n",
       "      <th>6</th>\n",
       "      <td>Larry Bird</td>\n",
       "      <td>SF</td>\n",
       "      <td>34</td>\n",
       "      <td>BOS</td>\n",
       "      <td>60</td>\n",
       "      <td>60</td>\n",
       "      <td>38.0</td>\n",
       "      <td>7.7</td>\n",
       "      <td>17.0</td>\n",
       "      <td>0.454</td>\n",
       "      <td>...</td>\n",
       "      <td>960.0</td>\n",
       "      <td>0.026</td>\n",
       "      <td>Boston Celtics</td>\n",
       "      <td>56.0</td>\n",
       "      <td>26.0</td>\n",
       "      <td>0.683</td>\n",
       "      <td>0.0</td>\n",
       "      <td>111.5</td>\n",
       "      <td>105.7</td>\n",
       "      <td>5.22</td>\n",
       "    </tr>\n",
       "    <tr>\n",
       "      <th>7</th>\n",
       "      <td>Kevin McHale</td>\n",
       "      <td>PF</td>\n",
       "      <td>33</td>\n",
       "      <td>BOS</td>\n",
       "      <td>68</td>\n",
       "      <td>10</td>\n",
       "      <td>30.4</td>\n",
       "      <td>7.4</td>\n",
       "      <td>13.4</td>\n",
       "      <td>0.553</td>\n",
       "      <td>...</td>\n",
       "      <td>960.0</td>\n",
       "      <td>0.001</td>\n",
       "      <td>Boston Celtics</td>\n",
       "      <td>56.0</td>\n",
       "      <td>26.0</td>\n",
       "      <td>0.683</td>\n",
       "      <td>0.0</td>\n",
       "      <td>111.5</td>\n",
       "      <td>105.7</td>\n",
       "      <td>5.22</td>\n",
       "    </tr>\n",
       "    <tr>\n",
       "      <th>8</th>\n",
       "      <td>Kevin Gamble</td>\n",
       "      <td>SF</td>\n",
       "      <td>25</td>\n",
       "      <td>BOS</td>\n",
       "      <td>82</td>\n",
       "      <td>76</td>\n",
       "      <td>33.0</td>\n",
       "      <td>6.7</td>\n",
       "      <td>11.4</td>\n",
       "      <td>0.587</td>\n",
       "      <td>...</td>\n",
       "      <td>0.0</td>\n",
       "      <td>0.000</td>\n",
       "      <td>Boston Celtics</td>\n",
       "      <td>56.0</td>\n",
       "      <td>26.0</td>\n",
       "      <td>0.683</td>\n",
       "      <td>0.0</td>\n",
       "      <td>111.5</td>\n",
       "      <td>105.7</td>\n",
       "      <td>5.22</td>\n",
       "    </tr>\n",
       "    <tr>\n",
       "      <th>9</th>\n",
       "      <td>Joe Kleine</td>\n",
       "      <td>C</td>\n",
       "      <td>29</td>\n",
       "      <td>BOS</td>\n",
       "      <td>72</td>\n",
       "      <td>1</td>\n",
       "      <td>11.8</td>\n",
       "      <td>1.4</td>\n",
       "      <td>3.0</td>\n",
       "      <td>0.468</td>\n",
       "      <td>...</td>\n",
       "      <td>0.0</td>\n",
       "      <td>0.000</td>\n",
       "      <td>Boston Celtics</td>\n",
       "      <td>56.0</td>\n",
       "      <td>26.0</td>\n",
       "      <td>0.683</td>\n",
       "      <td>0.0</td>\n",
       "      <td>111.5</td>\n",
       "      <td>105.7</td>\n",
       "      <td>5.22</td>\n",
       "    </tr>\n",
       "  </tbody>\n",
       "</table>\n",
       "<p>10 rows × 41 columns</p>\n",
       "</div>"
      ],
      "text/plain": [
       "             Player Pos  Age   Tm   G  GS    MP   FG   FGA    FG%  ...  \\\n",
       "0        A.C. Green  PF   27  LAL  82  21  26.4  3.1   6.6  0.476  ...   \n",
       "1     Avery Johnson  PG   25  SAS  68  14  14.1  1.9   4.1  0.469  ...   \n",
       "2  Stojko Vranković   C   27  BOS  31   0   5.4  0.8   1.7  0.462  ...   \n",
       "3     Robert Parish   C   37  BOS  81  81  30.1  6.0  10.0  0.598  ...   \n",
       "4      Reggie Lewis  SG   25  BOS  79  79  36.4  7.6  15.4  0.491  ...   \n",
       "5     Michael Smith  PF   25  BOS  47   3   8.3  2.0   4.3  0.475  ...   \n",
       "6        Larry Bird  SF   34  BOS  60  60  38.0  7.7  17.0  0.454  ...   \n",
       "7      Kevin McHale  PF   33  BOS  68  10  30.4  7.4  13.4  0.553  ...   \n",
       "8      Kevin Gamble  SF   25  BOS  82  76  33.0  6.7  11.4  0.587  ...   \n",
       "9        Joe Kleine   C   29  BOS  72   1  11.8  1.4   3.0  0.468  ...   \n",
       "\n",
       "   Pts Max  Share                Team     W     L   W/L%   GB   PS/G   PA/G  \\\n",
       "0      0.0  0.000  Los Angeles Lakers  58.0  24.0  0.707  5.0  106.3   99.6   \n",
       "1      0.0  0.000   San Antonio Spurs  55.0  27.0  0.671  0.0  107.1  102.6   \n",
       "2      0.0  0.000      Boston Celtics  56.0  26.0  0.683  0.0  111.5  105.7   \n",
       "3    960.0  0.010      Boston Celtics  56.0  26.0  0.683  0.0  111.5  105.7   \n",
       "4      0.0  0.000      Boston Celtics  56.0  26.0  0.683  0.0  111.5  105.7   \n",
       "5      0.0  0.000      Boston Celtics  56.0  26.0  0.683  0.0  111.5  105.7   \n",
       "6    960.0  0.026      Boston Celtics  56.0  26.0  0.683  0.0  111.5  105.7   \n",
       "7    960.0  0.001      Boston Celtics  56.0  26.0  0.683  0.0  111.5  105.7   \n",
       "8      0.0  0.000      Boston Celtics  56.0  26.0  0.683  0.0  111.5  105.7   \n",
       "9      0.0  0.000      Boston Celtics  56.0  26.0  0.683  0.0  111.5  105.7   \n",
       "\n",
       "    SRS  \n",
       "0  6.73  \n",
       "1  4.30  \n",
       "2  5.22  \n",
       "3  5.22  \n",
       "4  5.22  \n",
       "5  5.22  \n",
       "6  5.22  \n",
       "7  5.22  \n",
       "8  5.22  \n",
       "9  5.22  \n",
       "\n",
       "[10 rows x 41 columns]"
      ]
     },
     "execution_count": 16,
     "metadata": {},
     "output_type": "execute_result"
    }
   ],
   "source": [
    "stats.head(10)"
   ]
  },
  {
   "cell_type": "code",
   "execution_count": null,
   "id": "e91cc736",
   "metadata": {},
   "outputs": [],
   "source": []
  },
  {
   "cell_type": "markdown",
   "id": "61e9b33c",
   "metadata": {},
   "source": [
    "# Trianing and Test dataset"
   ]
  },
  {
   "cell_type": "code",
   "execution_count": null,
   "id": "32b07902",
   "metadata": {},
   "outputs": [],
   "source": []
  },
  {
   "cell_type": "code",
   "execution_count": 17,
   "id": "eac82f47",
   "metadata": {},
   "outputs": [],
   "source": [
    "d_train = stats[stats[\"Year\"] <2022]\n",
    "d_test = stats[stats[\"Year\"]  == 2022]"
   ]
  },
  {
   "cell_type": "code",
   "execution_count": null,
   "id": "69f42a75",
   "metadata": {},
   "outputs": [],
   "source": []
  },
  {
   "cell_type": "code",
   "execution_count": 18,
   "id": "1cb479a6",
   "metadata": {},
   "outputs": [],
   "source": [
    "# d_train[\"Year\"].unique()"
   ]
  },
  {
   "cell_type": "code",
   "execution_count": null,
   "id": "e0bb4741",
   "metadata": {},
   "outputs": [],
   "source": []
  },
  {
   "cell_type": "code",
   "execution_count": 19,
   "id": "b0dc6783",
   "metadata": {},
   "outputs": [],
   "source": [
    "X_train = d_train[predictor]\n",
    "y_train = d_train[\"Share\"]\n",
    "X_test =  d_test[predictor]\n",
    "y_test =  d_test[\"Share\"]"
   ]
  },
  {
   "cell_type": "code",
   "execution_count": null,
   "id": "3b4c2e74",
   "metadata": {},
   "outputs": [],
   "source": []
  },
  {
   "cell_type": "code",
   "execution_count": 20,
   "id": "271719d7",
   "metadata": {},
   "outputs": [
    {
     "data": {
      "text/plain": [
       "(14092, 34)"
      ]
     },
     "execution_count": 20,
     "metadata": {},
     "output_type": "execute_result"
    }
   ],
   "source": [
    "X_train.shape"
   ]
  },
  {
   "cell_type": "code",
   "execution_count": 21,
   "id": "793ebad8",
   "metadata": {},
   "outputs": [
    {
     "data": {
      "text/plain": [
       "(14092,)"
      ]
     },
     "execution_count": 21,
     "metadata": {},
     "output_type": "execute_result"
    }
   ],
   "source": [
    "y_train.shape"
   ]
  },
  {
   "cell_type": "code",
   "execution_count": 22,
   "id": "f6830f29",
   "metadata": {},
   "outputs": [
    {
     "data": {
      "text/plain": [
       "(605, 34)"
      ]
     },
     "execution_count": 22,
     "metadata": {},
     "output_type": "execute_result"
    }
   ],
   "source": [
    "X_test.shape"
   ]
  },
  {
   "cell_type": "code",
   "execution_count": 23,
   "id": "398475fb",
   "metadata": {},
   "outputs": [
    {
     "data": {
      "text/plain": [
       "(605,)"
      ]
     },
     "execution_count": 23,
     "metadata": {},
     "output_type": "execute_result"
    }
   ],
   "source": [
    "y_test.shape"
   ]
  },
  {
   "cell_type": "code",
   "execution_count": null,
   "id": "b8aea4e1",
   "metadata": {},
   "outputs": [],
   "source": []
  },
  {
   "cell_type": "markdown",
   "id": "31f44808",
   "metadata": {},
   "source": [
    "## ML Model"
   ]
  },
  {
   "cell_type": "code",
   "execution_count": null,
   "id": "24e402eb",
   "metadata": {},
   "outputs": [],
   "source": []
  },
  {
   "cell_type": "code",
   "execution_count": 24,
   "id": "5cc6c4b5",
   "metadata": {},
   "outputs": [],
   "source": [
    "import sklearn"
   ]
  },
  {
   "cell_type": "code",
   "execution_count": null,
   "id": "8ab64cd8",
   "metadata": {},
   "outputs": [],
   "source": []
  },
  {
   "cell_type": "code",
   "execution_count": 25,
   "id": "05279b95",
   "metadata": {},
   "outputs": [],
   "source": [
    "from sklearn.linear_model import Ridge"
   ]
  },
  {
   "cell_type": "code",
   "execution_count": null,
   "id": "4d8c00e0",
   "metadata": {},
   "outputs": [],
   "source": []
  },
  {
   "cell_type": "code",
   "execution_count": 26,
   "id": "9d9005ac",
   "metadata": {},
   "outputs": [],
   "source": [
    "reg = Ridge(alpha = 0.1)"
   ]
  },
  {
   "cell_type": "code",
   "execution_count": null,
   "id": "3427d1b7",
   "metadata": {},
   "outputs": [],
   "source": []
  },
  {
   "cell_type": "code",
   "execution_count": 27,
   "id": "1253d9ac",
   "metadata": {},
   "outputs": [
    {
     "data": {
      "text/html": [
       "<style>#sk-container-id-1 {color: black;background-color: white;}#sk-container-id-1 pre{padding: 0;}#sk-container-id-1 div.sk-toggleable {background-color: white;}#sk-container-id-1 label.sk-toggleable__label {cursor: pointer;display: block;width: 100%;margin-bottom: 0;padding: 0.3em;box-sizing: border-box;text-align: center;}#sk-container-id-1 label.sk-toggleable__label-arrow:before {content: \"▸\";float: left;margin-right: 0.25em;color: #696969;}#sk-container-id-1 label.sk-toggleable__label-arrow:hover:before {color: black;}#sk-container-id-1 div.sk-estimator:hover label.sk-toggleable__label-arrow:before {color: black;}#sk-container-id-1 div.sk-toggleable__content {max-height: 0;max-width: 0;overflow: hidden;text-align: left;background-color: #f0f8ff;}#sk-container-id-1 div.sk-toggleable__content pre {margin: 0.2em;color: black;border-radius: 0.25em;background-color: #f0f8ff;}#sk-container-id-1 input.sk-toggleable__control:checked~div.sk-toggleable__content {max-height: 200px;max-width: 100%;overflow: auto;}#sk-container-id-1 input.sk-toggleable__control:checked~label.sk-toggleable__label-arrow:before {content: \"▾\";}#sk-container-id-1 div.sk-estimator input.sk-toggleable__control:checked~label.sk-toggleable__label {background-color: #d4ebff;}#sk-container-id-1 div.sk-label input.sk-toggleable__control:checked~label.sk-toggleable__label {background-color: #d4ebff;}#sk-container-id-1 input.sk-hidden--visually {border: 0;clip: rect(1px 1px 1px 1px);clip: rect(1px, 1px, 1px, 1px);height: 1px;margin: -1px;overflow: hidden;padding: 0;position: absolute;width: 1px;}#sk-container-id-1 div.sk-estimator {font-family: monospace;background-color: #f0f8ff;border: 1px dotted black;border-radius: 0.25em;box-sizing: border-box;margin-bottom: 0.5em;}#sk-container-id-1 div.sk-estimator:hover {background-color: #d4ebff;}#sk-container-id-1 div.sk-parallel-item::after {content: \"\";width: 100%;border-bottom: 1px solid gray;flex-grow: 1;}#sk-container-id-1 div.sk-label:hover label.sk-toggleable__label {background-color: #d4ebff;}#sk-container-id-1 div.sk-serial::before {content: \"\";position: absolute;border-left: 1px solid gray;box-sizing: border-box;top: 0;bottom: 0;left: 50%;z-index: 0;}#sk-container-id-1 div.sk-serial {display: flex;flex-direction: column;align-items: center;background-color: white;padding-right: 0.2em;padding-left: 0.2em;position: relative;}#sk-container-id-1 div.sk-item {position: relative;z-index: 1;}#sk-container-id-1 div.sk-parallel {display: flex;align-items: stretch;justify-content: center;background-color: white;position: relative;}#sk-container-id-1 div.sk-item::before, #sk-container-id-1 div.sk-parallel-item::before {content: \"\";position: absolute;border-left: 1px solid gray;box-sizing: border-box;top: 0;bottom: 0;left: 50%;z-index: -1;}#sk-container-id-1 div.sk-parallel-item {display: flex;flex-direction: column;z-index: 1;position: relative;background-color: white;}#sk-container-id-1 div.sk-parallel-item:first-child::after {align-self: flex-end;width: 50%;}#sk-container-id-1 div.sk-parallel-item:last-child::after {align-self: flex-start;width: 50%;}#sk-container-id-1 div.sk-parallel-item:only-child::after {width: 0;}#sk-container-id-1 div.sk-dashed-wrapped {border: 1px dashed gray;margin: 0 0.4em 0.5em 0.4em;box-sizing: border-box;padding-bottom: 0.4em;background-color: white;}#sk-container-id-1 div.sk-label label {font-family: monospace;font-weight: bold;display: inline-block;line-height: 1.2em;}#sk-container-id-1 div.sk-label-container {text-align: center;}#sk-container-id-1 div.sk-container {/* jupyter's `normalize.less` sets `[hidden] { display: none; }` but bootstrap.min.css set `[hidden] { display: none !important; }` so we also need the `!important` here to be able to override the default hidden behavior on the sphinx rendered scikit-learn.org. See: https://github.com/scikit-learn/scikit-learn/issues/21755 */display: inline-block !important;position: relative;}#sk-container-id-1 div.sk-text-repr-fallback {display: none;}</style><div id=\"sk-container-id-1\" class=\"sk-top-container\"><div class=\"sk-text-repr-fallback\"><pre>Ridge(alpha=0.1)</pre><b>In a Jupyter environment, please rerun this cell to show the HTML representation or trust the notebook. <br />On GitHub, the HTML representation is unable to render, please try loading this page with nbviewer.org.</b></div><div class=\"sk-container\" hidden><div class=\"sk-item\"><div class=\"sk-estimator sk-toggleable\"><input class=\"sk-toggleable__control sk-hidden--visually\" id=\"sk-estimator-id-1\" type=\"checkbox\" checked><label for=\"sk-estimator-id-1\" class=\"sk-toggleable__label sk-toggleable__label-arrow\">Ridge</label><div class=\"sk-toggleable__content\"><pre>Ridge(alpha=0.1)</pre></div></div></div></div></div>"
      ],
      "text/plain": [
       "Ridge(alpha=0.1)"
      ]
     },
     "execution_count": 27,
     "metadata": {},
     "output_type": "execute_result"
    }
   ],
   "source": [
    "reg.fit(X_train , y_train)"
   ]
  },
  {
   "cell_type": "code",
   "execution_count": null,
   "id": "0e2cf7e2",
   "metadata": {},
   "outputs": [],
   "source": []
  },
  {
   "cell_type": "code",
   "execution_count": 28,
   "id": "9c7e56c4",
   "metadata": {},
   "outputs": [],
   "source": [
    "predictions = reg.predict(X_test)"
   ]
  },
  {
   "cell_type": "code",
   "execution_count": 29,
   "id": "46ea7a2d",
   "metadata": {},
   "outputs": [
    {
     "data": {
      "text/plain": [
       "array([ 1.12601817e-02, -2.81279374e-02, -9.84929600e-03, -9.73718521e-03,\n",
       "       -2.86412124e-02,  2.50684173e-02, -1.73659054e-02,  9.86517719e-03,\n",
       "        5.82394430e-03,  3.05874935e-02,  2.64989891e-02, -1.09668315e-02,\n",
       "       -2.50146210e-02,  2.25802401e-02, -6.68711065e-03,  1.64819766e-02,\n",
       "        3.55813556e-03,  1.23742160e-02,  6.69594326e-02,  7.74589774e-02,\n",
       "       -2.06998234e-02, -1.35079183e-02,  1.40282775e-02, -1.87259405e-02,\n",
       "       -1.57216635e-02, -1.35160024e-02, -2.51430612e-02,  2.58506394e-02,\n",
       "        1.09544781e-02, -9.33510119e-04,  2.05023934e-02,  2.42371331e-02,\n",
       "        5.93238034e-03, -1.20226477e-02, -5.32352655e-03,  1.70349970e-02,\n",
       "       -4.08968082e-03, -6.32054933e-03, -3.84947934e-03, -6.36872498e-03,\n",
       "       -1.49475223e-02,  1.24513261e-03,  4.55058397e-02, -1.08095847e-02,\n",
       "       -2.07925023e-02, -1.76528103e-02,  1.82182629e-04, -2.19305521e-02,\n",
       "        8.97470376e-04,  9.50695227e-03, -4.45649829e-03,  2.73804376e-02,\n",
       "       -2.58747101e-02, -1.00552363e-02,  2.03868740e-02,  2.16313770e-03,\n",
       "       -8.36431669e-03,  1.50725125e-02,  2.22577125e-02, -9.63671933e-03,\n",
       "        1.08978627e-01, -6.43016993e-02,  7.60713647e-03,  1.81439299e-02,\n",
       "       -1.76978317e-02, -2.55942317e-02,  3.64609417e-03,  1.50049278e-02,\n",
       "        3.03619720e-04,  1.33319918e-02,  1.87872608e-02,  3.04276217e-02,\n",
       "       -1.11940932e-02,  1.56638931e-01,  7.55970340e-03,  1.14541876e-03,\n",
       "        7.83375526e-03,  9.95099011e-03, -3.26786656e-02,  9.70227298e-02,\n",
       "        1.58090808e-02, -3.17646585e-02,  3.58309642e-02,  5.40328248e-03,\n",
       "       -1.83713347e-02, -9.57823950e-03,  6.11298435e-03, -7.95887085e-03,\n",
       "        3.43155897e-02,  6.93716145e-04, -1.57255026e-02, -2.36955198e-03,\n",
       "        2.77134592e-03,  2.13643908e-04, -1.06336239e-02, -1.19324987e-02,\n",
       "       -1.70976927e-02, -1.29907870e-03, -1.12882978e-02, -1.42456293e-02,\n",
       "       -1.15784781e-03, -3.51153850e-02, -1.58842693e-02,  2.66714629e-02,\n",
       "        5.13326047e-02, -1.27079432e-02,  1.35046729e-02, -2.71669208e-02,\n",
       "       -5.66348220e-03,  2.98194980e-02, -7.35671158e-03,  2.18988364e-01,\n",
       "       -2.20585013e-02,  5.26330744e-02, -1.66273235e-02,  1.63854383e-02,\n",
       "        2.34514037e-02, -2.33506097e-02, -8.00777912e-03, -2.16998562e-03,\n",
       "       -1.03206823e-02,  3.29756990e-03,  2.49842333e-02,  3.78872911e-02,\n",
       "        2.50522269e-03,  3.52223066e-03, -3.22675382e-02, -9.57035432e-04,\n",
       "       -3.71164468e-03, -8.17041659e-04,  6.90937779e-02, -6.71834285e-03,\n",
       "       -6.58061554e-03,  1.10677060e-02,  1.32094927e-02,  9.83913447e-04,\n",
       "        1.32397484e-02,  9.02686168e-03, -1.64224659e-02, -4.48570065e-03,\n",
       "        1.03644509e-02,  1.06960715e-02,  2.40857059e-04, -3.04387747e-02,\n",
       "       -8.37536233e-03,  3.11381276e-03, -1.02734413e-02, -6.78656853e-03,\n",
       "        3.18292918e-02,  2.87062453e-02,  6.51833129e-03,  2.57862418e-03,\n",
       "       -2.27201959e-02, -6.56608129e-04,  7.30675419e-04,  8.52581583e-03,\n",
       "       -2.40063583e-03,  9.03203060e-03,  1.09204016e-02,  1.96326699e-02,\n",
       "       -1.58603769e-03,  7.70335709e-03,  7.83630841e-03, -2.71621664e-02,\n",
       "        3.90533195e-02, -3.52537180e-03,  3.06417140e-02, -1.76661305e-02,\n",
       "       -1.95900106e-03,  9.14011345e-02,  6.66615423e-02,  7.84601512e-02,\n",
       "       -7.56967243e-03,  1.78909751e-02,  1.88509209e-02, -5.17114261e-03,\n",
       "        1.13704795e-03,  1.05309961e-02, -4.26600484e-03, -3.79584925e-04,\n",
       "       -6.23957809e-03, -8.60774423e-03, -1.43097652e-02, -3.27942535e-02,\n",
       "       -1.14703730e-02,  1.72322122e-02,  4.40763500e-03, -2.55297611e-02,\n",
       "        1.84815133e-03, -2.56690102e-02,  1.40249231e-04,  6.27856438e-02,\n",
       "        7.36512643e-03, -9.07783470e-03, -2.56415994e-02, -1.98180542e-02,\n",
       "        5.38813643e-02,  4.91501028e-03,  3.24225386e-02, -8.13360395e-03,\n",
       "       -7.14708802e-03, -1.29784122e-02,  1.85087484e-03, -3.22835445e-02,\n",
       "       -5.76676253e-04,  5.40350312e-02, -6.61349399e-03,  1.40508099e-03,\n",
       "        5.83567909e-03,  3.38375440e-02,  4.11585811e-02, -5.44827391e-02,\n",
       "        2.15635685e-03,  5.14113147e-03, -9.23739899e-03, -1.81714756e-02,\n",
       "        8.63912357e-03, -8.88704137e-03, -2.33472834e-02, -4.34100299e-03,\n",
       "        1.62063021e-02,  3.16971930e-02, -2.44763616e-02, -1.37166291e-02,\n",
       "       -2.65071271e-02, -2.32952982e-02,  1.62437725e-02, -7.31013516e-03,\n",
       "       -6.34857040e-02, -2.38190123e-03,  9.20800825e-02, -5.88862019e-03,\n",
       "       -1.87711911e-02,  5.33194939e-02,  6.58801209e-02,  9.70769458e-03,\n",
       "        2.07350285e-02,  3.56460638e-02,  5.46645048e-03,  3.35245430e-03,\n",
       "       -1.40945733e-02, -2.65504776e-02,  2.72253967e-03, -7.01907558e-05,\n",
       "        7.46321619e-02, -9.55574774e-03,  2.51443329e-02,  5.17374327e-03,\n",
       "       -2.56684671e-03,  5.36089782e-03,  6.75110580e-03,  1.70712282e-02,\n",
       "       -3.37891484e-03,  2.04921040e-02,  6.05365786e-03,  1.18387595e-03,\n",
       "        2.90272960e-03, -9.99432488e-03, -1.11379853e-02,  2.51019576e-02,\n",
       "        5.42168404e-02, -5.40335349e-04,  2.52453189e-02, -1.73966768e-02,\n",
       "       -2.66419473e-03, -1.43182892e-02,  4.08576525e-02,  4.76073755e-02,\n",
       "        2.66588363e-02,  9.41247699e-03, -2.04823791e-02,  1.57545462e-01,\n",
       "       -2.10875243e-02, -2.71833507e-02,  1.19979405e-02,  9.86627097e-03,\n",
       "       -7.42689406e-03, -2.32232865e-02,  1.49787544e-02, -3.50340644e-02,\n",
       "       -1.50541930e-02,  1.08185552e-01,  1.39969136e-02,  5.78986748e-03,\n",
       "        2.19564853e-03, -1.34178334e-02, -9.14356306e-03,  7.67104977e-02,\n",
       "        3.94965461e-02, -1.13120747e-02, -1.12423317e-02, -9.37889612e-03,\n",
       "       -1.27136747e-02, -1.96369666e-03,  2.00381950e-02, -1.29842138e-02,\n",
       "       -1.81607847e-02, -6.58123028e-03,  5.05224495e-02, -1.68912148e-02,\n",
       "       -7.99986572e-03,  2.05861826e-02,  2.39418981e-03,  1.78880954e-02,\n",
       "        1.07231383e-02, -8.93224220e-04, -1.26959826e-02, -9.15507862e-03,\n",
       "       -1.35798351e-02,  9.44582373e-02, -1.49529138e-02, -9.18220921e-04,\n",
       "        9.87691815e-03, -1.55641641e-02, -4.23610490e-03, -2.54057020e-02,\n",
       "        3.83926879e-02,  3.75114094e-02,  3.90962144e-04,  1.93936647e-02,\n",
       "        3.75712417e-03, -1.07275472e-02, -6.96820781e-03,  1.70600057e-02,\n",
       "        3.99999909e-03, -1.56169030e-02,  3.03549626e-04, -1.08714045e-02,\n",
       "        4.25302591e-03, -5.74232592e-03, -1.47896876e-02, -1.22158418e-01,\n",
       "        2.32232653e-02, -1.71891923e-02, -2.19861911e-02,  4.53795955e-03,\n",
       "       -5.34771765e-02,  8.90210037e-02, -1.12204050e-03, -1.91781011e-02,\n",
       "       -5.02808081e-03, -3.01571573e-02, -6.34235712e-02,  1.10371881e-02,\n",
       "        9.14161847e-02,  8.90692830e-04, -1.82691472e-02, -1.50443326e-02,\n",
       "        9.19910175e-03, -4.67328309e-03, -1.72647150e-02, -5.54010354e-03,\n",
       "       -6.86947640e-03,  2.34038248e-02,  1.62061312e-03,  1.76237295e-02,\n",
       "       -8.29576661e-04,  2.46567547e-02, -2.27307009e-02, -2.47633672e-02,\n",
       "       -3.45554146e-03,  6.80023443e-02,  9.42359876e-02, -1.72688462e-02,\n",
       "       -4.60004757e-02, -1.53833423e-02, -4.70295853e-03,  1.87158901e-03,\n",
       "        8.77969188e-03,  1.19536472e-02,  6.26826127e-03,  3.29702022e-04,\n",
       "        1.10385420e-02,  1.00207695e-02, -2.65441784e-02,  6.03875064e-03,\n",
       "        2.08446540e-02, -5.08791988e-04,  2.99631721e-02, -2.94498846e-03,\n",
       "       -1.26204880e-02, -2.75560536e-03,  3.92669103e-04, -1.34224467e-02,\n",
       "       -9.46805603e-03, -3.15037845e-03,  4.02260276e-03,  7.24911152e-02,\n",
       "       -8.23165844e-03, -1.16166503e-02, -2.68017269e-02, -7.75315624e-03,\n",
       "       -1.64523819e-02,  5.34002354e-02, -2.47396559e-03,  6.44257633e-03,\n",
       "        1.25760642e-03, -3.23502057e-04,  2.15696227e-02, -1.19402060e-02,\n",
       "       -2.95321933e-03, -1.35053970e-02,  1.00174247e-01, -9.28871472e-03,\n",
       "        1.03915899e-01,  1.90322274e-01, -1.99912103e-02, -1.00891027e-03,\n",
       "        2.85965196e-03,  1.74633097e-02, -3.01190112e-02, -4.30182728e-03,\n",
       "       -1.51573411e-03, -3.49192156e-03,  1.08759385e-02,  1.64933199e-02,\n",
       "       -1.34634236e-02,  3.14619573e-02, -4.80670706e-04,  4.35289496e-04,\n",
       "        4.17998395e-02,  1.20549785e-01,  1.78275591e-02,  2.96630100e-02,\n",
       "        1.85971271e-02,  1.62199970e-02,  1.31777694e-03,  3.53245359e-02,\n",
       "       -1.03784342e-02,  3.65651887e-03, -7.82818000e-03, -1.78252034e-03,\n",
       "       -4.87017126e-03, -1.32753008e-02, -1.51083294e-02, -1.20933778e-02,\n",
       "        9.89605564e-03,  4.16326914e-04, -1.39510121e-03,  2.29808152e-03,\n",
       "        1.76975149e-02, -2.58518760e-02, -7.64825493e-03,  2.34979064e-02,\n",
       "       -1.17868808e-02,  2.31057022e-02, -3.22988503e-02, -2.33381347e-02,\n",
       "       -3.59945221e-04,  1.61812188e-02,  3.11972147e-03,  4.62189317e-02,\n",
       "       -3.19272863e-02,  1.28414660e-02, -1.38505871e-03, -7.01659170e-03,\n",
       "        3.28535137e-03, -2.05909881e-02, -7.60099768e-03,  1.13789688e-02,\n",
       "       -3.70678046e-03,  6.14123051e-03,  1.88931209e-01, -2.20323936e-02,\n",
       "        8.24515780e-02,  2.66919229e-03, -1.67400890e-02,  8.23923828e-03,\n",
       "       -8.05858434e-03, -1.32398049e-02, -7.46702690e-03, -1.70490321e-02,\n",
       "        8.99891687e-02, -1.13880133e-02,  2.57299938e-04,  2.69988762e-02,\n",
       "       -1.52510281e-02, -1.84181662e-02,  2.39971534e-03, -2.41506422e-02,\n",
       "        6.97189504e-03, -2.27411131e-02,  3.25166371e-02, -2.97396713e-03,\n",
       "        2.66550249e-02, -1.40232968e-02,  7.31263344e-03, -1.61573587e-02,\n",
       "        2.23147679e-04, -1.69890134e-02,  3.43187221e-03, -2.05243215e-02,\n",
       "        4.66405743e-02,  3.12802401e-03, -1.50060620e-03,  7.74583637e-03,\n",
       "        2.60929544e-02,  1.58133664e-02, -1.10582441e-03,  6.93994212e-03,\n",
       "        9.49246628e-03,  9.95118427e-04, -1.69261420e-02, -1.36790003e-02,\n",
       "       -2.28486184e-02,  7.36538643e-03,  7.80552921e-02,  3.43790589e-02,\n",
       "        1.08980703e-02,  1.32950698e-02, -1.68145320e-03,  4.01930497e-03,\n",
       "        2.30093934e-02,  2.78559256e-02,  1.35127928e-02, -1.19951682e-03,\n",
       "        4.59312986e-03,  4.64905055e-03, -7.98714759e-03, -1.30123513e-02,\n",
       "       -1.35776546e-02, -2.97656944e-03,  9.06708106e-03,  3.77820377e-02,\n",
       "        2.75287601e-02,  1.78616134e-02,  2.84707289e-02,  9.07119228e-04,\n",
       "       -8.87080262e-03,  2.61511527e-02,  8.21514239e-03, -1.89937585e-02,\n",
       "       -1.19268703e-02, -2.75081561e-02, -4.24573641e-02,  8.28196753e-03,\n",
       "        5.03410438e-03, -1.67760534e-02, -3.73364366e-03, -2.38307672e-02,\n",
       "        1.19305187e-02,  2.53016797e-02,  6.93313192e-02,  1.40686573e-01,\n",
       "       -3.13640850e-02, -3.83749971e-02, -1.85724873e-02,  6.75687702e-02,\n",
       "        2.08651336e-02, -8.78653511e-03,  2.94900611e-02, -1.54815889e-02,\n",
       "       -5.07435132e-04, -1.47932330e-02,  4.56208985e-02, -8.00772904e-03,\n",
       "        1.28631176e-02,  1.94517879e-02,  2.11521434e-04,  1.03493886e-02,\n",
       "       -1.57861269e-02, -3.42717997e-02, -8.17953383e-03,  3.34322731e-03,\n",
       "       -7.68001592e-03, -9.98114625e-03,  1.07339238e-02,  5.54169261e-02,\n",
       "        8.41593940e-03,  3.16529817e-02, -2.14731234e-02, -5.74701306e-04,\n",
       "       -1.25895869e-02, -7.31235133e-03, -2.16215715e-02,  5.60230124e-02,\n",
       "        5.31256359e-02, -1.75589452e-03, -1.02659661e-03,  1.64589409e-02,\n",
       "       -3.78555180e-03, -4.37129586e-03,  1.76215837e-03, -2.64189671e-04,\n",
       "       -5.50662380e-03, -9.74985789e-03, -2.94189753e-03,  8.59775812e-04,\n",
       "       -1.01983245e-02,  7.61547629e-02, -1.27244315e-02,  8.57683816e-03,\n",
       "        4.13150272e-03, -3.33862419e-02,  1.01881728e-03,  1.46585533e-02,\n",
       "       -1.03228799e-03, -2.66002943e-03,  8.84233811e-03,  3.07363162e-02,\n",
       "        1.19168612e-02, -8.21755560e-03, -6.00465574e-04,  2.79988041e-02,\n",
       "       -4.15238625e-02])"
      ]
     },
     "execution_count": 29,
     "metadata": {},
     "output_type": "execute_result"
    }
   ],
   "source": [
    "predictions"
   ]
  },
  {
   "cell_type": "code",
   "execution_count": null,
   "id": "9c505e1f",
   "metadata": {},
   "outputs": [],
   "source": []
  },
  {
   "cell_type": "code",
   "execution_count": 30,
   "id": "315570a8",
   "metadata": {},
   "outputs": [
    {
     "data": {
      "text/plain": [
       "Int64Index([14092, 14093, 14094, 14095, 14096, 14097, 14098, 14099, 14100,\n",
       "            14101,\n",
       "            ...\n",
       "            14687, 14688, 14689, 14690, 14691, 14692, 14693, 14694, 14695,\n",
       "            14696],\n",
       "           dtype='int64', length=605)"
      ]
     },
     "execution_count": 30,
     "metadata": {},
     "output_type": "execute_result"
    }
   ],
   "source": [
    "X_test.index"
   ]
  },
  {
   "cell_type": "code",
   "execution_count": 31,
   "id": "5e54fd7a",
   "metadata": {},
   "outputs": [],
   "source": [
    "pred_DF = pd.DataFrame(data = predictions , columns = [\"prediction\"] , index = X_test.index )"
   ]
  },
  {
   "cell_type": "code",
   "execution_count": null,
   "id": "73fbc07c",
   "metadata": {},
   "outputs": [],
   "source": []
  },
  {
   "cell_type": "code",
   "execution_count": 32,
   "id": "0a127590",
   "metadata": {},
   "outputs": [
    {
     "data": {
      "text/html": [
       "<div>\n",
       "<style scoped>\n",
       "    .dataframe tbody tr th:only-of-type {\n",
       "        vertical-align: middle;\n",
       "    }\n",
       "\n",
       "    .dataframe tbody tr th {\n",
       "        vertical-align: top;\n",
       "    }\n",
       "\n",
       "    .dataframe thead th {\n",
       "        text-align: right;\n",
       "    }\n",
       "</style>\n",
       "<table border=\"1\" class=\"dataframe\">\n",
       "  <thead>\n",
       "    <tr style=\"text-align: right;\">\n",
       "      <th></th>\n",
       "      <th>prediction</th>\n",
       "    </tr>\n",
       "  </thead>\n",
       "  <tbody>\n",
       "    <tr>\n",
       "      <th>14092</th>\n",
       "      <td>0.011260</td>\n",
       "    </tr>\n",
       "    <tr>\n",
       "      <th>14093</th>\n",
       "      <td>-0.028128</td>\n",
       "    </tr>\n",
       "    <tr>\n",
       "      <th>14094</th>\n",
       "      <td>-0.009849</td>\n",
       "    </tr>\n",
       "    <tr>\n",
       "      <th>14095</th>\n",
       "      <td>-0.009737</td>\n",
       "    </tr>\n",
       "    <tr>\n",
       "      <th>14096</th>\n",
       "      <td>-0.028641</td>\n",
       "    </tr>\n",
       "    <tr>\n",
       "      <th>...</th>\n",
       "      <td>...</td>\n",
       "    </tr>\n",
       "    <tr>\n",
       "      <th>14692</th>\n",
       "      <td>0.011917</td>\n",
       "    </tr>\n",
       "    <tr>\n",
       "      <th>14693</th>\n",
       "      <td>-0.008218</td>\n",
       "    </tr>\n",
       "    <tr>\n",
       "      <th>14694</th>\n",
       "      <td>-0.000600</td>\n",
       "    </tr>\n",
       "    <tr>\n",
       "      <th>14695</th>\n",
       "      <td>0.027999</td>\n",
       "    </tr>\n",
       "    <tr>\n",
       "      <th>14696</th>\n",
       "      <td>-0.041524</td>\n",
       "    </tr>\n",
       "  </tbody>\n",
       "</table>\n",
       "<p>605 rows × 1 columns</p>\n",
       "</div>"
      ],
      "text/plain": [
       "       prediction\n",
       "14092    0.011260\n",
       "14093   -0.028128\n",
       "14094   -0.009849\n",
       "14095   -0.009737\n",
       "14096   -0.028641\n",
       "...           ...\n",
       "14692    0.011917\n",
       "14693   -0.008218\n",
       "14694   -0.000600\n",
       "14695    0.027999\n",
       "14696   -0.041524\n",
       "\n",
       "[605 rows x 1 columns]"
      ]
     },
     "execution_count": 32,
     "metadata": {},
     "output_type": "execute_result"
    }
   ],
   "source": [
    "pred_DF"
   ]
  },
  {
   "cell_type": "code",
   "execution_count": null,
   "id": "a949f1d9",
   "metadata": {},
   "outputs": [],
   "source": []
  },
  {
   "cell_type": "markdown",
   "id": "41854505",
   "metadata": {},
   "source": [
    "### Concatenating"
   ]
  },
  {
   "cell_type": "code",
   "execution_count": 33,
   "id": "92a0b37e",
   "metadata": {},
   "outputs": [
    {
     "data": {
      "text/plain": [
       "Index(['Age', 'G', 'GS', 'MP', 'FG', 'FGA', 'FG%', '3P', '3PA', '3P%', '2P',\n",
       "       '2PA', '2P%', 'eFG%', 'FT', 'FTA', 'FT%', 'ORB', 'DRB', 'TRB', 'AST',\n",
       "       'STL', 'BLK', 'TOV', 'PF', 'PTS', 'Year', 'W', 'L', 'W/L%', 'GB',\n",
       "       'PS/G', 'PA/G', 'SRS'],\n",
       "      dtype='object')"
      ]
     },
     "execution_count": 33,
     "metadata": {},
     "output_type": "execute_result"
    }
   ],
   "source": [
    "X_test.columns"
   ]
  },
  {
   "cell_type": "code",
   "execution_count": null,
   "id": "6180f3fc",
   "metadata": {},
   "outputs": [],
   "source": []
  },
  {
   "cell_type": "code",
   "execution_count": 34,
   "id": "1f96ca4b",
   "metadata": {},
   "outputs": [],
   "source": [
    "combination  = pd.concat([d_test[[\"Player\" , \"Share\"]] ,pred_DF ], axis = 1)"
   ]
  },
  {
   "cell_type": "code",
   "execution_count": 35,
   "id": "808e8dba",
   "metadata": {},
   "outputs": [
    {
     "data": {
      "text/html": [
       "<div>\n",
       "<style scoped>\n",
       "    .dataframe tbody tr th:only-of-type {\n",
       "        vertical-align: middle;\n",
       "    }\n",
       "\n",
       "    .dataframe tbody tr th {\n",
       "        vertical-align: top;\n",
       "    }\n",
       "\n",
       "    .dataframe thead th {\n",
       "        text-align: right;\n",
       "    }\n",
       "</style>\n",
       "<table border=\"1\" class=\"dataframe\">\n",
       "  <thead>\n",
       "    <tr style=\"text-align: right;\">\n",
       "      <th></th>\n",
       "      <th>Player</th>\n",
       "      <th>Share</th>\n",
       "      <th>prediction</th>\n",
       "    </tr>\n",
       "  </thead>\n",
       "  <tbody>\n",
       "    <tr>\n",
       "      <th>14092</th>\n",
       "      <td>Mo Bamba</td>\n",
       "      <td>0.0</td>\n",
       "      <td>0.011260</td>\n",
       "    </tr>\n",
       "    <tr>\n",
       "      <th>14093</th>\n",
       "      <td>Gary Harris</td>\n",
       "      <td>0.0</td>\n",
       "      <td>-0.028128</td>\n",
       "    </tr>\n",
       "    <tr>\n",
       "      <th>14094</th>\n",
       "      <td>Ignas Brazdeikis</td>\n",
       "      <td>0.0</td>\n",
       "      <td>-0.009849</td>\n",
       "    </tr>\n",
       "    <tr>\n",
       "      <th>14095</th>\n",
       "      <td>Jalen Suggs</td>\n",
       "      <td>0.0</td>\n",
       "      <td>-0.009737</td>\n",
       "    </tr>\n",
       "    <tr>\n",
       "      <th>14096</th>\n",
       "      <td>Jeff Dowtin</td>\n",
       "      <td>0.0</td>\n",
       "      <td>-0.028641</td>\n",
       "    </tr>\n",
       "  </tbody>\n",
       "</table>\n",
       "</div>"
      ],
      "text/plain": [
       "                 Player  Share  prediction\n",
       "14092          Mo Bamba    0.0    0.011260\n",
       "14093       Gary Harris    0.0   -0.028128\n",
       "14094  Ignas Brazdeikis    0.0   -0.009849\n",
       "14095       Jalen Suggs    0.0   -0.009737\n",
       "14096       Jeff Dowtin    0.0   -0.028641"
      ]
     },
     "execution_count": 35,
     "metadata": {},
     "output_type": "execute_result"
    }
   ],
   "source": [
    "combination.head()"
   ]
  },
  {
   "cell_type": "code",
   "execution_count": null,
   "id": "c533657a",
   "metadata": {},
   "outputs": [],
   "source": []
  },
  {
   "cell_type": "code",
   "execution_count": 36,
   "id": "46b71cdb",
   "metadata": {},
   "outputs": [
    {
     "data": {
      "text/html": [
       "<div>\n",
       "<style scoped>\n",
       "    .dataframe tbody tr th:only-of-type {\n",
       "        vertical-align: middle;\n",
       "    }\n",
       "\n",
       "    .dataframe tbody tr th {\n",
       "        vertical-align: top;\n",
       "    }\n",
       "\n",
       "    .dataframe thead th {\n",
       "        text-align: right;\n",
       "    }\n",
       "</style>\n",
       "<table border=\"1\" class=\"dataframe\">\n",
       "  <thead>\n",
       "    <tr style=\"text-align: right;\">\n",
       "      <th></th>\n",
       "      <th>Player</th>\n",
       "      <th>Share</th>\n",
       "      <th>prediction</th>\n",
       "    </tr>\n",
       "  </thead>\n",
       "  <tbody>\n",
       "    <tr>\n",
       "      <th>14554</th>\n",
       "      <td>Nikola Jokić</td>\n",
       "      <td>0.875</td>\n",
       "      <td>0.188931</td>\n",
       "    </tr>\n",
       "    <tr>\n",
       "      <th>14497</th>\n",
       "      <td>Joel Embiid</td>\n",
       "      <td>0.706</td>\n",
       "      <td>0.190322</td>\n",
       "    </tr>\n",
       "    <tr>\n",
       "      <th>14203</th>\n",
       "      <td>Giannis Antetokounmpo</td>\n",
       "      <td>0.595</td>\n",
       "      <td>0.218988</td>\n",
       "    </tr>\n",
       "    <tr>\n",
       "      <th>14261</th>\n",
       "      <td>Devin Booker</td>\n",
       "      <td>0.216</td>\n",
       "      <td>0.091401</td>\n",
       "    </tr>\n",
       "    <tr>\n",
       "      <th>14165</th>\n",
       "      <td>Luka Dončić</td>\n",
       "      <td>0.146</td>\n",
       "      <td>0.156639</td>\n",
       "    </tr>\n",
       "    <tr>\n",
       "      <th>...</th>\n",
       "      <td>...</td>\n",
       "      <td>...</td>\n",
       "      <td>...</td>\n",
       "    </tr>\n",
       "    <tr>\n",
       "      <th>14296</th>\n",
       "      <td>Nassir Little</td>\n",
       "      <td>0.000</td>\n",
       "      <td>-0.000577</td>\n",
       "    </tr>\n",
       "    <tr>\n",
       "      <th>14297</th>\n",
       "      <td>D.J. Wilson</td>\n",
       "      <td>0.000</td>\n",
       "      <td>0.054035</td>\n",
       "    </tr>\n",
       "    <tr>\n",
       "      <th>14298</th>\n",
       "      <td>Dalano Banton</td>\n",
       "      <td>0.000</td>\n",
       "      <td>-0.006613</td>\n",
       "    </tr>\n",
       "    <tr>\n",
       "      <th>14299</th>\n",
       "      <td>Daniel Oturu</td>\n",
       "      <td>0.000</td>\n",
       "      <td>0.001405</td>\n",
       "    </tr>\n",
       "    <tr>\n",
       "      <th>14696</th>\n",
       "      <td>Devin Cannady</td>\n",
       "      <td>0.000</td>\n",
       "      <td>-0.041524</td>\n",
       "    </tr>\n",
       "  </tbody>\n",
       "</table>\n",
       "<p>605 rows × 3 columns</p>\n",
       "</div>"
      ],
      "text/plain": [
       "                      Player  Share  prediction\n",
       "14554           Nikola Jokić  0.875    0.188931\n",
       "14497            Joel Embiid  0.706    0.190322\n",
       "14203  Giannis Antetokounmpo  0.595    0.218988\n",
       "14261           Devin Booker  0.216    0.091401\n",
       "14165            Luka Dončić  0.146    0.156639\n",
       "...                      ...    ...         ...\n",
       "14296          Nassir Little  0.000   -0.000577\n",
       "14297            D.J. Wilson  0.000    0.054035\n",
       "14298          Dalano Banton  0.000   -0.006613\n",
       "14299           Daniel Oturu  0.000    0.001405\n",
       "14696          Devin Cannady  0.000   -0.041524\n",
       "\n",
       "[605 rows x 3 columns]"
      ]
     },
     "execution_count": 36,
     "metadata": {},
     "output_type": "execute_result"
    }
   ],
   "source": [
    "combination.sort_values(by = [\"Share\"] , ascending = False)"
   ]
  },
  {
   "cell_type": "code",
   "execution_count": null,
   "id": "721e992e",
   "metadata": {},
   "outputs": [],
   "source": []
  },
  {
   "cell_type": "code",
   "execution_count": 37,
   "id": "b7675520",
   "metadata": {},
   "outputs": [],
   "source": [
    "from sklearn.metrics import r2_score"
   ]
  },
  {
   "cell_type": "code",
   "execution_count": null,
   "id": "3d6a2875",
   "metadata": {},
   "outputs": [],
   "source": []
  },
  {
   "cell_type": "code",
   "execution_count": 38,
   "id": "72d7ac51",
   "metadata": {},
   "outputs": [
    {
     "data": {
      "text/plain": [
       "0.19180073520363206"
      ]
     },
     "execution_count": 38,
     "metadata": {},
     "output_type": "execute_result"
    }
   ],
   "source": [
    "r2_score(combination[\"Share\"] , combination[\"prediction\"])"
   ]
  },
  {
   "cell_type": "code",
   "execution_count": null,
   "id": "4c658c5d",
   "metadata": {},
   "outputs": [],
   "source": []
  },
  {
   "cell_type": "markdown",
   "id": "2d97a63b",
   "metadata": {},
   "source": [
    "### Creating rank columns"
   ]
  },
  {
   "cell_type": "code",
   "execution_count": null,
   "id": "47600615",
   "metadata": {},
   "outputs": [],
   "source": []
  },
  {
   "cell_type": "code",
   "execution_count": 39,
   "id": "a3eeeff6",
   "metadata": {},
   "outputs": [],
   "source": [
    "combination = combination.sort_values(by = [\"Share\"] , ascending = False )"
   ]
  },
  {
   "cell_type": "code",
   "execution_count": 40,
   "id": "e1eaec16",
   "metadata": {},
   "outputs": [
    {
     "data": {
      "text/plain": [
       "(605, 3)"
      ]
     },
     "execution_count": 40,
     "metadata": {},
     "output_type": "execute_result"
    }
   ],
   "source": [
    "combination.shape"
   ]
  },
  {
   "cell_type": "code",
   "execution_count": 41,
   "id": "4aa17b3c",
   "metadata": {},
   "outputs": [
    {
     "data": {
      "text/plain": [
       "605"
      ]
     },
     "execution_count": 41,
     "metadata": {},
     "output_type": "execute_result"
    }
   ],
   "source": [
    "len(combination)"
   ]
  },
  {
   "cell_type": "code",
   "execution_count": null,
   "id": "25a3c14f",
   "metadata": {},
   "outputs": [],
   "source": []
  },
  {
   "cell_type": "markdown",
   "id": "1adde0d8",
   "metadata": {},
   "source": [
    "### Rank For Actual"
   ]
  },
  {
   "cell_type": "code",
   "execution_count": null,
   "id": "6c140720",
   "metadata": {},
   "outputs": [],
   "source": []
  },
  {
   "cell_type": "code",
   "execution_count": 42,
   "id": "8de87b04",
   "metadata": {},
   "outputs": [],
   "source": [
    "rank_df = combination.copy()"
   ]
  },
  {
   "cell_type": "code",
   "execution_count": 43,
   "id": "86210545",
   "metadata": {},
   "outputs": [
    {
     "data": {
      "text/html": [
       "<div>\n",
       "<style scoped>\n",
       "    .dataframe tbody tr th:only-of-type {\n",
       "        vertical-align: middle;\n",
       "    }\n",
       "\n",
       "    .dataframe tbody tr th {\n",
       "        vertical-align: top;\n",
       "    }\n",
       "\n",
       "    .dataframe thead th {\n",
       "        text-align: right;\n",
       "    }\n",
       "</style>\n",
       "<table border=\"1\" class=\"dataframe\">\n",
       "  <thead>\n",
       "    <tr style=\"text-align: right;\">\n",
       "      <th></th>\n",
       "      <th>Player</th>\n",
       "      <th>Share</th>\n",
       "      <th>prediction</th>\n",
       "    </tr>\n",
       "  </thead>\n",
       "  <tbody>\n",
       "    <tr>\n",
       "      <th>14554</th>\n",
       "      <td>Nikola Jokić</td>\n",
       "      <td>0.875</td>\n",
       "      <td>0.188931</td>\n",
       "    </tr>\n",
       "    <tr>\n",
       "      <th>14497</th>\n",
       "      <td>Joel Embiid</td>\n",
       "      <td>0.706</td>\n",
       "      <td>0.190322</td>\n",
       "    </tr>\n",
       "    <tr>\n",
       "      <th>14203</th>\n",
       "      <td>Giannis Antetokounmpo</td>\n",
       "      <td>0.595</td>\n",
       "      <td>0.218988</td>\n",
       "    </tr>\n",
       "    <tr>\n",
       "      <th>14261</th>\n",
       "      <td>Devin Booker</td>\n",
       "      <td>0.216</td>\n",
       "      <td>0.091401</td>\n",
       "    </tr>\n",
       "    <tr>\n",
       "      <th>14165</th>\n",
       "      <td>Luka Dončić</td>\n",
       "      <td>0.146</td>\n",
       "      <td>0.156639</td>\n",
       "    </tr>\n",
       "  </tbody>\n",
       "</table>\n",
       "</div>"
      ],
      "text/plain": [
       "                      Player  Share  prediction\n",
       "14554           Nikola Jokić  0.875    0.188931\n",
       "14497            Joel Embiid  0.706    0.190322\n",
       "14203  Giannis Antetokounmpo  0.595    0.218988\n",
       "14261           Devin Booker  0.216    0.091401\n",
       "14165            Luka Dončić  0.146    0.156639"
      ]
     },
     "execution_count": 43,
     "metadata": {},
     "output_type": "execute_result"
    }
   ],
   "source": [
    "rank_df.head()"
   ]
  },
  {
   "cell_type": "code",
   "execution_count": 44,
   "id": "47fc1c12",
   "metadata": {},
   "outputs": [
    {
     "data": {
      "text/html": [
       "<div>\n",
       "<style scoped>\n",
       "    .dataframe tbody tr th:only-of-type {\n",
       "        vertical-align: middle;\n",
       "    }\n",
       "\n",
       "    .dataframe tbody tr th {\n",
       "        vertical-align: top;\n",
       "    }\n",
       "\n",
       "    .dataframe thead th {\n",
       "        text-align: right;\n",
       "    }\n",
       "</style>\n",
       "<table border=\"1\" class=\"dataframe\">\n",
       "  <thead>\n",
       "    <tr style=\"text-align: right;\">\n",
       "      <th></th>\n",
       "      <th>Player</th>\n",
       "      <th>Share</th>\n",
       "      <th>prediction</th>\n",
       "    </tr>\n",
       "  </thead>\n",
       "  <tbody>\n",
       "    <tr>\n",
       "      <th>14554</th>\n",
       "      <td>Nikola Jokić</td>\n",
       "      <td>0.875</td>\n",
       "      <td>0.188931</td>\n",
       "    </tr>\n",
       "    <tr>\n",
       "      <th>14497</th>\n",
       "      <td>Joel Embiid</td>\n",
       "      <td>0.706</td>\n",
       "      <td>0.190322</td>\n",
       "    </tr>\n",
       "    <tr>\n",
       "      <th>14203</th>\n",
       "      <td>Giannis Antetokounmpo</td>\n",
       "      <td>0.595</td>\n",
       "      <td>0.218988</td>\n",
       "    </tr>\n",
       "    <tr>\n",
       "      <th>14261</th>\n",
       "      <td>Devin Booker</td>\n",
       "      <td>0.216</td>\n",
       "      <td>0.091401</td>\n",
       "    </tr>\n",
       "    <tr>\n",
       "      <th>14165</th>\n",
       "      <td>Luka Dončić</td>\n",
       "      <td>0.146</td>\n",
       "      <td>0.156639</td>\n",
       "    </tr>\n",
       "    <tr>\n",
       "      <th>14454</th>\n",
       "      <td>Jayson Tatum</td>\n",
       "      <td>0.043</td>\n",
       "      <td>0.094236</td>\n",
       "    </tr>\n",
       "    <tr>\n",
       "      <th>14513</th>\n",
       "      <td>Ja Morant</td>\n",
       "      <td>0.010</td>\n",
       "      <td>0.120550</td>\n",
       "    </tr>\n",
       "    <tr>\n",
       "      <th>14322</th>\n",
       "      <td>Stephen Curry</td>\n",
       "      <td>0.004</td>\n",
       "      <td>0.092080</td>\n",
       "    </tr>\n",
       "    <tr>\n",
       "      <th>14263</th>\n",
       "      <td>Chris Paul</td>\n",
       "      <td>0.002</td>\n",
       "      <td>0.078460</td>\n",
       "    </tr>\n",
       "    <tr>\n",
       "      <th>14363</th>\n",
       "      <td>LeBron James</td>\n",
       "      <td>0.001</td>\n",
       "      <td>0.157545</td>\n",
       "    </tr>\n",
       "    <tr>\n",
       "      <th>14494</th>\n",
       "      <td>DeMar DeRozan</td>\n",
       "      <td>0.001</td>\n",
       "      <td>0.100174</td>\n",
       "    </tr>\n",
       "    <tr>\n",
       "      <th>14635</th>\n",
       "      <td>Kevin Durant</td>\n",
       "      <td>0.001</td>\n",
       "      <td>0.140687</td>\n",
       "    </tr>\n",
       "  </tbody>\n",
       "</table>\n",
       "</div>"
      ],
      "text/plain": [
       "                      Player  Share  prediction\n",
       "14554           Nikola Jokić  0.875    0.188931\n",
       "14497            Joel Embiid  0.706    0.190322\n",
       "14203  Giannis Antetokounmpo  0.595    0.218988\n",
       "14261           Devin Booker  0.216    0.091401\n",
       "14165            Luka Dončić  0.146    0.156639\n",
       "14454           Jayson Tatum  0.043    0.094236\n",
       "14513              Ja Morant  0.010    0.120550\n",
       "14322          Stephen Curry  0.004    0.092080\n",
       "14263             Chris Paul  0.002    0.078460\n",
       "14363           LeBron James  0.001    0.157545\n",
       "14494          DeMar DeRozan  0.001    0.100174\n",
       "14635           Kevin Durant  0.001    0.140687"
      ]
     },
     "execution_count": 44,
     "metadata": {},
     "output_type": "execute_result"
    }
   ],
   "source": [
    "rank_df = rank_df[rank_df[\"Share\"] > 0]\n",
    "rank_df"
   ]
  },
  {
   "cell_type": "code",
   "execution_count": null,
   "id": "4767f121",
   "metadata": {},
   "outputs": [],
   "source": []
  },
  {
   "cell_type": "code",
   "execution_count": 45,
   "id": "1c0da7bf",
   "metadata": {},
   "outputs": [],
   "source": [
    "combination[\"RK_actual\"] = list(range(1,len(combination) + 1))\n",
    "rank_df[\"RK_actual\"] = list(range(1,len(rank_df)+1))"
   ]
  },
  {
   "cell_type": "code",
   "execution_count": null,
   "id": "f7ddac4a",
   "metadata": {},
   "outputs": [],
   "source": []
  },
  {
   "cell_type": "code",
   "execution_count": 46,
   "id": "1ff2c98d",
   "metadata": {},
   "outputs": [
    {
     "data": {
      "text/html": [
       "<div>\n",
       "<style scoped>\n",
       "    .dataframe tbody tr th:only-of-type {\n",
       "        vertical-align: middle;\n",
       "    }\n",
       "\n",
       "    .dataframe tbody tr th {\n",
       "        vertical-align: top;\n",
       "    }\n",
       "\n",
       "    .dataframe thead th {\n",
       "        text-align: right;\n",
       "    }\n",
       "</style>\n",
       "<table border=\"1\" class=\"dataframe\">\n",
       "  <thead>\n",
       "    <tr style=\"text-align: right;\">\n",
       "      <th></th>\n",
       "      <th>Player</th>\n",
       "      <th>Share</th>\n",
       "      <th>prediction</th>\n",
       "      <th>RK_actual</th>\n",
       "    </tr>\n",
       "  </thead>\n",
       "  <tbody>\n",
       "    <tr>\n",
       "      <th>14554</th>\n",
       "      <td>Nikola Jokić</td>\n",
       "      <td>0.875</td>\n",
       "      <td>0.188931</td>\n",
       "      <td>1</td>\n",
       "    </tr>\n",
       "    <tr>\n",
       "      <th>14497</th>\n",
       "      <td>Joel Embiid</td>\n",
       "      <td>0.706</td>\n",
       "      <td>0.190322</td>\n",
       "      <td>2</td>\n",
       "    </tr>\n",
       "    <tr>\n",
       "      <th>14203</th>\n",
       "      <td>Giannis Antetokounmpo</td>\n",
       "      <td>0.595</td>\n",
       "      <td>0.218988</td>\n",
       "      <td>3</td>\n",
       "    </tr>\n",
       "    <tr>\n",
       "      <th>14261</th>\n",
       "      <td>Devin Booker</td>\n",
       "      <td>0.216</td>\n",
       "      <td>0.091401</td>\n",
       "      <td>4</td>\n",
       "    </tr>\n",
       "    <tr>\n",
       "      <th>14165</th>\n",
       "      <td>Luka Dončić</td>\n",
       "      <td>0.146</td>\n",
       "      <td>0.156639</td>\n",
       "      <td>5</td>\n",
       "    </tr>\n",
       "    <tr>\n",
       "      <th>14454</th>\n",
       "      <td>Jayson Tatum</td>\n",
       "      <td>0.043</td>\n",
       "      <td>0.094236</td>\n",
       "      <td>6</td>\n",
       "    </tr>\n",
       "    <tr>\n",
       "      <th>14513</th>\n",
       "      <td>Ja Morant</td>\n",
       "      <td>0.010</td>\n",
       "      <td>0.120550</td>\n",
       "      <td>7</td>\n",
       "    </tr>\n",
       "    <tr>\n",
       "      <th>14322</th>\n",
       "      <td>Stephen Curry</td>\n",
       "      <td>0.004</td>\n",
       "      <td>0.092080</td>\n",
       "      <td>8</td>\n",
       "    </tr>\n",
       "    <tr>\n",
       "      <th>14263</th>\n",
       "      <td>Chris Paul</td>\n",
       "      <td>0.002</td>\n",
       "      <td>0.078460</td>\n",
       "      <td>9</td>\n",
       "    </tr>\n",
       "    <tr>\n",
       "      <th>14363</th>\n",
       "      <td>LeBron James</td>\n",
       "      <td>0.001</td>\n",
       "      <td>0.157545</td>\n",
       "      <td>10</td>\n",
       "    </tr>\n",
       "    <tr>\n",
       "      <th>14494</th>\n",
       "      <td>DeMar DeRozan</td>\n",
       "      <td>0.001</td>\n",
       "      <td>0.100174</td>\n",
       "      <td>11</td>\n",
       "    </tr>\n",
       "    <tr>\n",
       "      <th>14635</th>\n",
       "      <td>Kevin Durant</td>\n",
       "      <td>0.001</td>\n",
       "      <td>0.140687</td>\n",
       "      <td>12</td>\n",
       "    </tr>\n",
       "    <tr>\n",
       "      <th>14501</th>\n",
       "      <td>Tyus Jones</td>\n",
       "      <td>0.000</td>\n",
       "      <td>0.017463</td>\n",
       "      <td>13</td>\n",
       "    </tr>\n",
       "    <tr>\n",
       "      <th>14502</th>\n",
       "      <td>Tyrell Terry</td>\n",
       "      <td>0.000</td>\n",
       "      <td>-0.030119</td>\n",
       "      <td>14</td>\n",
       "    </tr>\n",
       "    <tr>\n",
       "      <th>14492</th>\n",
       "      <td>Devon Dotson</td>\n",
       "      <td>0.000</td>\n",
       "      <td>-0.002953</td>\n",
       "      <td>15</td>\n",
       "    </tr>\n",
       "  </tbody>\n",
       "</table>\n",
       "</div>"
      ],
      "text/plain": [
       "                      Player  Share  prediction  RK_actual\n",
       "14554           Nikola Jokić  0.875    0.188931          1\n",
       "14497            Joel Embiid  0.706    0.190322          2\n",
       "14203  Giannis Antetokounmpo  0.595    0.218988          3\n",
       "14261           Devin Booker  0.216    0.091401          4\n",
       "14165            Luka Dončić  0.146    0.156639          5\n",
       "14454           Jayson Tatum  0.043    0.094236          6\n",
       "14513              Ja Morant  0.010    0.120550          7\n",
       "14322          Stephen Curry  0.004    0.092080          8\n",
       "14263             Chris Paul  0.002    0.078460          9\n",
       "14363           LeBron James  0.001    0.157545         10\n",
       "14494          DeMar DeRozan  0.001    0.100174         11\n",
       "14635           Kevin Durant  0.001    0.140687         12\n",
       "14501             Tyus Jones  0.000    0.017463         13\n",
       "14502           Tyrell Terry  0.000   -0.030119         14\n",
       "14492           Devon Dotson  0.000   -0.002953         15"
      ]
     },
     "execution_count": 46,
     "metadata": {},
     "output_type": "execute_result"
    }
   ],
   "source": [
    "combination.head(15)"
   ]
  },
  {
   "cell_type": "code",
   "execution_count": 47,
   "id": "23cedefe",
   "metadata": {},
   "outputs": [
    {
     "data": {
      "text/html": [
       "<div>\n",
       "<style scoped>\n",
       "    .dataframe tbody tr th:only-of-type {\n",
       "        vertical-align: middle;\n",
       "    }\n",
       "\n",
       "    .dataframe tbody tr th {\n",
       "        vertical-align: top;\n",
       "    }\n",
       "\n",
       "    .dataframe thead th {\n",
       "        text-align: right;\n",
       "    }\n",
       "</style>\n",
       "<table border=\"1\" class=\"dataframe\">\n",
       "  <thead>\n",
       "    <tr style=\"text-align: right;\">\n",
       "      <th></th>\n",
       "      <th>Player</th>\n",
       "      <th>Share</th>\n",
       "      <th>prediction</th>\n",
       "      <th>RK_actual</th>\n",
       "    </tr>\n",
       "  </thead>\n",
       "  <tbody>\n",
       "    <tr>\n",
       "      <th>14296</th>\n",
       "      <td>Nassir Little</td>\n",
       "      <td>0.0</td>\n",
       "      <td>-0.000577</td>\n",
       "      <td>601</td>\n",
       "    </tr>\n",
       "    <tr>\n",
       "      <th>14297</th>\n",
       "      <td>D.J. Wilson</td>\n",
       "      <td>0.0</td>\n",
       "      <td>0.054035</td>\n",
       "      <td>602</td>\n",
       "    </tr>\n",
       "    <tr>\n",
       "      <th>14298</th>\n",
       "      <td>Dalano Banton</td>\n",
       "      <td>0.0</td>\n",
       "      <td>-0.006613</td>\n",
       "      <td>603</td>\n",
       "    </tr>\n",
       "    <tr>\n",
       "      <th>14299</th>\n",
       "      <td>Daniel Oturu</td>\n",
       "      <td>0.0</td>\n",
       "      <td>0.001405</td>\n",
       "      <td>604</td>\n",
       "    </tr>\n",
       "    <tr>\n",
       "      <th>14696</th>\n",
       "      <td>Devin Cannady</td>\n",
       "      <td>0.0</td>\n",
       "      <td>-0.041524</td>\n",
       "      <td>605</td>\n",
       "    </tr>\n",
       "  </tbody>\n",
       "</table>\n",
       "</div>"
      ],
      "text/plain": [
       "              Player  Share  prediction  RK_actual\n",
       "14296  Nassir Little    0.0   -0.000577        601\n",
       "14297    D.J. Wilson    0.0    0.054035        602\n",
       "14298  Dalano Banton    0.0   -0.006613        603\n",
       "14299   Daniel Oturu    0.0    0.001405        604\n",
       "14696  Devin Cannady    0.0   -0.041524        605"
      ]
     },
     "execution_count": 47,
     "metadata": {},
     "output_type": "execute_result"
    }
   ],
   "source": [
    "combination.tail()"
   ]
  },
  {
   "cell_type": "code",
   "execution_count": null,
   "id": "f4181aa9",
   "metadata": {},
   "outputs": [],
   "source": []
  },
  {
   "cell_type": "markdown",
   "id": "2ffc5aa9",
   "metadata": {},
   "source": [
    "### Rank for prediction"
   ]
  },
  {
   "cell_type": "code",
   "execution_count": 48,
   "id": "39dbc39d",
   "metadata": {},
   "outputs": [],
   "source": [
    "rank_df = rank_df.sort_values(by = [\"prediction\"] , ascending = False)"
   ]
  },
  {
   "cell_type": "code",
   "execution_count": null,
   "id": "3b5793c3",
   "metadata": {},
   "outputs": [],
   "source": []
  },
  {
   "cell_type": "code",
   "execution_count": 49,
   "id": "70cfae0b",
   "metadata": {},
   "outputs": [],
   "source": [
    "combination = combination.sort_values(by = [\"prediction\"] , ascending = False)"
   ]
  },
  {
   "cell_type": "code",
   "execution_count": 50,
   "id": "1c8f32e3",
   "metadata": {},
   "outputs": [],
   "source": [
    "combination[\"RK_predict\"] = list(range(1,len(combination)+1))\n",
    "rank_df[\"RK_predict\"] = list(range(1,len(rank_df)+1))"
   ]
  },
  {
   "cell_type": "code",
   "execution_count": null,
   "id": "4da0376a",
   "metadata": {},
   "outputs": [],
   "source": []
  },
  {
   "cell_type": "code",
   "execution_count": 51,
   "id": "423195ce",
   "metadata": {},
   "outputs": [
    {
     "data": {
      "text/html": [
       "<div>\n",
       "<style scoped>\n",
       "    .dataframe tbody tr th:only-of-type {\n",
       "        vertical-align: middle;\n",
       "    }\n",
       "\n",
       "    .dataframe tbody tr th {\n",
       "        vertical-align: top;\n",
       "    }\n",
       "\n",
       "    .dataframe thead th {\n",
       "        text-align: right;\n",
       "    }\n",
       "</style>\n",
       "<table border=\"1\" class=\"dataframe\">\n",
       "  <thead>\n",
       "    <tr style=\"text-align: right;\">\n",
       "      <th></th>\n",
       "      <th>Player</th>\n",
       "      <th>Share</th>\n",
       "      <th>prediction</th>\n",
       "      <th>RK_actual</th>\n",
       "      <th>RK_predict</th>\n",
       "    </tr>\n",
       "  </thead>\n",
       "  <tbody>\n",
       "    <tr>\n",
       "      <th>14203</th>\n",
       "      <td>Giannis Antetokounmpo</td>\n",
       "      <td>0.595</td>\n",
       "      <td>0.218988</td>\n",
       "      <td>3</td>\n",
       "      <td>1</td>\n",
       "    </tr>\n",
       "    <tr>\n",
       "      <th>14497</th>\n",
       "      <td>Joel Embiid</td>\n",
       "      <td>0.706</td>\n",
       "      <td>0.190322</td>\n",
       "      <td>2</td>\n",
       "      <td>2</td>\n",
       "    </tr>\n",
       "    <tr>\n",
       "      <th>14554</th>\n",
       "      <td>Nikola Jokić</td>\n",
       "      <td>0.875</td>\n",
       "      <td>0.188931</td>\n",
       "      <td>1</td>\n",
       "      <td>3</td>\n",
       "    </tr>\n",
       "    <tr>\n",
       "      <th>14363</th>\n",
       "      <td>LeBron James</td>\n",
       "      <td>0.001</td>\n",
       "      <td>0.157545</td>\n",
       "      <td>10</td>\n",
       "      <td>4</td>\n",
       "    </tr>\n",
       "    <tr>\n",
       "      <th>14165</th>\n",
       "      <td>Luka Dončić</td>\n",
       "      <td>0.146</td>\n",
       "      <td>0.156639</td>\n",
       "      <td>5</td>\n",
       "      <td>5</td>\n",
       "    </tr>\n",
       "    <tr>\n",
       "      <th>14635</th>\n",
       "      <td>Kevin Durant</td>\n",
       "      <td>0.001</td>\n",
       "      <td>0.140687</td>\n",
       "      <td>12</td>\n",
       "      <td>6</td>\n",
       "    </tr>\n",
       "    <tr>\n",
       "      <th>14513</th>\n",
       "      <td>Ja Morant</td>\n",
       "      <td>0.010</td>\n",
       "      <td>0.120550</td>\n",
       "      <td>7</td>\n",
       "      <td>7</td>\n",
       "    </tr>\n",
       "    <tr>\n",
       "      <th>14152</th>\n",
       "      <td>Trae Young</td>\n",
       "      <td>0.000</td>\n",
       "      <td>0.108979</td>\n",
       "      <td>424</td>\n",
       "      <td>8</td>\n",
       "    </tr>\n",
       "    <tr>\n",
       "      <th>14373</th>\n",
       "      <td>Anthony Davis</td>\n",
       "      <td>0.000</td>\n",
       "      <td>0.108186</td>\n",
       "      <td>526</td>\n",
       "      <td>9</td>\n",
       "    </tr>\n",
       "    <tr>\n",
       "      <th>14496</th>\n",
       "      <td>James Harden</td>\n",
       "      <td>0.000</td>\n",
       "      <td>0.103916</td>\n",
       "      <td>20</td>\n",
       "      <td>10</td>\n",
       "    </tr>\n",
       "  </tbody>\n",
       "</table>\n",
       "</div>"
      ],
      "text/plain": [
       "                      Player  Share  prediction  RK_actual  RK_predict\n",
       "14203  Giannis Antetokounmpo  0.595    0.218988          3           1\n",
       "14497            Joel Embiid  0.706    0.190322          2           2\n",
       "14554           Nikola Jokić  0.875    0.188931          1           3\n",
       "14363           LeBron James  0.001    0.157545         10           4\n",
       "14165            Luka Dončić  0.146    0.156639          5           5\n",
       "14635           Kevin Durant  0.001    0.140687         12           6\n",
       "14513              Ja Morant  0.010    0.120550          7           7\n",
       "14152             Trae Young  0.000    0.108979        424           8\n",
       "14373          Anthony Davis  0.000    0.108186        526           9\n",
       "14496           James Harden  0.000    0.103916         20          10"
      ]
     },
     "execution_count": 51,
     "metadata": {},
     "output_type": "execute_result"
    }
   ],
   "source": [
    "combination.head(10)"
   ]
  },
  {
   "cell_type": "code",
   "execution_count": null,
   "id": "9dc85b12",
   "metadata": {},
   "outputs": [],
   "source": []
  },
  {
   "cell_type": "code",
   "execution_count": 52,
   "id": "edbea07a",
   "metadata": {},
   "outputs": [],
   "source": [
    "combination = combination.sort_values(by = [\"Share\"] , ascending = False)\n",
    "rank_df = rank_df.sort_values(by = [\"Share\"] , ascending = False)"
   ]
  },
  {
   "cell_type": "code",
   "execution_count": 53,
   "id": "7b963527",
   "metadata": {},
   "outputs": [
    {
     "data": {
      "text/html": [
       "<div>\n",
       "<style scoped>\n",
       "    .dataframe tbody tr th:only-of-type {\n",
       "        vertical-align: middle;\n",
       "    }\n",
       "\n",
       "    .dataframe tbody tr th {\n",
       "        vertical-align: top;\n",
       "    }\n",
       "\n",
       "    .dataframe thead th {\n",
       "        text-align: right;\n",
       "    }\n",
       "</style>\n",
       "<table border=\"1\" class=\"dataframe\">\n",
       "  <thead>\n",
       "    <tr style=\"text-align: right;\">\n",
       "      <th></th>\n",
       "      <th>Player</th>\n",
       "      <th>Share</th>\n",
       "      <th>prediction</th>\n",
       "      <th>RK_actual</th>\n",
       "      <th>RK_predict</th>\n",
       "    </tr>\n",
       "  </thead>\n",
       "  <tbody>\n",
       "    <tr>\n",
       "      <th>14554</th>\n",
       "      <td>Nikola Jokić</td>\n",
       "      <td>0.875</td>\n",
       "      <td>0.188931</td>\n",
       "      <td>1</td>\n",
       "      <td>3</td>\n",
       "    </tr>\n",
       "    <tr>\n",
       "      <th>14497</th>\n",
       "      <td>Joel Embiid</td>\n",
       "      <td>0.706</td>\n",
       "      <td>0.190322</td>\n",
       "      <td>2</td>\n",
       "      <td>2</td>\n",
       "    </tr>\n",
       "    <tr>\n",
       "      <th>14203</th>\n",
       "      <td>Giannis Antetokounmpo</td>\n",
       "      <td>0.595</td>\n",
       "      <td>0.218988</td>\n",
       "      <td>3</td>\n",
       "      <td>1</td>\n",
       "    </tr>\n",
       "    <tr>\n",
       "      <th>14261</th>\n",
       "      <td>Devin Booker</td>\n",
       "      <td>0.216</td>\n",
       "      <td>0.091401</td>\n",
       "      <td>4</td>\n",
       "      <td>17</td>\n",
       "    </tr>\n",
       "    <tr>\n",
       "      <th>14165</th>\n",
       "      <td>Luka Dončić</td>\n",
       "      <td>0.146</td>\n",
       "      <td>0.156639</td>\n",
       "      <td>5</td>\n",
       "      <td>5</td>\n",
       "    </tr>\n",
       "    <tr>\n",
       "      <th>14454</th>\n",
       "      <td>Jayson Tatum</td>\n",
       "      <td>0.043</td>\n",
       "      <td>0.094236</td>\n",
       "      <td>6</td>\n",
       "      <td>14</td>\n",
       "    </tr>\n",
       "    <tr>\n",
       "      <th>14513</th>\n",
       "      <td>Ja Morant</td>\n",
       "      <td>0.010</td>\n",
       "      <td>0.120550</td>\n",
       "      <td>7</td>\n",
       "      <td>7</td>\n",
       "    </tr>\n",
       "    <tr>\n",
       "      <th>14322</th>\n",
       "      <td>Stephen Curry</td>\n",
       "      <td>0.004</td>\n",
       "      <td>0.092080</td>\n",
       "      <td>8</td>\n",
       "      <td>15</td>\n",
       "    </tr>\n",
       "    <tr>\n",
       "      <th>14263</th>\n",
       "      <td>Chris Paul</td>\n",
       "      <td>0.002</td>\n",
       "      <td>0.078460</td>\n",
       "      <td>9</td>\n",
       "      <td>21</td>\n",
       "    </tr>\n",
       "    <tr>\n",
       "      <th>14494</th>\n",
       "      <td>DeMar DeRozan</td>\n",
       "      <td>0.001</td>\n",
       "      <td>0.100174</td>\n",
       "      <td>11</td>\n",
       "      <td>11</td>\n",
       "    </tr>\n",
       "  </tbody>\n",
       "</table>\n",
       "</div>"
      ],
      "text/plain": [
       "                      Player  Share  prediction  RK_actual  RK_predict\n",
       "14554           Nikola Jokić  0.875    0.188931          1           3\n",
       "14497            Joel Embiid  0.706    0.190322          2           2\n",
       "14203  Giannis Antetokounmpo  0.595    0.218988          3           1\n",
       "14261           Devin Booker  0.216    0.091401          4          17\n",
       "14165            Luka Dončić  0.146    0.156639          5           5\n",
       "14454           Jayson Tatum  0.043    0.094236          6          14\n",
       "14513              Ja Morant  0.010    0.120550          7           7\n",
       "14322          Stephen Curry  0.004    0.092080          8          15\n",
       "14263             Chris Paul  0.002    0.078460          9          21\n",
       "14494          DeMar DeRozan  0.001    0.100174         11          11"
      ]
     },
     "execution_count": 53,
     "metadata": {},
     "output_type": "execute_result"
    }
   ],
   "source": [
    "combination.head(10)"
   ]
  },
  {
   "cell_type": "code",
   "execution_count": null,
   "id": "e349cb6c",
   "metadata": {},
   "outputs": [],
   "source": []
  },
  {
   "cell_type": "code",
   "execution_count": 54,
   "id": "df48e200",
   "metadata": {},
   "outputs": [],
   "source": [
    "df_test = rank_df.head()"
   ]
  },
  {
   "cell_type": "code",
   "execution_count": 55,
   "id": "3d352a33",
   "metadata": {},
   "outputs": [
    {
     "data": {
      "text/html": [
       "<div>\n",
       "<style scoped>\n",
       "    .dataframe tbody tr th:only-of-type {\n",
       "        vertical-align: middle;\n",
       "    }\n",
       "\n",
       "    .dataframe tbody tr th {\n",
       "        vertical-align: top;\n",
       "    }\n",
       "\n",
       "    .dataframe thead th {\n",
       "        text-align: right;\n",
       "    }\n",
       "</style>\n",
       "<table border=\"1\" class=\"dataframe\">\n",
       "  <thead>\n",
       "    <tr style=\"text-align: right;\">\n",
       "      <th></th>\n",
       "      <th>Player</th>\n",
       "      <th>Share</th>\n",
       "      <th>prediction</th>\n",
       "      <th>RK_actual</th>\n",
       "      <th>RK_predict</th>\n",
       "    </tr>\n",
       "  </thead>\n",
       "  <tbody>\n",
       "    <tr>\n",
       "      <th>14554</th>\n",
       "      <td>Nikola Jokić</td>\n",
       "      <td>0.875</td>\n",
       "      <td>0.188931</td>\n",
       "      <td>1</td>\n",
       "      <td>3</td>\n",
       "    </tr>\n",
       "    <tr>\n",
       "      <th>14497</th>\n",
       "      <td>Joel Embiid</td>\n",
       "      <td>0.706</td>\n",
       "      <td>0.190322</td>\n",
       "      <td>2</td>\n",
       "      <td>2</td>\n",
       "    </tr>\n",
       "    <tr>\n",
       "      <th>14203</th>\n",
       "      <td>Giannis Antetokounmpo</td>\n",
       "      <td>0.595</td>\n",
       "      <td>0.218988</td>\n",
       "      <td>3</td>\n",
       "      <td>1</td>\n",
       "    </tr>\n",
       "    <tr>\n",
       "      <th>14261</th>\n",
       "      <td>Devin Booker</td>\n",
       "      <td>0.216</td>\n",
       "      <td>0.091401</td>\n",
       "      <td>4</td>\n",
       "      <td>11</td>\n",
       "    </tr>\n",
       "    <tr>\n",
       "      <th>14165</th>\n",
       "      <td>Luka Dončić</td>\n",
       "      <td>0.146</td>\n",
       "      <td>0.156639</td>\n",
       "      <td>5</td>\n",
       "      <td>5</td>\n",
       "    </tr>\n",
       "  </tbody>\n",
       "</table>\n",
       "</div>"
      ],
      "text/plain": [
       "                      Player  Share  prediction  RK_actual  RK_predict\n",
       "14554           Nikola Jokić  0.875    0.188931          1           3\n",
       "14497            Joel Embiid  0.706    0.190322          2           2\n",
       "14203  Giannis Antetokounmpo  0.595    0.218988          3           1\n",
       "14261           Devin Booker  0.216    0.091401          4          11\n",
       "14165            Luka Dončić  0.146    0.156639          5           5"
      ]
     },
     "execution_count": 55,
     "metadata": {},
     "output_type": "execute_result"
    }
   ],
   "source": [
    "df_test"
   ]
  },
  {
   "cell_type": "code",
   "execution_count": null,
   "id": "ca80d0ff",
   "metadata": {},
   "outputs": [],
   "source": []
  },
  {
   "cell_type": "code",
   "execution_count": 56,
   "id": "832c8ccb",
   "metadata": {},
   "outputs": [],
   "source": [
    "y_actual_test = df_test[\"RK_actual\"]\n",
    "y_pred_test = df_test[\"RK_predict\"]"
   ]
  },
  {
   "cell_type": "code",
   "execution_count": 57,
   "id": "6b9ebad0",
   "metadata": {},
   "outputs": [],
   "source": [
    "# y_actual_test\n",
    "# y_pred_test"
   ]
  },
  {
   "cell_type": "code",
   "execution_count": null,
   "id": "ab004741",
   "metadata": {},
   "outputs": [],
   "source": []
  },
  {
   "cell_type": "code",
   "execution_count": null,
   "id": "15146a75",
   "metadata": {},
   "outputs": [],
   "source": []
  },
  {
   "cell_type": "code",
   "execution_count": 58,
   "id": "73ae2efc",
   "metadata": {},
   "outputs": [],
   "source": [
    "from sklearn.metrics import mean_squared_error"
   ]
  },
  {
   "cell_type": "code",
   "execution_count": null,
   "id": "0040f82e",
   "metadata": {},
   "outputs": [],
   "source": []
  },
  {
   "cell_type": "code",
   "execution_count": 59,
   "id": "7db1c6f4",
   "metadata": {},
   "outputs": [
    {
     "data": {
      "text/plain": [
       "-4.7"
      ]
     },
     "execution_count": 59,
     "metadata": {},
     "output_type": "execute_result"
    }
   ],
   "source": [
    "r2_score(y_actual_test , y_pred_test)"
   ]
  },
  {
   "cell_type": "code",
   "execution_count": null,
   "id": "3a309274",
   "metadata": {},
   "outputs": [],
   "source": []
  },
  {
   "cell_type": "code",
   "execution_count": 60,
   "id": "c94ea2c5",
   "metadata": {},
   "outputs": [
    {
     "data": {
      "text/plain": [
       "3.3763886032268267"
      ]
     },
     "execution_count": 60,
     "metadata": {},
     "output_type": "execute_result"
    }
   ],
   "source": [
    "np.sqrt(mean_squared_error(y_actual_test , y_pred_test))"
   ]
  },
  {
   "cell_type": "code",
   "execution_count": null,
   "id": "b1f16b46",
   "metadata": {},
   "outputs": [],
   "source": []
  },
  {
   "cell_type": "code",
   "execution_count": 61,
   "id": "220696ee",
   "metadata": {},
   "outputs": [
    {
     "data": {
      "text/html": [
       "<div>\n",
       "<style scoped>\n",
       "    .dataframe tbody tr th:only-of-type {\n",
       "        vertical-align: middle;\n",
       "    }\n",
       "\n",
       "    .dataframe tbody tr th {\n",
       "        vertical-align: top;\n",
       "    }\n",
       "\n",
       "    .dataframe thead th {\n",
       "        text-align: right;\n",
       "    }\n",
       "</style>\n",
       "<table border=\"1\" class=\"dataframe\">\n",
       "  <thead>\n",
       "    <tr style=\"text-align: right;\">\n",
       "      <th></th>\n",
       "      <th>Player</th>\n",
       "      <th>Share</th>\n",
       "      <th>prediction</th>\n",
       "      <th>RK_actual</th>\n",
       "      <th>RK_predict</th>\n",
       "    </tr>\n",
       "  </thead>\n",
       "  <tbody>\n",
       "    <tr>\n",
       "      <th>14554</th>\n",
       "      <td>Nikola Jokić</td>\n",
       "      <td>0.875</td>\n",
       "      <td>0.188931</td>\n",
       "      <td>1</td>\n",
       "      <td>3</td>\n",
       "    </tr>\n",
       "    <tr>\n",
       "      <th>14497</th>\n",
       "      <td>Joel Embiid</td>\n",
       "      <td>0.706</td>\n",
       "      <td>0.190322</td>\n",
       "      <td>2</td>\n",
       "      <td>2</td>\n",
       "    </tr>\n",
       "    <tr>\n",
       "      <th>14203</th>\n",
       "      <td>Giannis Antetokounmpo</td>\n",
       "      <td>0.595</td>\n",
       "      <td>0.218988</td>\n",
       "      <td>3</td>\n",
       "      <td>1</td>\n",
       "    </tr>\n",
       "    <tr>\n",
       "      <th>14261</th>\n",
       "      <td>Devin Booker</td>\n",
       "      <td>0.216</td>\n",
       "      <td>0.091401</td>\n",
       "      <td>4</td>\n",
       "      <td>11</td>\n",
       "    </tr>\n",
       "    <tr>\n",
       "      <th>14165</th>\n",
       "      <td>Luka Dončić</td>\n",
       "      <td>0.146</td>\n",
       "      <td>0.156639</td>\n",
       "      <td>5</td>\n",
       "      <td>5</td>\n",
       "    </tr>\n",
       "  </tbody>\n",
       "</table>\n",
       "</div>"
      ],
      "text/plain": [
       "                      Player  Share  prediction  RK_actual  RK_predict\n",
       "14554           Nikola Jokić  0.875    0.188931          1           3\n",
       "14497            Joel Embiid  0.706    0.190322          2           2\n",
       "14203  Giannis Antetokounmpo  0.595    0.218988          3           1\n",
       "14261           Devin Booker  0.216    0.091401          4          11\n",
       "14165            Luka Dončić  0.146    0.156639          5           5"
      ]
     },
     "execution_count": 61,
     "metadata": {},
     "output_type": "execute_result"
    }
   ],
   "source": [
    "df_test"
   ]
  },
  {
   "cell_type": "code",
   "execution_count": null,
   "id": "72a300e1",
   "metadata": {},
   "outputs": [],
   "source": []
  },
  {
   "cell_type": "code",
   "execution_count": 62,
   "id": "d05a4858",
   "metadata": {},
   "outputs": [
    {
     "data": {
      "text/plain": [
       "14554             Nikola Jokić\n",
       "14497              Joel Embiid\n",
       "14203    Giannis Antetokounmpo\n",
       "14261             Devin Booker\n",
       "14165              Luka Dončić\n",
       "Name: Player, dtype: object"
      ]
     },
     "execution_count": 62,
     "metadata": {},
     "output_type": "execute_result"
    }
   ],
   "source": [
    "df_test[\"Player\"]"
   ]
  },
  {
   "cell_type": "code",
   "execution_count": null,
   "id": "703b0b93",
   "metadata": {},
   "outputs": [],
   "source": []
  },
  {
   "cell_type": "code",
   "execution_count": 63,
   "id": "f38b214f",
   "metadata": {},
   "outputs": [
    {
     "data": {
      "text/plain": [
       "False"
      ]
     },
     "execution_count": 63,
     "metadata": {},
     "output_type": "execute_result"
    }
   ],
   "source": [
    "df_test.loc[14554][\"Player\"] in df_test[\"Player\"]"
   ]
  },
  {
   "cell_type": "code",
   "execution_count": 64,
   "id": "316e838c",
   "metadata": {},
   "outputs": [
    {
     "data": {
      "text/plain": [
       "'Nikola Jokić'"
      ]
     },
     "execution_count": 64,
     "metadata": {},
     "output_type": "execute_result"
    }
   ],
   "source": [
    "df_test.loc[14554][\"Player\"]"
   ]
  },
  {
   "cell_type": "code",
   "execution_count": null,
   "id": "41ee135c",
   "metadata": {},
   "outputs": [],
   "source": []
  },
  {
   "cell_type": "code",
   "execution_count": null,
   "id": "525b0719",
   "metadata": {},
   "outputs": [],
   "source": []
  },
  {
   "cell_type": "code",
   "execution_count": 65,
   "id": "b31b0623",
   "metadata": {},
   "outputs": [
    {
     "data": {
      "text/plain": [
       "14554     True\n",
       "14497    False\n",
       "14203    False\n",
       "14261    False\n",
       "14165    False\n",
       "Name: Player, dtype: bool"
      ]
     },
     "execution_count": 65,
     "metadata": {},
     "output_type": "execute_result"
    }
   ],
   "source": [
    "df_test[\"Player\"].str.contains(df_test.loc[14554][\"Player\"])"
   ]
  },
  {
   "cell_type": "code",
   "execution_count": null,
   "id": "e8ef48c3",
   "metadata": {},
   "outputs": [],
   "source": []
  },
  {
   "cell_type": "code",
   "execution_count": 66,
   "id": "b14183e7",
   "metadata": {},
   "outputs": [
    {
     "data": {
      "text/plain": [
       "True"
      ]
     },
     "execution_count": 66,
     "metadata": {},
     "output_type": "execute_result"
    }
   ],
   "source": [
    "df_test.loc[14554][\"Player\"] in list(df_test[\"Player\"].values)"
   ]
  },
  {
   "cell_type": "code",
   "execution_count": null,
   "id": "8a72d251",
   "metadata": {},
   "outputs": [],
   "source": []
  },
  {
   "cell_type": "code",
   "execution_count": 67,
   "id": "c4d1db6f",
   "metadata": {},
   "outputs": [
    {
     "name": "stdout",
     "output_type": "stream",
     "text": [
      "14554\n",
      "Player        Nikola Jokić\n",
      "Share                0.875\n",
      "prediction        0.188931\n",
      "RK_actual                1\n",
      "RK_predict               3\n",
      "Name: 14554, dtype: object\n",
      "14497\n",
      "Player        Joel Embiid\n",
      "Share               0.706\n",
      "prediction       0.190322\n",
      "RK_actual               2\n",
      "RK_predict              2\n",
      "Name: 14497, dtype: object\n",
      "14203\n",
      "Player        Giannis Antetokounmpo\n",
      "Share                         0.595\n",
      "prediction                 0.218988\n",
      "RK_actual                         3\n",
      "RK_predict                        1\n",
      "Name: 14203, dtype: object\n",
      "14261\n",
      "Player        Devin Booker\n",
      "Share                0.216\n",
      "prediction        0.091401\n",
      "RK_actual                4\n",
      "RK_predict              11\n",
      "Name: 14261, dtype: object\n",
      "14165\n",
      "Player        Luka Dončić\n",
      "Share               0.146\n",
      "prediction       0.156639\n",
      "RK_actual               5\n",
      "RK_predict              5\n",
      "Name: 14165, dtype: object\n"
     ]
    }
   ],
   "source": [
    "for index , row in df_test.iterrows():\n",
    "    \n",
    "    print(index)\n",
    "    print(row)"
   ]
  },
  {
   "cell_type": "code",
   "execution_count": null,
   "id": "681da267",
   "metadata": {},
   "outputs": [],
   "source": []
  },
  {
   "cell_type": "code",
   "execution_count": 68,
   "id": "64db992a",
   "metadata": {},
   "outputs": [],
   "source": [
    "def acc_metric(DF):\n",
    "    \n",
    "    actual = DF.sort_values(by = [\"Share\"] , ascending = False).head(5)\n",
    "    predicted = DF.sort_values(by = [\"prediction\"] , ascending = False).head(5)\n",
    "    \n",
    "    act_play_list = actual[\"Player\"].values\n",
    "    pred_play_list = predicted[\"Player\"].values\n",
    "    print(\"Actual: \", act_play_list)\n",
    "    print(\"Predicted: \", pred_play_list)\n",
    "    \n",
    "    count = 0\n",
    "    for player_name in act_play_list:\n",
    "        \n",
    "        if player_name in pred_play_list:\n",
    "            count+=1\n",
    "            \n",
    "    return count/len(act_play_list)"
   ]
  },
  {
   "cell_type": "code",
   "execution_count": null,
   "id": "19f78274",
   "metadata": {},
   "outputs": [],
   "source": []
  },
  {
   "cell_type": "code",
   "execution_count": 69,
   "id": "5bb42e4d",
   "metadata": {},
   "outputs": [
    {
     "name": "stdout",
     "output_type": "stream",
     "text": [
      "Actual:  ['Nikola Jokić' 'Joel Embiid' 'Giannis Antetokounmpo' 'Devin Booker'\n",
      " 'Luka Dončić']\n",
      "Predicted:  ['Giannis Antetokounmpo' 'Joel Embiid' 'Nikola Jokić' 'LeBron James'\n",
      " 'Luka Dončić']\n"
     ]
    },
    {
     "data": {
      "text/plain": [
       "0.8"
      ]
     },
     "execution_count": 69,
     "metadata": {},
     "output_type": "execute_result"
    }
   ],
   "source": [
    "acc_metric(DF = rank_df)"
   ]
  },
  {
   "cell_type": "code",
   "execution_count": null,
   "id": "d2d5768e",
   "metadata": {},
   "outputs": [],
   "source": []
  },
  {
   "cell_type": "code",
   "execution_count": 70,
   "id": "80a3d7a6",
   "metadata": {},
   "outputs": [
    {
     "data": {
      "text/html": [
       "<div>\n",
       "<style scoped>\n",
       "    .dataframe tbody tr th:only-of-type {\n",
       "        vertical-align: middle;\n",
       "    }\n",
       "\n",
       "    .dataframe tbody tr th {\n",
       "        vertical-align: top;\n",
       "    }\n",
       "\n",
       "    .dataframe thead th {\n",
       "        text-align: right;\n",
       "    }\n",
       "</style>\n",
       "<table border=\"1\" class=\"dataframe\">\n",
       "  <thead>\n",
       "    <tr style=\"text-align: right;\">\n",
       "      <th></th>\n",
       "      <th>Player</th>\n",
       "      <th>Share</th>\n",
       "      <th>prediction</th>\n",
       "      <th>RK_actual</th>\n",
       "      <th>RK_predict</th>\n",
       "    </tr>\n",
       "  </thead>\n",
       "  <tbody>\n",
       "    <tr>\n",
       "      <th>14554</th>\n",
       "      <td>Nikola Jokić</td>\n",
       "      <td>0.875</td>\n",
       "      <td>0.188931</td>\n",
       "      <td>1</td>\n",
       "      <td>3</td>\n",
       "    </tr>\n",
       "    <tr>\n",
       "      <th>14497</th>\n",
       "      <td>Joel Embiid</td>\n",
       "      <td>0.706</td>\n",
       "      <td>0.190322</td>\n",
       "      <td>2</td>\n",
       "      <td>2</td>\n",
       "    </tr>\n",
       "    <tr>\n",
       "      <th>14203</th>\n",
       "      <td>Giannis Antetokounmpo</td>\n",
       "      <td>0.595</td>\n",
       "      <td>0.218988</td>\n",
       "      <td>3</td>\n",
       "      <td>1</td>\n",
       "    </tr>\n",
       "    <tr>\n",
       "      <th>14261</th>\n",
       "      <td>Devin Booker</td>\n",
       "      <td>0.216</td>\n",
       "      <td>0.091401</td>\n",
       "      <td>4</td>\n",
       "      <td>11</td>\n",
       "    </tr>\n",
       "    <tr>\n",
       "      <th>14165</th>\n",
       "      <td>Luka Dončić</td>\n",
       "      <td>0.146</td>\n",
       "      <td>0.156639</td>\n",
       "      <td>5</td>\n",
       "      <td>5</td>\n",
       "    </tr>\n",
       "    <tr>\n",
       "      <th>14454</th>\n",
       "      <td>Jayson Tatum</td>\n",
       "      <td>0.043</td>\n",
       "      <td>0.094236</td>\n",
       "      <td>6</td>\n",
       "      <td>9</td>\n",
       "    </tr>\n",
       "    <tr>\n",
       "      <th>14513</th>\n",
       "      <td>Ja Morant</td>\n",
       "      <td>0.010</td>\n",
       "      <td>0.120550</td>\n",
       "      <td>7</td>\n",
       "      <td>7</td>\n",
       "    </tr>\n",
       "    <tr>\n",
       "      <th>14322</th>\n",
       "      <td>Stephen Curry</td>\n",
       "      <td>0.004</td>\n",
       "      <td>0.092080</td>\n",
       "      <td>8</td>\n",
       "      <td>10</td>\n",
       "    </tr>\n",
       "    <tr>\n",
       "      <th>14263</th>\n",
       "      <td>Chris Paul</td>\n",
       "      <td>0.002</td>\n",
       "      <td>0.078460</td>\n",
       "      <td>9</td>\n",
       "      <td>12</td>\n",
       "    </tr>\n",
       "    <tr>\n",
       "      <th>14363</th>\n",
       "      <td>LeBron James</td>\n",
       "      <td>0.001</td>\n",
       "      <td>0.157545</td>\n",
       "      <td>10</td>\n",
       "      <td>4</td>\n",
       "    </tr>\n",
       "    <tr>\n",
       "      <th>14635</th>\n",
       "      <td>Kevin Durant</td>\n",
       "      <td>0.001</td>\n",
       "      <td>0.140687</td>\n",
       "      <td>12</td>\n",
       "      <td>6</td>\n",
       "    </tr>\n",
       "    <tr>\n",
       "      <th>14494</th>\n",
       "      <td>DeMar DeRozan</td>\n",
       "      <td>0.001</td>\n",
       "      <td>0.100174</td>\n",
       "      <td>11</td>\n",
       "      <td>8</td>\n",
       "    </tr>\n",
       "  </tbody>\n",
       "</table>\n",
       "</div>"
      ],
      "text/plain": [
       "                      Player  Share  prediction  RK_actual  RK_predict\n",
       "14554           Nikola Jokić  0.875    0.188931          1           3\n",
       "14497            Joel Embiid  0.706    0.190322          2           2\n",
       "14203  Giannis Antetokounmpo  0.595    0.218988          3           1\n",
       "14261           Devin Booker  0.216    0.091401          4          11\n",
       "14165            Luka Dončić  0.146    0.156639          5           5\n",
       "14454           Jayson Tatum  0.043    0.094236          6           9\n",
       "14513              Ja Morant  0.010    0.120550          7           7\n",
       "14322          Stephen Curry  0.004    0.092080          8          10\n",
       "14263             Chris Paul  0.002    0.078460          9          12\n",
       "14363           LeBron James  0.001    0.157545         10           4\n",
       "14635           Kevin Durant  0.001    0.140687         12           6\n",
       "14494          DeMar DeRozan  0.001    0.100174         11           8"
      ]
     },
     "execution_count": 70,
     "metadata": {},
     "output_type": "execute_result"
    }
   ],
   "source": [
    "rank_df"
   ]
  },
  {
   "cell_type": "code",
   "execution_count": null,
   "id": "47fbdd67",
   "metadata": {},
   "outputs": [],
   "source": []
  },
  {
   "cell_type": "code",
   "execution_count": 71,
   "id": "824fbc5d",
   "metadata": {},
   "outputs": [],
   "source": [
    "def acc_metric(DF):\n",
    "    \n",
    "    actual = DF.sort_values(by = [\"Share\"] , ascending = False).head(5)\n",
    "    predicted = DF.sort_values(by = [\"prediction\"] , ascending = False).head(5)\n",
    "    \n",
    "    act_play_list = actual[\"Player\"].values\n",
    "    pred_play_list = predicted[\"Player\"].values\n",
    "    #print(\"Actual: \", act_play_list)\n",
    "    #print(\"Predicted: \", pred_play_list)\n",
    "    \n",
    "    score_list = []\n",
    "    for player_name in act_play_list:\n",
    "        \n",
    "        if player_name in pred_play_list:\n",
    "            score_list.append(1)\n",
    "        \n",
    "        else:\n",
    "            \n",
    "            rank_predicted = DF[DF[\"Player\"] == \"Devin Booker\"][\"RK_predict\"].iloc[0]\n",
    "            penalty = np.round(5/rank_predicted,3)\n",
    "            score_list.append(penalty)\n",
    "            \n",
    "    # print(f\"Accuracy Score for the NBA Season : {year}\")        \n",
    "    accuracy = np.round(sum(score_list)/len(score_list),2)\n",
    "    \n",
    "    return score_list, accuracy"
   ]
  },
  {
   "cell_type": "code",
   "execution_count": null,
   "id": "7319eb71",
   "metadata": {},
   "outputs": [],
   "source": []
  },
  {
   "cell_type": "code",
   "execution_count": 72,
   "id": "afc8516e",
   "metadata": {},
   "outputs": [
    {
     "data": {
      "text/html": [
       "<div>\n",
       "<style scoped>\n",
       "    .dataframe tbody tr th:only-of-type {\n",
       "        vertical-align: middle;\n",
       "    }\n",
       "\n",
       "    .dataframe tbody tr th {\n",
       "        vertical-align: top;\n",
       "    }\n",
       "\n",
       "    .dataframe thead th {\n",
       "        text-align: right;\n",
       "    }\n",
       "</style>\n",
       "<table border=\"1\" class=\"dataframe\">\n",
       "  <thead>\n",
       "    <tr style=\"text-align: right;\">\n",
       "      <th></th>\n",
       "      <th>Player</th>\n",
       "      <th>Share</th>\n",
       "      <th>prediction</th>\n",
       "      <th>RK_actual</th>\n",
       "      <th>RK_predict</th>\n",
       "    </tr>\n",
       "  </thead>\n",
       "  <tbody>\n",
       "    <tr>\n",
       "      <th>14554</th>\n",
       "      <td>Nikola Jokić</td>\n",
       "      <td>0.875</td>\n",
       "      <td>0.188931</td>\n",
       "      <td>1</td>\n",
       "      <td>3</td>\n",
       "    </tr>\n",
       "    <tr>\n",
       "      <th>14497</th>\n",
       "      <td>Joel Embiid</td>\n",
       "      <td>0.706</td>\n",
       "      <td>0.190322</td>\n",
       "      <td>2</td>\n",
       "      <td>2</td>\n",
       "    </tr>\n",
       "    <tr>\n",
       "      <th>14203</th>\n",
       "      <td>Giannis Antetokounmpo</td>\n",
       "      <td>0.595</td>\n",
       "      <td>0.218988</td>\n",
       "      <td>3</td>\n",
       "      <td>1</td>\n",
       "    </tr>\n",
       "    <tr>\n",
       "      <th>14261</th>\n",
       "      <td>Devin Booker</td>\n",
       "      <td>0.216</td>\n",
       "      <td>0.091401</td>\n",
       "      <td>4</td>\n",
       "      <td>11</td>\n",
       "    </tr>\n",
       "    <tr>\n",
       "      <th>14165</th>\n",
       "      <td>Luka Dončić</td>\n",
       "      <td>0.146</td>\n",
       "      <td>0.156639</td>\n",
       "      <td>5</td>\n",
       "      <td>5</td>\n",
       "    </tr>\n",
       "    <tr>\n",
       "      <th>14454</th>\n",
       "      <td>Jayson Tatum</td>\n",
       "      <td>0.043</td>\n",
       "      <td>0.094236</td>\n",
       "      <td>6</td>\n",
       "      <td>9</td>\n",
       "    </tr>\n",
       "    <tr>\n",
       "      <th>14513</th>\n",
       "      <td>Ja Morant</td>\n",
       "      <td>0.010</td>\n",
       "      <td>0.120550</td>\n",
       "      <td>7</td>\n",
       "      <td>7</td>\n",
       "    </tr>\n",
       "    <tr>\n",
       "      <th>14322</th>\n",
       "      <td>Stephen Curry</td>\n",
       "      <td>0.004</td>\n",
       "      <td>0.092080</td>\n",
       "      <td>8</td>\n",
       "      <td>10</td>\n",
       "    </tr>\n",
       "    <tr>\n",
       "      <th>14263</th>\n",
       "      <td>Chris Paul</td>\n",
       "      <td>0.002</td>\n",
       "      <td>0.078460</td>\n",
       "      <td>9</td>\n",
       "      <td>12</td>\n",
       "    </tr>\n",
       "    <tr>\n",
       "      <th>14363</th>\n",
       "      <td>LeBron James</td>\n",
       "      <td>0.001</td>\n",
       "      <td>0.157545</td>\n",
       "      <td>10</td>\n",
       "      <td>4</td>\n",
       "    </tr>\n",
       "    <tr>\n",
       "      <th>14635</th>\n",
       "      <td>Kevin Durant</td>\n",
       "      <td>0.001</td>\n",
       "      <td>0.140687</td>\n",
       "      <td>12</td>\n",
       "      <td>6</td>\n",
       "    </tr>\n",
       "    <tr>\n",
       "      <th>14494</th>\n",
       "      <td>DeMar DeRozan</td>\n",
       "      <td>0.001</td>\n",
       "      <td>0.100174</td>\n",
       "      <td>11</td>\n",
       "      <td>8</td>\n",
       "    </tr>\n",
       "  </tbody>\n",
       "</table>\n",
       "</div>"
      ],
      "text/plain": [
       "                      Player  Share  prediction  RK_actual  RK_predict\n",
       "14554           Nikola Jokić  0.875    0.188931          1           3\n",
       "14497            Joel Embiid  0.706    0.190322          2           2\n",
       "14203  Giannis Antetokounmpo  0.595    0.218988          3           1\n",
       "14261           Devin Booker  0.216    0.091401          4          11\n",
       "14165            Luka Dončić  0.146    0.156639          5           5\n",
       "14454           Jayson Tatum  0.043    0.094236          6           9\n",
       "14513              Ja Morant  0.010    0.120550          7           7\n",
       "14322          Stephen Curry  0.004    0.092080          8          10\n",
       "14263             Chris Paul  0.002    0.078460          9          12\n",
       "14363           LeBron James  0.001    0.157545         10           4\n",
       "14635           Kevin Durant  0.001    0.140687         12           6\n",
       "14494          DeMar DeRozan  0.001    0.100174         11           8"
      ]
     },
     "execution_count": 72,
     "metadata": {},
     "output_type": "execute_result"
    }
   ],
   "source": [
    "rank_df"
   ]
  },
  {
   "cell_type": "code",
   "execution_count": null,
   "id": "f0a5f8ab",
   "metadata": {},
   "outputs": [],
   "source": []
  },
  {
   "cell_type": "code",
   "execution_count": 73,
   "id": "d7b54fdf",
   "metadata": {},
   "outputs": [
    {
     "data": {
      "text/plain": [
       "11"
      ]
     },
     "execution_count": 73,
     "metadata": {},
     "output_type": "execute_result"
    }
   ],
   "source": [
    "rank_df[rank_df[\"Player\"] == \"Devin Booker\"][\"RK_predict\"].iloc[0]"
   ]
  },
  {
   "cell_type": "code",
   "execution_count": 74,
   "id": "34d2ee08",
   "metadata": {},
   "outputs": [
    {
     "data": {
      "text/plain": [
       "([1, 1, 1, 0.455, 1], 0.89)"
      ]
     },
     "execution_count": 74,
     "metadata": {},
     "output_type": "execute_result"
    }
   ],
   "source": [
    "acc_metric(DF = rank_df )"
   ]
  },
  {
   "cell_type": "code",
   "execution_count": null,
   "id": "7ac5d7f4",
   "metadata": {},
   "outputs": [],
   "source": []
  },
  {
   "cell_type": "code",
   "execution_count": null,
   "id": "52688ad4",
   "metadata": {},
   "outputs": [],
   "source": []
  },
  {
   "cell_type": "markdown",
   "id": "6278ffee",
   "metadata": {},
   "source": [
    "## Back Testing"
   ]
  },
  {
   "cell_type": "code",
   "execution_count": null,
   "id": "cab99658",
   "metadata": {},
   "outputs": [],
   "source": []
  },
  {
   "cell_type": "code",
   "execution_count": 75,
   "id": "97493197",
   "metadata": {},
   "outputs": [],
   "source": [
    "years = list(range(1991,2023))"
   ]
  },
  {
   "cell_type": "code",
   "execution_count": 76,
   "id": "5f62b8d9",
   "metadata": {},
   "outputs": [],
   "source": [
    "predictor = ['Age', 'G', 'GS', 'MP', 'FG', 'FGA', 'FG%', '3P',\n",
    "       '3PA', '3P%', '2P', '2PA', '2P%', 'eFG%', 'FT', 'FTA', 'FT%', 'ORB',\n",
    "       'DRB', 'TRB', 'AST', 'STL', 'BLK', 'TOV', 'PF', 'PTS', 'Year',\n",
    "        'W', 'L', 'W/L%', 'GB', 'PS/G','PA/G', 'SRS']"
   ]
  },
  {
   "cell_type": "code",
   "execution_count": 77,
   "id": "7bf5a1c2",
   "metadata": {},
   "outputs": [],
   "source": [
    "from sklearn.linear_model import Ridge"
   ]
  },
  {
   "cell_type": "code",
   "execution_count": 78,
   "id": "c2acaebc",
   "metadata": {},
   "outputs": [],
   "source": [
    "# years"
   ]
  },
  {
   "cell_type": "code",
   "execution_count": null,
   "id": "7cc693b5",
   "metadata": {},
   "outputs": [],
   "source": []
  },
  {
   "cell_type": "code",
   "execution_count": null,
   "id": "8e944ddc",
   "metadata": {},
   "outputs": [],
   "source": []
  },
  {
   "cell_type": "code",
   "execution_count": 79,
   "id": "9431dd20",
   "metadata": {},
   "outputs": [],
   "source": [
    "# def acc_metric(DF,year):\n",
    "    \n",
    "#     actual = DF.sort_values(by = [\"Share\"] , ascending = False).head(5)\n",
    "#     predicted = DF.sort_values(by = [\"prediction\"] , ascending = False).head(5)\n",
    "    \n",
    "#     act_play_list = actual[\"Player\"].values\n",
    "#     pred_play_list = predicted[\"Player\"].values\n",
    "#     #print(\"Actual: \", act_play_list)\n",
    "#     #print(\"Predicted: \", pred_play_list)\n",
    "    \n",
    "#     count = 0\n",
    "#     for player_name in act_play_list:\n",
    "        \n",
    "#         if player_name in pred_play_list:\n",
    "#             count+=1\n",
    "#     # print(f\"Accuracy Score for the NBA Season : {year}\")        \n",
    "#     accuracy = count/len(act_play_list)\n",
    "    \n",
    "#     return accuracy"
   ]
  },
  {
   "cell_type": "code",
   "execution_count": null,
   "id": "20ef65ee",
   "metadata": {},
   "outputs": [],
   "source": []
  },
  {
   "cell_type": "code",
   "execution_count": null,
   "id": "a1fdc53a",
   "metadata": {},
   "outputs": [],
   "source": []
  },
  {
   "cell_type": "code",
   "execution_count": null,
   "id": "6799061a",
   "metadata": {},
   "outputs": [],
   "source": []
  },
  {
   "cell_type": "code",
   "execution_count": null,
   "id": "88d1a38e",
   "metadata": {},
   "outputs": [],
   "source": []
  },
  {
   "cell_type": "code",
   "execution_count": 93,
   "id": "7b6de44c",
   "metadata": {},
   "outputs": [],
   "source": [
    "def acc_metric(DF):\n",
    "    \n",
    "    actual = DF.sort_values(by = [\"Share\"] , ascending = False).head(5)\n",
    "    #print(actual)\n",
    "    predicted = DF.sort_values(by = [\"prediction\"] , ascending = False).head(5)\n",
    "    #print(predicted)\n",
    "    \n",
    "    act_play_list = actual[\"Player\"].values\n",
    "\n",
    "    pred_play_list = predicted[\"Player\"].values\n",
    "    #print(\"Actual: \", act_play_list)\n",
    "    #print(\"Predicted: \", pred_play_list)\n",
    "    \n",
    "    score_list = []\n",
    "    for player_name in act_play_list:\n",
    "        \n",
    "        if player_name in pred_play_list:\n",
    "            score_list.append(1)\n",
    "            #print(score_list)\n",
    "        \n",
    "        else:\n",
    "            \n",
    "            rank_predicted = DF[DF[\"Player\"] == player_name][\"RK_predict\"].iloc[0]\n",
    "            penalty = np.round(5/rank_predicted,3)\n",
    "            score_list.append(penalty)\n",
    "            #print(score_list)\n",
    "            \n",
    "    # print(f\"Accuracy Score for the NBA Season : {year}\")        \n",
    "    accuracy = np.round(sum(score_list)/len(score_list),2)\n",
    "    \n",
    "    return score_list, accuracy"
   ]
  },
  {
   "cell_type": "code",
   "execution_count": null,
   "id": "c8536686",
   "metadata": {},
   "outputs": [],
   "source": []
  },
  {
   "cell_type": "code",
   "execution_count": 94,
   "id": "c7c3891d",
   "metadata": {
    "scrolled": false
   },
   "outputs": [
    {
     "name": "stdout",
     "output_type": "stream",
     "text": [
      "Accuracy Score list for the NBA Season 1996 : [1, 1, 0.5, 1, 0.417]\n",
      "Accuracy Score for the NBA Season 1996 : 0.78\n",
      "\n",
      "\n",
      "Accuracy Score list for the NBA Season 1997 : [1, 1, 1, 0.357, 0.278]\n",
      "Accuracy Score for the NBA Season 1997 : 0.73\n",
      "\n",
      "\n",
      "Accuracy Score list for the NBA Season 1998 : [1, 1, 0.625, 1, 1]\n",
      "Accuracy Score for the NBA Season 1998 : 0.92\n",
      "\n",
      "\n",
      "Accuracy Score list for the NBA Season 1999 : [1, 1, 0.833, 0.455, 0.357]\n",
      "Accuracy Score for the NBA Season 1999 : 0.73\n",
      "\n",
      "\n",
      "Accuracy Score list for the NBA Season 2000 : [1, 0.833, 1, 1, 0.714]\n",
      "Accuracy Score for the NBA Season 2000 : 0.91\n",
      "\n",
      "\n",
      "Accuracy Score list for the NBA Season 2001 : [0.833, 1, 1, 1, 1]\n",
      "Accuracy Score for the NBA Season 2001 : 0.97\n",
      "\n",
      "\n",
      "Accuracy Score list for the NBA Season 2002 : [1, 0.312, 1, 1, 0.714]\n",
      "Accuracy Score for the NBA Season 2002 : 0.81\n",
      "\n",
      "\n",
      "Accuracy Score list for the NBA Season 2003 : [1, 1, 0.833, 1, 1]\n",
      "Accuracy Score for the NBA Season 2003 : 0.97\n",
      "\n",
      "\n",
      "Accuracy Score list for the NBA Season 2004 : [1, 1, 1, 0.357, 0.833]\n",
      "Accuracy Score for the NBA Season 2004 : 0.84\n",
      "\n",
      "\n",
      "Accuracy Score list for the NBA Season 2005 : [0.357, 1, 1, 1, 0.625]\n",
      "Accuracy Score for the NBA Season 2005 : 0.8\n",
      "\n",
      "\n",
      "Accuracy Score list for the NBA Season 2006 : [0.5, 1, 0.714, 1, 0.455]\n",
      "Accuracy Score for the NBA Season 2006 : 0.73\n",
      "\n",
      "\n",
      "Accuracy Score list for the NBA Season 2007 : [0.833, 0.357, 0.714, 1, 1]\n",
      "Accuracy Score for the NBA Season 2007 : 0.78\n",
      "\n",
      "\n",
      "Accuracy Score list for the NBA Season 2008 : [0.625, 1, 1, 1, 1]\n",
      "Accuracy Score for the NBA Season 2008 : 0.92\n",
      "\n",
      "\n",
      "Accuracy Score list for the NBA Season 2009 : [1, 0.714, 1, 1, 1]\n",
      "Accuracy Score for the NBA Season 2009 : 0.94\n",
      "\n",
      "\n",
      "Accuracy Score list for the NBA Season 2010 : [1, 0.833, 0.714, 1, 1]\n",
      "Accuracy Score for the NBA Season 2010 : 0.91\n",
      "\n",
      "\n",
      "Accuracy Score list for the NBA Season 2011 : [0.556, 1, 1, 0.714, 0.833]\n",
      "Accuracy Score for the NBA Season 2011 : 0.82\n",
      "\n",
      "\n",
      "Accuracy Score list for the NBA Season 2012 : [1, 1, 0.833, 0.556, 0.625]\n",
      "Accuracy Score for the NBA Season 2012 : 0.8\n",
      "\n",
      "\n",
      "Accuracy Score list for the NBA Season 2013 : [1, 1, 0.5, 0.833, 1]\n",
      "Accuracy Score for the NBA Season 2013 : 0.87\n",
      "\n",
      "\n",
      "Accuracy Score list for the NBA Season 2014 : [1, 1, 1, 0.294, 0.5]\n",
      "Accuracy Score for the NBA Season 2014 : 0.76\n",
      "\n",
      "\n",
      "Accuracy Score list for the NBA Season 2015 : [1, 1, 1, 1, 1]\n",
      "Accuracy Score for the NBA Season 2015 : 1.0\n",
      "\n",
      "\n",
      "Accuracy Score list for the NBA Season 2016 : [1, 0.714, 1, 1, 1]\n",
      "Accuracy Score for the NBA Season 2016 : 0.94\n",
      "\n",
      "\n",
      "Accuracy Score list for the NBA Season 2017 : [1, 1, 0.714, 1, 0.625]\n",
      "Accuracy Score for the NBA Season 2017 : 0.87\n",
      "\n",
      "\n",
      "Accuracy Score list for the NBA Season 2018 : [1, 1, 1, 0.556, 0.714]\n",
      "Accuracy Score for the NBA Season 2018 : 0.85\n",
      "\n",
      "\n",
      "Accuracy Score list for the NBA Season 2019 : [1, 1, 0.625, 0.556, 0.5]\n",
      "Accuracy Score for the NBA Season 2019 : 0.74\n",
      "\n",
      "\n",
      "Accuracy Score list for the NBA Season 2020 : [1, 1, 1, 1, 0.833]\n",
      "Accuracy Score for the NBA Season 2020 : 0.97\n",
      "\n",
      "\n",
      "Accuracy Score list for the NBA Season 2021 : [1, 1, 0.714, 1, 0.385]\n",
      "Accuracy Score for the NBA Season 2021 : 0.82\n",
      "\n",
      "\n",
      "Accuracy Score list for the NBA Season 2022 : [1, 1, 1, 0.455, 1]\n",
      "Accuracy Score for the NBA Season 2022 : 0.89\n",
      "\n",
      "\n"
     ]
    }
   ],
   "source": [
    "accuracy_score = []\n",
    "\n",
    "for year in years[5:]:\n",
    "    \n",
    "    d_train = stats[stats[\"Year\"] < year]\n",
    "    d_test = stats[stats[\"Year\"]  == year]\n",
    "    \n",
    "    # print(d_test)\n",
    "    X_train = d_train[predictor]\n",
    "    #print(X_train)\n",
    "    y_train = d_train[\"Share\"]\n",
    "    # print(y_train)\n",
    "    X_test =  d_test[predictor]\n",
    "    # print(X_test)\n",
    "    y_test =  d_test[\"Share\"] \n",
    "    #print(y_test)\n",
    "    \n",
    "    \n",
    "    reg = Ridge(alpha = 0.1)\n",
    "\n",
    "    reg.fit(X_train , y_train)\n",
    "    \n",
    "    predictions = reg.predict(X_test)\n",
    "    \n",
    "    # print(len(predictions))\n",
    "    # X_test.index\n",
    "\n",
    "    pred_DF = pd.DataFrame(data = predictions , columns = [\"prediction\"] , index = X_test.index )\n",
    "    \n",
    "    combination  = pd.concat([d_test[[\"Player\" , \"Share\"]] ,pred_DF ], axis = 1)\n",
    "    \n",
    "    # print(combination)\n",
    "    rank_df = combination.copy()\n",
    "    \n",
    "    rank_df = rank_df[rank_df[\"Share\"] > 0]\n",
    "    \n",
    "    # print(rank_df)\n",
    "    \n",
    "    # Sorting for Actual ranking\n",
    "    rank_df = rank_df.sort_values(by = [\"Share\"] , ascending = False )\n",
    "    # Assigning Actual Rank\n",
    "    rank_df[\"RK_actual\"] = list(range(1,len(rank_df)+1))\n",
    "    \n",
    "    #print(rank_df)\n",
    "    \n",
    "    # Sorting for Predicted Rank\n",
    "    rank_df = rank_df.sort_values(by = [\"prediction\"] , ascending = False)\n",
    "    # Assigning Predicted Rank\n",
    "    rank_df[\"RK_predict\"] = list(range(1,len(rank_df)+1))\n",
    "    \n",
    "    #print(rank_df)\n",
    "    \n",
    "    # acc_metric(DF = rank_df , year = year)\n",
    "    accuracy_list , accuracy = acc_metric(DF = rank_df)\n",
    "    accuracy_score.append(accuracy)\n",
    "    \n",
    "    print(f\"Accuracy Score list for the NBA Season {year} : {accuracy_list}\")\n",
    "    print(f\"Accuracy Score for the NBA Season {year} : {accuracy}\\n\\n\")\n",
    "          \n",
    "#print(f\"Average Accuracy Score Accross all seasons : {sum(accuracy_score)/len(accuracy_score)}\")          "
   ]
  },
  {
   "cell_type": "code",
   "execution_count": null,
   "id": "170bbfb5",
   "metadata": {},
   "outputs": [],
   "source": []
  },
  {
   "cell_type": "code",
   "execution_count": 95,
   "id": "71ff22dd",
   "metadata": {},
   "outputs": [
    {
     "name": "stdout",
     "output_type": "stream",
     "text": [
      "[0.78, 0.73, 0.92, 0.73, 0.91, 0.97, 0.81, 0.97, 0.84, 0.8, 0.73, 0.78, 0.92, 0.94, 0.91, 0.82, 0.8, 0.87, 0.76, 1.0, 0.94, 0.87, 0.85, 0.74, 0.97, 0.82, 0.89]\n"
     ]
    }
   ],
   "source": [
    "print(accuracy_score)"
   ]
  },
  {
   "cell_type": "code",
   "execution_count": null,
   "id": "dfce7f5a",
   "metadata": {},
   "outputs": [],
   "source": []
  },
  {
   "cell_type": "code",
   "execution_count": 97,
   "id": "82cbfc22",
   "metadata": {},
   "outputs": [
    {
     "data": {
      "text/plain": [
       "0.85"
      ]
     },
     "execution_count": 97,
     "metadata": {},
     "output_type": "execute_result"
    }
   ],
   "source": [
    "np.round(sum(accuracy_score)/len(accuracy_score),2)"
   ]
  },
  {
   "cell_type": "code",
   "execution_count": null,
   "id": "1a322f39",
   "metadata": {},
   "outputs": [],
   "source": []
  },
  {
   "cell_type": "code",
   "execution_count": null,
   "id": "a4417e4e",
   "metadata": {},
   "outputs": [],
   "source": []
  }
 ],
 "metadata": {
  "kernelspec": {
   "display_name": "Python 3 (ipykernel)",
   "language": "python",
   "name": "python3"
  },
  "language_info": {
   "codemirror_mode": {
    "name": "ipython",
    "version": 3
   },
   "file_extension": ".py",
   "mimetype": "text/x-python",
   "name": "python",
   "nbconvert_exporter": "python",
   "pygments_lexer": "ipython3",
   "version": "3.10.9"
  }
 },
 "nbformat": 4,
 "nbformat_minor": 5
}
